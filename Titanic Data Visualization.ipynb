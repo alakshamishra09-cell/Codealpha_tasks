{
 "cells": [
  {
   "cell_type": "markdown",
   "id": "a52281b2-1542-472b-8528-512565e66471",
   "metadata": {},
   "source": [
    "---------------------------------------------------------------------------------------------------------------------------------------------\n",
    "---------------------------------------------------------------------------------------------------------------------------------------------\n",
    "# Titanic Data Visualization\n",
    "# By [Alaksha Mishra]\n",
    "----------------------------------------------------------------------------------------------------------------------------------------------\n",
    "----------------------------------------------------------------------------------------------------------------------------------------------"
   ]
  },
  {
   "cell_type": "markdown",
   "id": "83b3c36b-a431-435d-b1f2-e9dcd8fac01d",
   "metadata": {},
   "source": [
    "# 1. Introduction\n",
    "\n",
    "The Titanic dataset is a classic case for exploring survival prediction and passenger demographics.\n",
    "\n",
    "In this analysis, we will:\n",
    "\n",
    "Explore survival rates across gender, class, age, and family size.\n",
    "\n",
    "Engineer a new feature: Family Size.\n",
    "\n",
    "Use visualizations (Matplotlib, Seaborn, Plotly) to tell a clear data story."
   ]
  },
  {
   "cell_type": "markdown",
   "id": "cfbcf832-fbf8-4aa1-85d2-cb4868ab17c4",
   "metadata": {},
   "source": [
    "# 2. Import libraries"
   ]
  },
  {
   "cell_type": "code",
   "execution_count": 1,
   "id": "3e890faf-0eda-41f1-9b9c-60ea2dfbce93",
   "metadata": {},
   "outputs": [
    {
     "data": {
      "text/html": [
       "<div>\n",
       "<style scoped>\n",
       "    .dataframe tbody tr th:only-of-type {\n",
       "        vertical-align: middle;\n",
       "    }\n",
       "\n",
       "    .dataframe tbody tr th {\n",
       "        vertical-align: top;\n",
       "    }\n",
       "\n",
       "    .dataframe thead th {\n",
       "        text-align: right;\n",
       "    }\n",
       "</style>\n",
       "<table border=\"1\" class=\"dataframe\">\n",
       "  <thead>\n",
       "    <tr style=\"text-align: right;\">\n",
       "      <th></th>\n",
       "      <th>survived</th>\n",
       "      <th>pclass</th>\n",
       "      <th>sex</th>\n",
       "      <th>age</th>\n",
       "      <th>sibsp</th>\n",
       "      <th>parch</th>\n",
       "      <th>fare</th>\n",
       "      <th>embarked</th>\n",
       "      <th>class</th>\n",
       "      <th>who</th>\n",
       "      <th>adult_male</th>\n",
       "      <th>deck</th>\n",
       "      <th>embark_town</th>\n",
       "      <th>alive</th>\n",
       "      <th>alone</th>\n",
       "    </tr>\n",
       "  </thead>\n",
       "  <tbody>\n",
       "    <tr>\n",
       "      <th>0</th>\n",
       "      <td>0</td>\n",
       "      <td>3</td>\n",
       "      <td>male</td>\n",
       "      <td>22.0</td>\n",
       "      <td>1</td>\n",
       "      <td>0</td>\n",
       "      <td>7.2500</td>\n",
       "      <td>S</td>\n",
       "      <td>Third</td>\n",
       "      <td>man</td>\n",
       "      <td>True</td>\n",
       "      <td>NaN</td>\n",
       "      <td>Southampton</td>\n",
       "      <td>no</td>\n",
       "      <td>False</td>\n",
       "    </tr>\n",
       "    <tr>\n",
       "      <th>1</th>\n",
       "      <td>1</td>\n",
       "      <td>1</td>\n",
       "      <td>female</td>\n",
       "      <td>38.0</td>\n",
       "      <td>1</td>\n",
       "      <td>0</td>\n",
       "      <td>71.2833</td>\n",
       "      <td>C</td>\n",
       "      <td>First</td>\n",
       "      <td>woman</td>\n",
       "      <td>False</td>\n",
       "      <td>C</td>\n",
       "      <td>Cherbourg</td>\n",
       "      <td>yes</td>\n",
       "      <td>False</td>\n",
       "    </tr>\n",
       "    <tr>\n",
       "      <th>2</th>\n",
       "      <td>1</td>\n",
       "      <td>3</td>\n",
       "      <td>female</td>\n",
       "      <td>26.0</td>\n",
       "      <td>0</td>\n",
       "      <td>0</td>\n",
       "      <td>7.9250</td>\n",
       "      <td>S</td>\n",
       "      <td>Third</td>\n",
       "      <td>woman</td>\n",
       "      <td>False</td>\n",
       "      <td>NaN</td>\n",
       "      <td>Southampton</td>\n",
       "      <td>yes</td>\n",
       "      <td>True</td>\n",
       "    </tr>\n",
       "    <tr>\n",
       "      <th>3</th>\n",
       "      <td>1</td>\n",
       "      <td>1</td>\n",
       "      <td>female</td>\n",
       "      <td>35.0</td>\n",
       "      <td>1</td>\n",
       "      <td>0</td>\n",
       "      <td>53.1000</td>\n",
       "      <td>S</td>\n",
       "      <td>First</td>\n",
       "      <td>woman</td>\n",
       "      <td>False</td>\n",
       "      <td>C</td>\n",
       "      <td>Southampton</td>\n",
       "      <td>yes</td>\n",
       "      <td>False</td>\n",
       "    </tr>\n",
       "    <tr>\n",
       "      <th>4</th>\n",
       "      <td>0</td>\n",
       "      <td>3</td>\n",
       "      <td>male</td>\n",
       "      <td>35.0</td>\n",
       "      <td>0</td>\n",
       "      <td>0</td>\n",
       "      <td>8.0500</td>\n",
       "      <td>S</td>\n",
       "      <td>Third</td>\n",
       "      <td>man</td>\n",
       "      <td>True</td>\n",
       "      <td>NaN</td>\n",
       "      <td>Southampton</td>\n",
       "      <td>no</td>\n",
       "      <td>True</td>\n",
       "    </tr>\n",
       "  </tbody>\n",
       "</table>\n",
       "</div>"
      ],
      "text/plain": [
       "   survived  pclass     sex   age  sibsp  parch     fare embarked  class  \\\n",
       "0         0       3    male  22.0      1      0   7.2500        S  Third   \n",
       "1         1       1  female  38.0      1      0  71.2833        C  First   \n",
       "2         1       3  female  26.0      0      0   7.9250        S  Third   \n",
       "3         1       1  female  35.0      1      0  53.1000        S  First   \n",
       "4         0       3    male  35.0      0      0   8.0500        S  Third   \n",
       "\n",
       "     who  adult_male deck  embark_town alive  alone  \n",
       "0    man        True  NaN  Southampton    no  False  \n",
       "1  woman       False    C    Cherbourg   yes  False  \n",
       "2  woman       False  NaN  Southampton   yes   True  \n",
       "3  woman       False    C  Southampton   yes  False  \n",
       "4    man        True  NaN  Southampton    no   True  "
      ]
     },
     "execution_count": 1,
     "metadata": {},
     "output_type": "execute_result"
    }
   ],
   "source": [
    "\n",
    "import pandas as pd\n",
    "import numpy as np\n",
    "import seaborn as sns\n",
    "import matplotlib.pyplot as plt\n",
    "import plotly.express as px\n",
    "\n",
    "# Set style\n",
    "sns.set(style=\"whitegrid\", palette=\"muted\", font_scale=1.1)\n",
    "plt.rcParams['figure.figsize'] = (8, 5)\n",
    "\n",
    "# Load Titanic dataset\n",
    "df = sns.load_dataset(\"titanic\")\n",
    "df.head()"
   ]
  },
  {
   "cell_type": "markdown",
   "id": "0a30699c-ace7-4910-a562-feb34e0c0951",
   "metadata": {},
   "source": [
    "# 3. Data Exploration"
   ]
  },
  {
   "cell_type": "code",
   "execution_count": 2,
   "id": "91257226-a52a-4124-aa6d-49e913814963",
   "metadata": {},
   "outputs": [
    {
     "name": "stdout",
     "output_type": "stream",
     "text": [
      "(891, 15)\n",
      "<class 'pandas.core.frame.DataFrame'>\n",
      "RangeIndex: 891 entries, 0 to 890\n",
      "Data columns (total 15 columns):\n",
      " #   Column       Non-Null Count  Dtype   \n",
      "---  ------       --------------  -----   \n",
      " 0   survived     891 non-null    int64   \n",
      " 1   pclass       891 non-null    int64   \n",
      " 2   sex          891 non-null    object  \n",
      " 3   age          714 non-null    float64 \n",
      " 4   sibsp        891 non-null    int64   \n",
      " 5   parch        891 non-null    int64   \n",
      " 6   fare         891 non-null    float64 \n",
      " 7   embarked     889 non-null    object  \n",
      " 8   class        891 non-null    category\n",
      " 9   who          891 non-null    object  \n",
      " 10  adult_male   891 non-null    bool    \n",
      " 11  deck         203 non-null    category\n",
      " 12  embark_town  889 non-null    object  \n",
      " 13  alive        891 non-null    object  \n",
      " 14  alone        891 non-null    bool    \n",
      "dtypes: bool(2), category(2), float64(2), int64(4), object(5)\n",
      "memory usage: 80.7+ KB\n",
      "None\n"
     ]
    },
    {
     "data": {
      "text/html": [
       "<div>\n",
       "<style scoped>\n",
       "    .dataframe tbody tr th:only-of-type {\n",
       "        vertical-align: middle;\n",
       "    }\n",
       "\n",
       "    .dataframe tbody tr th {\n",
       "        vertical-align: top;\n",
       "    }\n",
       "\n",
       "    .dataframe thead th {\n",
       "        text-align: right;\n",
       "    }\n",
       "</style>\n",
       "<table border=\"1\" class=\"dataframe\">\n",
       "  <thead>\n",
       "    <tr style=\"text-align: right;\">\n",
       "      <th></th>\n",
       "      <th>count</th>\n",
       "      <th>unique</th>\n",
       "      <th>top</th>\n",
       "      <th>freq</th>\n",
       "      <th>mean</th>\n",
       "      <th>std</th>\n",
       "      <th>min</th>\n",
       "      <th>25%</th>\n",
       "      <th>50%</th>\n",
       "      <th>75%</th>\n",
       "      <th>max</th>\n",
       "    </tr>\n",
       "  </thead>\n",
       "  <tbody>\n",
       "    <tr>\n",
       "      <th>survived</th>\n",
       "      <td>891.0</td>\n",
       "      <td>NaN</td>\n",
       "      <td>NaN</td>\n",
       "      <td>NaN</td>\n",
       "      <td>0.383838</td>\n",
       "      <td>0.486592</td>\n",
       "      <td>0.0</td>\n",
       "      <td>0.0</td>\n",
       "      <td>0.0</td>\n",
       "      <td>1.0</td>\n",
       "      <td>1.0</td>\n",
       "    </tr>\n",
       "    <tr>\n",
       "      <th>pclass</th>\n",
       "      <td>891.0</td>\n",
       "      <td>NaN</td>\n",
       "      <td>NaN</td>\n",
       "      <td>NaN</td>\n",
       "      <td>2.308642</td>\n",
       "      <td>0.836071</td>\n",
       "      <td>1.0</td>\n",
       "      <td>2.0</td>\n",
       "      <td>3.0</td>\n",
       "      <td>3.0</td>\n",
       "      <td>3.0</td>\n",
       "    </tr>\n",
       "    <tr>\n",
       "      <th>sex</th>\n",
       "      <td>891</td>\n",
       "      <td>2</td>\n",
       "      <td>male</td>\n",
       "      <td>577</td>\n",
       "      <td>NaN</td>\n",
       "      <td>NaN</td>\n",
       "      <td>NaN</td>\n",
       "      <td>NaN</td>\n",
       "      <td>NaN</td>\n",
       "      <td>NaN</td>\n",
       "      <td>NaN</td>\n",
       "    </tr>\n",
       "    <tr>\n",
       "      <th>age</th>\n",
       "      <td>714.0</td>\n",
       "      <td>NaN</td>\n",
       "      <td>NaN</td>\n",
       "      <td>NaN</td>\n",
       "      <td>29.699118</td>\n",
       "      <td>14.526497</td>\n",
       "      <td>0.42</td>\n",
       "      <td>20.125</td>\n",
       "      <td>28.0</td>\n",
       "      <td>38.0</td>\n",
       "      <td>80.0</td>\n",
       "    </tr>\n",
       "    <tr>\n",
       "      <th>sibsp</th>\n",
       "      <td>891.0</td>\n",
       "      <td>NaN</td>\n",
       "      <td>NaN</td>\n",
       "      <td>NaN</td>\n",
       "      <td>0.523008</td>\n",
       "      <td>1.102743</td>\n",
       "      <td>0.0</td>\n",
       "      <td>0.0</td>\n",
       "      <td>0.0</td>\n",
       "      <td>1.0</td>\n",
       "      <td>8.0</td>\n",
       "    </tr>\n",
       "    <tr>\n",
       "      <th>parch</th>\n",
       "      <td>891.0</td>\n",
       "      <td>NaN</td>\n",
       "      <td>NaN</td>\n",
       "      <td>NaN</td>\n",
       "      <td>0.381594</td>\n",
       "      <td>0.806057</td>\n",
       "      <td>0.0</td>\n",
       "      <td>0.0</td>\n",
       "      <td>0.0</td>\n",
       "      <td>0.0</td>\n",
       "      <td>6.0</td>\n",
       "    </tr>\n",
       "    <tr>\n",
       "      <th>fare</th>\n",
       "      <td>891.0</td>\n",
       "      <td>NaN</td>\n",
       "      <td>NaN</td>\n",
       "      <td>NaN</td>\n",
       "      <td>32.204208</td>\n",
       "      <td>49.693429</td>\n",
       "      <td>0.0</td>\n",
       "      <td>7.9104</td>\n",
       "      <td>14.4542</td>\n",
       "      <td>31.0</td>\n",
       "      <td>512.3292</td>\n",
       "    </tr>\n",
       "    <tr>\n",
       "      <th>embarked</th>\n",
       "      <td>889</td>\n",
       "      <td>3</td>\n",
       "      <td>S</td>\n",
       "      <td>644</td>\n",
       "      <td>NaN</td>\n",
       "      <td>NaN</td>\n",
       "      <td>NaN</td>\n",
       "      <td>NaN</td>\n",
       "      <td>NaN</td>\n",
       "      <td>NaN</td>\n",
       "      <td>NaN</td>\n",
       "    </tr>\n",
       "    <tr>\n",
       "      <th>class</th>\n",
       "      <td>891</td>\n",
       "      <td>3</td>\n",
       "      <td>Third</td>\n",
       "      <td>491</td>\n",
       "      <td>NaN</td>\n",
       "      <td>NaN</td>\n",
       "      <td>NaN</td>\n",
       "      <td>NaN</td>\n",
       "      <td>NaN</td>\n",
       "      <td>NaN</td>\n",
       "      <td>NaN</td>\n",
       "    </tr>\n",
       "    <tr>\n",
       "      <th>who</th>\n",
       "      <td>891</td>\n",
       "      <td>3</td>\n",
       "      <td>man</td>\n",
       "      <td>537</td>\n",
       "      <td>NaN</td>\n",
       "      <td>NaN</td>\n",
       "      <td>NaN</td>\n",
       "      <td>NaN</td>\n",
       "      <td>NaN</td>\n",
       "      <td>NaN</td>\n",
       "      <td>NaN</td>\n",
       "    </tr>\n",
       "    <tr>\n",
       "      <th>adult_male</th>\n",
       "      <td>891</td>\n",
       "      <td>2</td>\n",
       "      <td>True</td>\n",
       "      <td>537</td>\n",
       "      <td>NaN</td>\n",
       "      <td>NaN</td>\n",
       "      <td>NaN</td>\n",
       "      <td>NaN</td>\n",
       "      <td>NaN</td>\n",
       "      <td>NaN</td>\n",
       "      <td>NaN</td>\n",
       "    </tr>\n",
       "    <tr>\n",
       "      <th>deck</th>\n",
       "      <td>203</td>\n",
       "      <td>7</td>\n",
       "      <td>C</td>\n",
       "      <td>59</td>\n",
       "      <td>NaN</td>\n",
       "      <td>NaN</td>\n",
       "      <td>NaN</td>\n",
       "      <td>NaN</td>\n",
       "      <td>NaN</td>\n",
       "      <td>NaN</td>\n",
       "      <td>NaN</td>\n",
       "    </tr>\n",
       "    <tr>\n",
       "      <th>embark_town</th>\n",
       "      <td>889</td>\n",
       "      <td>3</td>\n",
       "      <td>Southampton</td>\n",
       "      <td>644</td>\n",
       "      <td>NaN</td>\n",
       "      <td>NaN</td>\n",
       "      <td>NaN</td>\n",
       "      <td>NaN</td>\n",
       "      <td>NaN</td>\n",
       "      <td>NaN</td>\n",
       "      <td>NaN</td>\n",
       "    </tr>\n",
       "    <tr>\n",
       "      <th>alive</th>\n",
       "      <td>891</td>\n",
       "      <td>2</td>\n",
       "      <td>no</td>\n",
       "      <td>549</td>\n",
       "      <td>NaN</td>\n",
       "      <td>NaN</td>\n",
       "      <td>NaN</td>\n",
       "      <td>NaN</td>\n",
       "      <td>NaN</td>\n",
       "      <td>NaN</td>\n",
       "      <td>NaN</td>\n",
       "    </tr>\n",
       "    <tr>\n",
       "      <th>alone</th>\n",
       "      <td>891</td>\n",
       "      <td>2</td>\n",
       "      <td>True</td>\n",
       "      <td>537</td>\n",
       "      <td>NaN</td>\n",
       "      <td>NaN</td>\n",
       "      <td>NaN</td>\n",
       "      <td>NaN</td>\n",
       "      <td>NaN</td>\n",
       "      <td>NaN</td>\n",
       "      <td>NaN</td>\n",
       "    </tr>\n",
       "  </tbody>\n",
       "</table>\n",
       "</div>"
      ],
      "text/plain": [
       "             count unique          top freq       mean        std   min  \\\n",
       "survived     891.0    NaN          NaN  NaN   0.383838   0.486592   0.0   \n",
       "pclass       891.0    NaN          NaN  NaN   2.308642   0.836071   1.0   \n",
       "sex            891      2         male  577        NaN        NaN   NaN   \n",
       "age          714.0    NaN          NaN  NaN  29.699118  14.526497  0.42   \n",
       "sibsp        891.0    NaN          NaN  NaN   0.523008   1.102743   0.0   \n",
       "parch        891.0    NaN          NaN  NaN   0.381594   0.806057   0.0   \n",
       "fare         891.0    NaN          NaN  NaN  32.204208  49.693429   0.0   \n",
       "embarked       889      3            S  644        NaN        NaN   NaN   \n",
       "class          891      3        Third  491        NaN        NaN   NaN   \n",
       "who            891      3          man  537        NaN        NaN   NaN   \n",
       "adult_male     891      2         True  537        NaN        NaN   NaN   \n",
       "deck           203      7            C   59        NaN        NaN   NaN   \n",
       "embark_town    889      3  Southampton  644        NaN        NaN   NaN   \n",
       "alive          891      2           no  549        NaN        NaN   NaN   \n",
       "alone          891      2         True  537        NaN        NaN   NaN   \n",
       "\n",
       "                25%      50%   75%       max  \n",
       "survived        0.0      0.0   1.0       1.0  \n",
       "pclass          2.0      3.0   3.0       3.0  \n",
       "sex             NaN      NaN   NaN       NaN  \n",
       "age          20.125     28.0  38.0      80.0  \n",
       "sibsp           0.0      0.0   1.0       8.0  \n",
       "parch           0.0      0.0   0.0       6.0  \n",
       "fare         7.9104  14.4542  31.0  512.3292  \n",
       "embarked        NaN      NaN   NaN       NaN  \n",
       "class           NaN      NaN   NaN       NaN  \n",
       "who             NaN      NaN   NaN       NaN  \n",
       "adult_male      NaN      NaN   NaN       NaN  \n",
       "deck            NaN      NaN   NaN       NaN  \n",
       "embark_town     NaN      NaN   NaN       NaN  \n",
       "alive           NaN      NaN   NaN       NaN  \n",
       "alone           NaN      NaN   NaN       NaN  "
      ]
     },
     "execution_count": 2,
     "metadata": {},
     "output_type": "execute_result"
    }
   ],
   "source": [
    "# Dataset overview\n",
    "print(df.shape)\n",
    "print(df.info())\n",
    "df.describe(include='all').T"
   ]
  },
  {
   "cell_type": "markdown",
   "id": "d2ca578c-8968-44b9-ad2b-67929f2c2dcc",
   "metadata": {},
   "source": [
    "Key Questions:\n",
    "\n",
    "Did survival rates differ by gender and class?\n",
    "\n",
    "How did age influence survival?\n",
    "\n",
    "Does family size matter?\n",
    "\n",
    "Which embarkation port had better survival rates?"
   ]
  },
  {
   "cell_type": "markdown",
   "id": "4a36ead5-0795-4189-9e11-a1d66e9f374f",
   "metadata": {},
   "source": [
    "# 4. Basic Visualization"
   ]
  },
  {
   "cell_type": "markdown",
   "id": "69399aed-ed3c-479d-92c7-b536dadfee3e",
   "metadata": {},
   "source": [
    "# 4.1 Overall Survival Rate"
   ]
  },
  {
   "cell_type": "code",
   "execution_count": 3,
   "id": "37474293-7ba6-4e7e-b7fc-1b0f8caafd2e",
   "metadata": {},
   "outputs": [
    {
     "data": {
      "image/png": "[encoded data removed]",
      "text/plain": [
       "<Figure size 800x500 with 1 Axes>"
      ]
     },
     "metadata": {},
     "output_type": "display_data"
    }
   ],
   "source": [
    "surv_counts = df['survived'].value_counts()\n",
    "surv_counts.plot(kind='pie', labels=['Died','Survived'], autopct='%1.1f%%', colors=['lightcoral','lightskyblue'])\n",
    "plt.title(\"Overall Survival Proportion\")\n",
    "plt.ylabel('')\n",
    "plt.show()"
   ]
  },
  {
   "cell_type": "markdown",
   "id": "5e73cb15-21a1-449e-9992-fa9182a65bb6",
   "metadata": {},
   "source": [
    "# 4.2 Survival by Gender"
   ]
  },
  {
   "cell_type": "code",
   "execution_count": 4,
   "id": "f766d179-f624-4096-95e3-2229b67044c9",
   "metadata": {},
   "outputs": [
    {
     "data": {
      "image/png": "[encoded data removed]",
      "text/plain": [
       "<Figure size 800x500 with 1 Axes>"
      ]
     },
     "metadata": {},
     "output_type": "display_data"
    }
   ],
   "source": [
    "sns.countplot(x='sex', hue='survived', data=df, palette=\"coolwarm\")\n",
    "plt.title(\"Survival by Gender\")\n",
    "plt.xlabel(\"Gender\")\n",
    "plt.ylabel(\"Count\")\n",
    "plt.legend(title=\"Survived\", labels=['No','Yes'])\n",
    "plt.show()"
   ]
  },
  {
   "cell_type": "markdown",
   "id": "cf90337e-6487-434e-a8c2-e070b0fb7026",
   "metadata": {},
   "source": [
    "# 4.3 Survival by Class"
   ]
  },
  {
   "cell_type": "code",
   "execution_count": 4,
   "id": "0004e004-8ab6-4a34-91a4-978e6188c15a",
   "metadata": {},
   "outputs": [
    {
     "data": {
      "image/png": "[encoded data removed]",
      "text/plain": [
       "<Figure size 800x500 with 1 Axes>"
      ]
     },
     "metadata": {},
     "output_type": "display_data"
    }
   ],
   "source": [
    "sns.countplot(x='pclass', hue='survived', data=df, palette=\"Set2\")\n",
    "plt.title(\"Survival by Passenger Class\")\n",
    "plt.xlabel(\"Class\")\n",
    "plt.ylabel(\"Count\")\n",
    "plt.show()"
   ]
  },
  {
   "cell_type": "markdown",
   "id": "6e4359f4-1806-4f44-b23f-4151caea7f6b",
   "metadata": {},
   "source": [
    "# 5. Feature Engineering: Family Size"
   ]
  },
  {
   "cell_type": "code",
   "execution_count": 6,
   "id": "8031623f-0b02-44ea-9ba5-25f144f505f2",
   "metadata": {},
   "outputs": [
    {
     "data": {
      "text/html": [
       "<div>\n",
       "<style scoped>\n",
       "    .dataframe tbody tr th:only-of-type {\n",
       "        vertical-align: middle;\n",
       "    }\n",
       "\n",
       "    .dataframe tbody tr th {\n",
       "        vertical-align: top;\n",
       "    }\n",
       "\n",
       "    .dataframe thead th {\n",
       "        text-align: right;\n",
       "    }\n",
       "</style>\n",
       "<table border=\"1\" class=\"dataframe\">\n",
       "  <thead>\n",
       "    <tr style=\"text-align: right;\">\n",
       "      <th></th>\n",
       "      <th>sibsp</th>\n",
       "      <th>parch</th>\n",
       "      <th>family_size</th>\n",
       "      <th>family_group</th>\n",
       "    </tr>\n",
       "  </thead>\n",
       "  <tbody>\n",
       "    <tr>\n",
       "      <th>0</th>\n",
       "      <td>1</td>\n",
       "      <td>0</td>\n",
       "      <td>2</td>\n",
       "      <td>Small Family (2-4)</td>\n",
       "    </tr>\n",
       "    <tr>\n",
       "      <th>1</th>\n",
       "      <td>1</td>\n",
       "      <td>0</td>\n",
       "      <td>2</td>\n",
       "      <td>Small Family (2-4)</td>\n",
       "    </tr>\n",
       "    <tr>\n",
       "      <th>2</th>\n",
       "      <td>0</td>\n",
       "      <td>0</td>\n",
       "      <td>1</td>\n",
       "      <td>Solo</td>\n",
       "    </tr>\n",
       "    <tr>\n",
       "      <th>3</th>\n",
       "      <td>1</td>\n",
       "      <td>0</td>\n",
       "      <td>2</td>\n",
       "      <td>Small Family (2-4)</td>\n",
       "    </tr>\n",
       "    <tr>\n",
       "      <th>4</th>\n",
       "      <td>0</td>\n",
       "      <td>0</td>\n",
       "      <td>1</td>\n",
       "      <td>Solo</td>\n",
       "    </tr>\n",
       "  </tbody>\n",
       "</table>\n",
       "</div>"
      ],
      "text/plain": [
       "   sibsp  parch  family_size        family_group\n",
       "0      1      0            2  Small Family (2-4)\n",
       "1      1      0            2  Small Family (2-4)\n",
       "2      0      0            1                Solo\n",
       "3      1      0            2  Small Family (2-4)\n",
       "4      0      0            1                Solo"
      ]
     },
     "execution_count": 6,
     "metadata": {},
     "output_type": "execute_result"
    }
   ],
   "source": [
    "# Create Family Size\n",
    "df['family_size'] = df['sibsp'] + df['parch'] + 1\n",
    "\n",
    "# Categorize family groups\n",
    "df['family_group'] = pd.cut(df['family_size'], bins=[0,1,4,20], labels=['Solo','Small Family (2-4)','Large Family (5+)'])\n",
    "\n",
    "# Preview\n",
    "df[['sibsp','parch','family_size','family_group']].head()"
   ]
  },
  {
   "cell_type": "markdown",
   "id": "23eaf37b-9a45-4d33-b482-7242826ef27e",
   "metadata": {},
   "source": [
    "# 5.1 Survival by Family Group"
   ]
  },
  {
   "cell_type": "code",
   "execution_count": 10,
   "id": "56b6bde3-6973-4dc1-9cf4-2f169cff7d73",
   "metadata": {},
   "outputs": [
    {
     "name": "stderr",
     "output_type": "stream",
     "text": [
      "C:\\Users\\akhil\\AppData\\Local\\Temp\\ipykernel_15348\\3988732125.py:1: FutureWarning:\n",
      "\n",
      "\n",
      "\n",
      "Passing `palette` without assigning `hue` is deprecated and will be removed in v0.14.0. Assign the `x` variable to `hue` and set `legend=False` for the same effect.\n",
      "\n",
      "\n"
     ]
    },
    {
     "data": {
      "image/png": "[encoded data removed]",
      "text/plain": [
       "<Figure size 800x500 with 1 Axes>"
      ]
     },
     "metadata": {},
     "output_type": "display_data"
    }
   ],
   "source": [
    "sns.barplot(x=\"family_group\", y=\"survived\", data=df, palette=\"coolwarm\", estimator=np.mean)\n",
    "plt.title(\"Survival Rate by Family Group\")\n",
    "plt.ylabel(\"Survival Probability\")\n",
    "plt.xlabel(\"Family Group\")\n",
    "\n",
    "# Add percentage labels on bars\n",
    "for p in plt.gca().patches:\n",
    "    plt.gca().annotate(f\"{p.get_height():.2f}\", \n",
    "                       (p.get_x() + p.get_width() / 2., p.get_height()),\n",
    "                       ha='center', va='bottom', fontsize=10, color='black')\n",
    "\n",
    "plt.show()\n"
   ]
  },
  {
   "cell_type": "markdown",
   "id": "c4c93ad3-02c0-423a-b5fd-ec95a2f0ac47",
   "metadata": {},
   "source": [
    "# 6. Age Distribution"
   ]
  },
  {
   "cell_type": "code",
   "execution_count": 8,
   "id": "eda3c1a7-4db1-40d3-9d54-24c09d3ab214",
   "metadata": {},
   "outputs": [
    {
     "name": "stderr",
     "output_type": "stream",
     "text": [
      "C:\\Users\\akhil\\AppData\\Local\\Temp\\ipykernel_8636\\1059574262.py:1: FutureWarning: \n",
      "\n",
      "`shade` is now deprecated in favor of `fill`; setting `fill=True`.\n",
      "This will become an error in seaborn v0.14.0; please update your code.\n",
      "\n",
      "  sns.kdeplot(df[df['survived']==1]['age'].dropna(), label='Survived', shade=True)\n",
      "C:\\Users\\akhil\\AppData\\Local\\Temp\\ipykernel_8636\\1059574262.py:2: FutureWarning: \n",
      "\n",
      "`shade` is now deprecated in favor of `fill`; setting `fill=True`.\n",
      "This will become an error in seaborn v0.14.0; please update your code.\n",
      "\n",
      "  sns.kdeplot(df[df['survived']==0]['age'].dropna(), label='Died', shade=True)\n"
     ]
    },
    {
     "data": {
      "image/png": "[encoded data removed]",
      "text/plain": [
       "<Figure size 800x500 with 1 Axes>"
      ]
     },
     "metadata": {},
     "output_type": "display_data"
    }
   ],
   "source": [
    "sns.kdeplot(df[df['survived']==1]['age'].dropna(), label='Survived', shade=True)\n",
    "sns.kdeplot(df[df['survived']==0]['age'].dropna(), label='Died', shade=True)\n",
    "plt.title(\"Age Distribution: Survived vs Died\")\n",
    "plt.xlabel(\"Age\")\n",
    "plt.ylabel(\"Density\")\n",
    "plt.legend()\n",
    "plt.show()"
   ]
  },
  {
   "cell_type": "markdown",
   "id": "4cbaff32-5947-45ad-ac4f-bdaabb6e6c13",
   "metadata": {},
   "source": [
    "# 7. Interactive Dashboards (Plotly)"
   ]
  },
  {
   "cell_type": "markdown",
   "id": "4e5da536-952e-4311-90b1-93eef905db46",
   "metadata": {},
   "source": [
    "# 7.1 Survival by Gender & Class"
   ]
  },
  {
   "cell_type": "code",
   "execution_count": 9,
   "id": "f92e9378-6294-4ae4-8470-a34c64225f82",
   "metadata": {},
   "outputs": [
    {
     "data": {
      "application/vnd.plotly.v1+json": {
       "config": {
        "plotlyServerURL": "https://plot.ly"
       },
       "data": [
        {
         "alignmentgroup": "True",
         "bingroup": "x",
         "hovertemplate": "survived=0<br>pclass=3<br>sex=%{x}<br>count=%{y}<extra></extra>",
         "legendgroup": "0",
         "marker": {
          "color": "#636efa",
          "pattern": {
           "shape": ""
          }
         },
         "name": "0",
         "offsetgroup": "0",
         "orientation": "v",
         "showlegend": true,
         "type": "histogram",
         "x": [
          "male",
          "male",
          "male",
          "male",
          "male",
          "male",
          "female",
          "male",
          "female",
          "female",
          "male",
          "male",
          "male",
          "female",
          "female",
          "male",
          "male",
          "male",
          "male",
          "female",
          "male",
          "male",
          "male",
          "male",
          "male",
          "male",
          "male",
          "male",
          "female",
          "male",
          "male",
          "male",
          "male",
          "male",
          "male",
          "male",
          "male",
          "male",
          "male",
          "male",
          "male",
          "male",
          "female",
          "male",
          "male",
          "male",
          "male",
          "male",
          "female",
          "male",
          "female",
          "female",
          "male",
          "male",
          "female",
          "male",
          "male",
          "male",
          "male",
          "male",
          "female",
          "male",
          "female",
          "male",
          "female",
          "male",
          "male",
          "male",
          "male",
          "male",
          "male",
          "male",
          "male",
          "male",
          "male",
          "female",
          "male",
          "male",
          "male",
          "male",
          "male",
          "male",
          "female",
          "male",
          "male",
          "male",
          "male",
          "male",
          "male",
          "male",
          "male",
          "male",
          "female",
          "male",
          "male",
          "male",
          "male",
          "male",
          "male",
          "male",
          "male",
          "female",
          "male",
          "female",
          "female",
          "male",
          "male",
          "female",
          "male",
          "female",
          "male",
          "female",
          "male",
          "female",
          "male",
          "female",
          "male",
          "male",
          "male",
          "male",
          "male",
          "male",
          "female",
          "male",
          "male",
          "male",
          "male",
          "male",
          "male",
          "male",
          "male",
          "male",
          "male",
          "male",
          "male",
          "male",
          "male",
          "male",
          "male",
          "male",
          "male",
          "female",
          "male",
          "male",
          "male",
          "male",
          "male",
          "female",
          "male",
          "male",
          "male",
          "male",
          "male",
          "male",
          "male",
          "male",
          "female",
          "male",
          "female",
          "male",
          "female",
          "male",
          "male",
          "female",
          "male",
          "male",
          "female",
          "female",
          "male",
          "male",
          "male",
          "female",
          "male",
          "male",
          "male",
          "male",
          "female",
          "male",
          "male",
          "male",
          "male",
          "male",
          "male",
          "male",
          "male",
          "male",
          "male",
          "male",
          "female",
          "male",
          "male",
          "male",
          "male",
          "female",
          "male",
          "male",
          "male",
          "male",
          "male",
          "male",
          "male",
          "male",
          "female",
          "female",
          "female",
          "male",
          "male",
          "male",
          "male",
          "male",
          "male",
          "male",
          "male",
          "male",
          "male",
          "male",
          "male",
          "female",
          "male",
          "female",
          "female",
          "male",
          "male",
          "male",
          "male",
          "male",
          "female",
          "male",
          "male",
          "female",
          "male",
          "male",
          "male",
          "female",
          "male",
          "male",
          "male",
          "male",
          "male",
          "female",
          "male",
          "male",
          "male",
          "male",
          "male",
          "male",
          "male",
          "female",
          "male",
          "male",
          "male",
          "male",
          "female",
          "male",
          "male",
          "male",
          "male",
          "male",
          "male",
          "female",
          "male",
          "female",
          "male",
          "male",
          "female",
          "male",
          "male",
          "male",
          "male",
          "female",
          "male",
          "female",
          "male",
          "male",
          "male",
          "male",
          "male",
          "male",
          "female",
          "female",
          "male",
          "male",
          "male",
          "male",
          "male",
          "male",
          "male",
          "male",
          "female",
          "male",
          "male",
          "male",
          "male",
          "male",
          "male",
          "male",
          "male",
          "female",
          "male",
          "male",
          "female",
          "male",
          "male",
          "male",
          "male",
          "male",
          "male",
          "male",
          "male",
          "male",
          "male",
          "male",
          "male",
          "female",
          "male",
          "male",
          "male",
          "male",
          "male",
          "male",
          "male",
          "male",
          "male",
          "male",
          "male",
          "male",
          "male",
          "female",
          "male",
          "male",
          "female",
          "male",
          "female",
          "male",
          "male",
          "female",
          "male",
          "female",
          "male",
          "male",
          "male",
          "male",
          "male",
          "male",
          "male",
          "male",
          "male",
          "male",
          "male",
          "male",
          "male",
          "male",
          "male",
          "male",
          "male",
          "male",
          "female",
          "male",
          "male",
          "female",
          "male",
          "male",
          "male",
          "male",
          "male",
          "male",
          "male",
          "female",
          "male",
          "female",
          "female",
          "male"
         ],
         "xaxis": "x",
         "yaxis": "y"
        },
        {
         "alignmentgroup": "True",
         "bingroup": "x",
         "hovertemplate": "survived=0<br>pclass=1<br>sex=%{x}<br>count=%{y}<extra></extra>",
         "legendgroup": "0",
         "marker": {
          "color": "#636efa",
          "pattern": {
           "shape": ""
          }
         },
         "name": "0",
         "offsetgroup": "0",
         "orientation": "v",
         "showlegend": false,
         "type": "histogram",
         "x": [
          "male",
          "male",
          "male",
          "male",
          "male",
          "male",
          "male",
          "male",
          "male",
          "male",
          "male",
          "male",
          "male",
          "male",
          "male",
          "male",
          "male",
          "male",
          "male",
          "male",
          "male",
          "female",
          "male",
          "male",
          "male",
          "male",
          "male",
          "male",
          "male",
          "male",
          "male",
          "female",
          "male",
          "male",
          "male",
          "male",
          "male",
          "male",
          "male",
          "male",
          "male",
          "male",
          "male",
          "male",
          "male",
          "male",
          "male",
          "male",
          "male",
          "female",
          "male",
          "male",
          "male",
          "male",
          "male",
          "male",
          "male",
          "male",
          "male",
          "male",
          "male",
          "male",
          "male",
          "male",
          "male",
          "male",
          "male",
          "male",
          "male",
          "male",
          "male",
          "male",
          "male",
          "male",
          "male",
          "male",
          "male",
          "male",
          "male",
          "male"
         ],
         "xaxis": "x2",
         "yaxis": "y2"
        },
        {
         "alignmentgroup": "True",
         "bingroup": "x",
         "hovertemplate": "survived=0<br>pclass=2<br>sex=%{x}<br>count=%{y}<extra></extra>",
         "legendgroup": "0",
         "marker": {
          "color": "#636efa",
          "pattern": {
           "shape": ""
          }
         },
         "name": "0",
         "offsetgroup": "0",
         "orientation": "v",
         "showlegend": false,
         "type": "histogram",
         "x": [
          "male",
          "male",
          "female",
          "male",
          "male",
          "male",
          "male",
          "male",
          "male",
          "male",
          "male",
          "male",
          "male",
          "male",
          "male",
          "male",
          "male",
          "male",
          "male",
          "female",
          "male",
          "male",
          "male",
          "male",
          "male",
          "male",
          "male",
          "male",
          "male",
          "male",
          "male",
          "male",
          "male",
          "male",
          "male",
          "male",
          "female",
          "male",
          "male",
          "male",
          "male",
          "male",
          "female",
          "male",
          "male",
          "male",
          "male",
          "male",
          "male",
          "male",
          "male",
          "male",
          "male",
          "male",
          "male",
          "male",
          "male",
          "male",
          "male",
          "male",
          "male",
          "male",
          "male",
          "male",
          "male",
          "male",
          "male",
          "male",
          "male",
          "male",
          "male",
          "male",
          "male",
          "male",
          "male",
          "male",
          "male",
          "male",
          "male",
          "male",
          "male",
          "male",
          "male",
          "female",
          "male",
          "male",
          "male",
          "male",
          "male",
          "male",
          "male",
          "male",
          "female",
          "male",
          "male",
          "male",
          "male"
         ],
         "xaxis": "x3",
         "yaxis": "y3"
        },
        {
         "alignmentgroup": "True",
         "bingroup": "x",
         "hovertemplate": "survived=1<br>pclass=3<br>sex=%{x}<br>count=%{y}<extra></extra>",
         "legendgroup": "1",
         "marker": {
          "color": "#EF553B",
          "pattern": {
           "shape": ""
          }
         },
         "name": "1",
         "offsetgroup": "1",
         "orientation": "v",
         "showlegend": true,
         "type": "histogram",
         "x": [
          "female",
          "female",
          "female",
          "female",
          "female",
          "female",
          "female",
          "female",
          "male",
          "female",
          "female",
          "female",
          "male",
          "female",
          "male",
          "female",
          "male",
          "female",
          "female",
          "female",
          "male",
          "female",
          "male",
          "male",
          "female",
          "female",
          "female",
          "male",
          "female",
          "male",
          "female",
          "female",
          "female",
          "female",
          "female",
          "male",
          "male",
          "female",
          "female",
          "male",
          "female",
          "female",
          "female",
          "male",
          "male",
          "male",
          "female",
          "female",
          "male",
          "male",
          "female",
          "female",
          "male",
          "female",
          "female",
          "female",
          "male",
          "female",
          "male",
          "female",
          "female",
          "female",
          "female",
          "female",
          "female",
          "male",
          "female",
          "male",
          "male",
          "male",
          "female",
          "male",
          "female",
          "male",
          "female",
          "female",
          "female",
          "male",
          "male",
          "male",
          "female",
          "male",
          "female",
          "female",
          "male",
          "female",
          "male",
          "female",
          "male",
          "male",
          "female",
          "female",
          "female",
          "male",
          "female",
          "female",
          "male",
          "female",
          "male",
          "female",
          "male",
          "male",
          "male",
          "female",
          "female",
          "female",
          "male",
          "female",
          "male",
          "male",
          "male",
          "female",
          "male",
          "female",
          "male",
          "female",
          "female",
          "male",
          "female"
         ],
         "xaxis": "x",
         "yaxis": "y"
        },
        {
         "alignmentgroup": "True",
         "bingroup": "x",
         "hovertemplate": "survived=1<br>pclass=1<br>sex=%{x}<br>count=%{y}<extra></extra>",
         "legendgroup": "1",
         "marker": {
          "color": "#EF553B",
          "pattern": {
           "shape": ""
          }
         },
         "name": "1",
         "offsetgroup": "1",
         "orientation": "v",
         "showlegend": false,
         "type": "histogram",
         "x": [
          "female",
          "female",
          "female",
          "male",
          "female",
          "female",
          "male",
          "female",
          "female",
          "male",
          "female",
          "female",
          "female",
          "male",
          "female",
          "female",
          "male",
          "female",
          "female",
          "male",
          "female",
          "male",
          "female",
          "female",
          "female",
          "female",
          "female",
          "female",
          "female",
          "female",
          "male",
          "female",
          "male",
          "female",
          "female",
          "female",
          "female",
          "female",
          "female",
          "female",
          "female",
          "female",
          "female",
          "female",
          "female",
          "female",
          "female",
          "female",
          "male",
          "female",
          "female",
          "female",
          "male",
          "female",
          "female",
          "male",
          "female",
          "male",
          "male",
          "male",
          "male",
          "female",
          "male",
          "male",
          "female",
          "female",
          "female",
          "male",
          "male",
          "female",
          "female",
          "female",
          "female",
          "female",
          "female",
          "male",
          "female",
          "female",
          "female",
          "male",
          "female",
          "female",
          "female",
          "male",
          "female",
          "male",
          "male",
          "male",
          "female",
          "male",
          "female",
          "male",
          "male",
          "female",
          "male",
          "male",
          "male",
          "female",
          "male",
          "male",
          "female",
          "male",
          "female",
          "male",
          "male",
          "female",
          "female",
          "male",
          "female",
          "male",
          "female",
          "male",
          "male",
          "female",
          "female",
          "female",
          "female",
          "female",
          "female",
          "female",
          "male",
          "female",
          "female",
          "female",
          "female",
          "male",
          "female",
          "female",
          "female",
          "female",
          "male",
          "female",
          "female",
          "female",
          "female",
          "male"
         ],
         "xaxis": "x2",
         "yaxis": "y2"
        },
        {
         "alignmentgroup": "True",
         "bingroup": "x",
         "hovertemplate": "survived=1<br>pclass=2<br>sex=%{x}<br>count=%{y}<extra></extra>",
         "legendgroup": "1",
         "marker": {
          "color": "#EF553B",
          "pattern": {
           "shape": ""
          }
         },
         "name": "1",
         "offsetgroup": "1",
         "orientation": "v",
         "showlegend": false,
         "type": "histogram",
         "x": [
          "female",
          "female",
          "male",
          "male",
          "female",
          "female",
          "female",
          "female",
          "female",
          "male",
          "female",
          "female",
          "female",
          "female",
          "female",
          "male",
          "female",
          "male",
          "female",
          "male",
          "female",
          "female",
          "female",
          "female",
          "male",
          "female",
          "female",
          "female",
          "female",
          "female",
          "male",
          "female",
          "female",
          "female",
          "female",
          "female",
          "male",
          "female",
          "female",
          "female",
          "female",
          "female",
          "female",
          "female",
          "female",
          "female",
          "female",
          "female",
          "female",
          "female",
          "female",
          "female",
          "female",
          "female",
          "female",
          "male",
          "female",
          "male",
          "male",
          "male",
          "female",
          "female",
          "female",
          "female",
          "female",
          "female",
          "female",
          "female",
          "female",
          "female",
          "male",
          "female",
          "female",
          "female",
          "female",
          "female",
          "female",
          "female",
          "male",
          "female",
          "female",
          "male",
          "male",
          "female",
          "female",
          "female",
          "female"
         ],
         "xaxis": "x3",
         "yaxis": "y3"
        }
       ],
       "layout": {
        "annotations": [
         {
          "font": {},
          "showarrow": false,
          "text": "pclass=3",
          "x": 0.15999999999999998,
          "xanchor": "center",
          "xref": "paper",
          "y": 1,
          "yanchor": "bottom",
          "yref": "paper"
         },
         {
          "font": {},
          "showarrow": false,
          "text": "pclass=1",
          "x": 0.49999999999999994,
          "xanchor": "center",
          "xref": "paper",
          "y": 1,
          "yanchor": "bottom",
          "yref": "paper"
         },
         {
          "font": {},
          "showarrow": false,
          "text": "pclass=2",
          "x": 0.8399999999999999,
          "xanchor": "center",
          "xref": "paper",
          "y": 1,
          "yanchor": "bottom",
          "yref": "paper"
         }
        ],
        "autosize": true,
        "barmode": "group",
        "legend": {
         "title": {
          "text": "survived"
         },
         "tracegroupgap": 0
        },
        "template": {
         "data": {
          "bar": [
           {
            "error_x": {
             "color": "#2a3f5f"
            },
            "error_y": {
             "color": "#2a3f5f"
            },
            "marker": {
             "line": {
              "color": "#E5ECF6",
              "width": 0.5
             },
             "pattern": {
              "fillmode": "overlay",
              "size": 10,
              "solidity": 0.2
             }
            },
            "type": "bar"
           }
          ],
          "barpolar": [
           {
            "marker": {
             "line": {
              "color": "#E5ECF6",
              "width": 0.5
             },
             "pattern": {
              "fillmode": "overlay",
              "size": 10,
              "solidity": 0.2
             }
            },
            "type": "barpolar"
           }
          ],
          "carpet": [
           {
            "aaxis": {
             "endlinecolor": "#2a3f5f",
             "gridcolor": "white",
             "linecolor": "white",
             "minorgridcolor": "white",
             "startlinecolor": "#2a3f5f"
            },
            "baxis": {
             "endlinecolor": "#2a3f5f",
             "gridcolor": "white",
             "linecolor": "white",
             "minorgridcolor": "white",
             "startlinecolor": "#2a3f5f"
            },
            "type": "carpet"
           }
          ],
          "choropleth": [
           {
            "colorbar": {
             "outlinewidth": 0,
             "ticks": ""
            },
            "type": "choropleth"
           }
          ],
          "contour": [
           {
            "colorbar": {
             "outlinewidth": 0,
             "ticks": ""
            },
            "colorscale": [
             [
              0,
              "#0d0887"
             ],
             [
              0.1111111111111111,
              "#46039f"
             ],
             [
              0.2222222222222222,
              "#7201a8"
             ],
             [
              0.3333333333333333,
              "#9c179e"
             ],
             [
              0.4444444444444444,
              "#bd3786"
             ],
             [
              0.5555555555555556,
              "#d8576b"
             ],
             [
              0.6666666666666666,
              "#ed7953"
             ],
             [
              0.7777777777777778,
              "#fb9f3a"
             ],
             [
              0.8888888888888888,
              "#fdca26"
             ],
             [
              1,
              "#f0f921"
             ]
            ],
            "type": "contour"
           }
          ],
          "contourcarpet": [
           {
            "colorbar": {
             "outlinewidth": 0,
             "ticks": ""
            },
            "type": "contourcarpet"
           }
          ],
          "heatmap": [
           {
            "colorbar": {
             "outlinewidth": 0,
             "ticks": ""
            },
            "colorscale": [
             [
              0,
              "#0d0887"
             ],
             [
              0.1111111111111111,
              "#46039f"
             ],
             [
              0.2222222222222222,
              "#7201a8"
             ],
             [
              0.3333333333333333,
              "#9c179e"
             ],
             [
              0.4444444444444444,
              "#bd3786"
             ],
             [
              0.5555555555555556,
              "#d8576b"
             ],
             [
              0.6666666666666666,
              "#ed7953"
             ],
             [
              0.7777777777777778,
              "#fb9f3a"
             ],
             [
              0.8888888888888888,
              "#fdca26"
             ],
             [
              1,
              "#f0f921"
             ]
            ],
            "type": "heatmap"
           }
          ],
          "histogram": [
           {
            "marker": {
             "pattern": {
              "fillmode": "overlay",
              "size": 10,
              "solidity": 0.2
             }
            },
            "type": "histogram"
           }
          ],
          "histogram2d": [
           {
            "colorbar": {
             "outlinewidth": 0,
             "ticks": ""
            },
            "colorscale": [
             [
              0,
              "#0d0887"
             ],
             [
              0.1111111111111111,
              "#46039f"
             ],
             [
              0.2222222222222222,
              "#7201a8"
             ],
             [
              0.3333333333333333,
              "#9c179e"
             ],
             [
              0.4444444444444444,
              "#bd3786"
             ],
             [
              0.5555555555555556,
              "#d8576b"
             ],
             [
              0.6666666666666666,
              "#ed7953"
             ],
             [
              0.7777777777777778,
              "#fb9f3a"
             ],
             [
              0.8888888888888888,
              "#fdca26"
             ],
             [
              1,
              "#f0f921"
             ]
            ],
            "type": "histogram2d"
           }
          ],
          "histogram2dcontour": [
           {
            "colorbar": {
             "outlinewidth": 0,
             "ticks": ""
            },
            "colorscale": [
             [
              0,
              "#0d0887"
             ],
             [
              0.1111111111111111,
              "#46039f"
             ],
             [
              0.2222222222222222,
              "#7201a8"
             ],
             [
              0.3333333333333333,
              "#9c179e"
             ],
             [
              0.4444444444444444,
              "#bd3786"
             ],
             [
              0.5555555555555556,
              "#d8576b"
             ],
             [
              0.6666666666666666,
              "#ed7953"
             ],
             [
              0.7777777777777778,
              "#fb9f3a"
             ],
             [
              0.8888888888888888,
              "#fdca26"
             ],
             [
              1,
              "#f0f921"
             ]
            ],
            "type": "histogram2dcontour"
           }
          ],
          "mesh3d": [
           {
            "colorbar": {
             "outlinewidth": 0,
             "ticks": ""
            },
            "type": "mesh3d"
           }
          ],
          "parcoords": [
           {
            "line": {
             "colorbar": {
              "outlinewidth": 0,
              "ticks": ""
             }
            },
            "type": "parcoords"
           }
          ],
          "pie": [
           {
            "automargin": true,
            "type": "pie"
           }
          ],
          "scatter": [
           {
            "fillpattern": {
             "fillmode": "overlay",
             "size": 10,
             "solidity": 0.2
            },
            "type": "scatter"
           }
          ],
          "scatter3d": [
           {
            "line": {
             "colorbar": {
              "outlinewidth": 0,
              "ticks": ""
             }
            },
            "marker": {
             "colorbar": {
              "outlinewidth": 0,
              "ticks": ""
             }
            },
            "type": "scatter3d"
           }
          ],
          "scattercarpet": [
           {
            "marker": {
             "colorbar": {
              "outlinewidth": 0,
              "ticks": ""
             }
            },
            "type": "scattercarpet"
           }
          ],
          "scattergeo": [
           {
            "marker": {
             "colorbar": {
              "outlinewidth": 0,
              "ticks": ""
             }
            },
            "type": "scattergeo"
           }
          ],
          "scattergl": [
           {
            "marker": {
             "colorbar": {
              "outlinewidth": 0,
              "ticks": ""
             }
            },
            "type": "scattergl"
           }
          ],
          "scattermap": [
           {
            "marker": {
             "colorbar": {
              "outlinewidth": 0,
              "ticks": ""
             }
            },
            "type": "scattermap"
           }
          ],
          "scattermapbox": [
           {
            "marker": {
             "colorbar": {
              "outlinewidth": 0,
              "ticks": ""
             }
            },
            "type": "scattermapbox"
           }
          ],
          "scatterpolar": [
           {
            "marker": {
             "colorbar": {
              "outlinewidth": 0,
              "ticks": ""
             }
            },
            "type": "scatterpolar"
           }
          ],
          "scatterpolargl": [
           {
            "marker": {
             "colorbar": {
              "outlinewidth": 0,
              "ticks": ""
             }
            },
            "type": "scatterpolargl"
           }
          ],
          "scatterternary": [
           {
            "marker": {
             "colorbar": {
              "outlinewidth": 0,
              "ticks": ""
             }
            },
            "type": "scatterternary"
           }
          ],
          "surface": [
           {
            "colorbar": {
             "outlinewidth": 0,
             "ticks": ""
            },
            "colorscale": [
             [
              0,
              "#0d0887"
             ],
             [
              0.1111111111111111,
              "#46039f"
             ],
             [
              0.2222222222222222,
              "#7201a8"
             ],
             [
              0.3333333333333333,
              "#9c179e"
             ],
             [
              0.4444444444444444,
              "#bd3786"
             ],
             [
              0.5555555555555556,
              "#d8576b"
             ],
             [
              0.6666666666666666,
              "#ed7953"
             ],
             [
              0.7777777777777778,
              "#fb9f3a"
             ],
             [
              0.8888888888888888,
              "#fdca26"
             ],
             [
              1,
              "#f0f921"
             ]
            ],
            "type": "surface"
           }
          ],
          "table": [
           {
            "cells": {
             "fill": {
              "color": "#EBF0F8"
             },
             "line": {
              "color": "white"
             }
            },
            "header": {
             "fill": {
              "color": "#C8D4E3"
             },
             "line": {
              "color": "white"
             }
            },
            "type": "table"
           }
          ]
         },
         "layout": {
          "annotationdefaults": {
           "arrowcolor": "#2a3f5f",
           "arrowhead": 0,
           "arrowwidth": 1
          },
          "autotypenumbers": "strict",
          "coloraxis": {
           "colorbar": {
            "outlinewidth": 0,
            "ticks": ""
           }
          },
          "colorscale": {
           "diverging": [
            [
             0,
             "#8e0152"
            ],
            [
             0.1,
             "#c51b7d"
            ],
            [
             0.2,
             "#de77ae"
            ],
            [
             0.3,
             "#f1b6da"
            ],
            [
             0.4,
             "#fde0ef"
            ],
            [
             0.5,
             "#f7f7f7"
            ],
            [
             0.6,
             "#e6f5d0"
            ],
            [
             0.7,
             "#b8e186"
            ],
            [
             0.8,
             "#7fbc41"
            ],
            [
             0.9,
             "#4d9221"
            ],
            [
             1,
             "#276419"
            ]
           ],
           "sequential": [
            [
             0,
             "#0d0887"
            ],
            [
             0.1111111111111111,
             "#46039f"
            ],
            [
             0.2222222222222222,
             "#7201a8"
            ],
            [
             0.3333333333333333,
             "#9c179e"
            ],
            [
             0.4444444444444444,
             "#bd3786"
            ],
            [
             0.5555555555555556,
             "#d8576b"
            ],
            [
             0.6666666666666666,
             "#ed7953"
            ],
            [
             0.7777777777777778,
             "#fb9f3a"
            ],
            [
             0.8888888888888888,
             "#fdca26"
            ],
            [
             1,
             "#f0f921"
            ]
           ],
           "sequentialminus": [
            [
             0,
             "#0d0887"
            ],
            [
             0.1111111111111111,
             "#46039f"
            ],
            [
             0.2222222222222222,
             "#7201a8"
            ],
            [
             0.3333333333333333,
             "#9c179e"
            ],
            [
             0.4444444444444444,
             "#bd3786"
            ],
            [
             0.5555555555555556,
             "#d8576b"
            ],
            [
             0.6666666666666666,
             "#ed7953"
            ],
            [
             0.7777777777777778,
             "#fb9f3a"
            ],
            [
             0.8888888888888888,
             "#fdca26"
            ],
            [
             1,
             "#f0f921"
            ]
           ]
          },
          "colorway": [
           "#636efa",
           "#EF553B",
           "#00cc96",
           "#ab63fa",
           "#FFA15A",
           "#19d3f3",
           "#FF6692",
           "#B6E880",
           "#FF97FF",
           "#FECB52"
          ],
          "font": {
           "color": "#2a3f5f"
          },
          "geo": {
           "bgcolor": "white",
           "lakecolor": "white",
           "landcolor": "#E5ECF6",
           "showlakes": true,
           "showland": true,
           "subunitcolor": "white"
          },
          "hoverlabel": {
           "align": "left"
          },
          "hovermode": "closest",
          "mapbox": {
           "style": "light"
          },
          "paper_bgcolor": "white",
          "plot_bgcolor": "#E5ECF6",
          "polar": {
           "angularaxis": {
            "gridcolor": "white",
            "linecolor": "white",
            "ticks": ""
           },
           "bgcolor": "#E5ECF6",
           "radialaxis": {
            "gridcolor": "white",
            "linecolor": "white",
            "ticks": ""
           }
          },
          "scene": {
           "xaxis": {
            "backgroundcolor": "#E5ECF6",
            "gridcolor": "white",
            "gridwidth": 2,
            "linecolor": "white",
            "showbackground": true,
            "ticks": "",
            "zerolinecolor": "white"
           },
           "yaxis": {
            "backgroundcolor": "#E5ECF6",
            "gridcolor": "white",
            "gridwidth": 2,
            "linecolor": "white",
            "showbackground": true,
            "ticks": "",
            "zerolinecolor": "white"
           },
           "zaxis": {
            "backgroundcolor": "#E5ECF6",
            "gridcolor": "white",
            "gridwidth": 2,
            "linecolor": "white",
            "showbackground": true,
            "ticks": "",
            "zerolinecolor": "white"
           }
          },
          "shapedefaults": {
           "line": {
            "color": "#2a3f5f"
           }
          },
          "ternary": {
           "aaxis": {
            "gridcolor": "white",
            "linecolor": "white",
            "ticks": ""
           },
           "baxis": {
            "gridcolor": "white",
            "linecolor": "white",
            "ticks": ""
           },
           "bgcolor": "#E5ECF6",
           "caxis": {
            "gridcolor": "white",
            "linecolor": "white",
            "ticks": ""
           }
          },
          "title": {
           "x": 0.05
          },
          "xaxis": {
           "automargin": true,
           "gridcolor": "white",
           "linecolor": "white",
           "ticks": "",
           "title": {
            "standoff": 15
           },
           "zerolinecolor": "white",
           "zerolinewidth": 2
          },
          "yaxis": {
           "automargin": true,
           "gridcolor": "white",
           "linecolor": "white",
           "ticks": "",
           "title": {
            "standoff": 15
           },
           "zerolinecolor": "white",
           "zerolinewidth": 2
          }
         }
        },
        "title": {
         "text": "Interactive: Survival by Gender and Class"
        },
        "xaxis": {
         "anchor": "y",
         "autorange": true,
         "domain": [
          0,
          0.31999999999999995
         ],
         "range": [
          -0.5,
          1.5
         ],
         "title": {
          "text": "sex"
         },
         "type": "category"
        },
        "xaxis2": {
         "anchor": "y2",
         "autorange": true,
         "domain": [
          0.33999999999999997,
          0.6599999999999999
         ],
         "matches": "x",
         "range": [
          -0.5,
          1.5
         ],
         "title": {
          "text": "sex"
         },
         "type": "category"
        },
        "xaxis3": {
         "anchor": "y3",
         "autorange": true,
         "domain": [
          0.6799999999999999,
          0.9999999999999999
         ],
         "matches": "x",
         "range": [
          -0.5,
          1.5
         ],
         "title": {
          "text": "sex"
         },
         "type": "category"
        },
        "yaxis": {
         "anchor": "x",
         "autorange": true,
         "domain": [
          0,
          1
         ],
         "range": [
          0,
          315.7894736842105
         ],
         "title": {
          "text": "count"
         }
        },
        "yaxis2": {
         "anchor": "x2",
         "autorange": true,
         "domain": [
          0,
          1
         ],
         "matches": "y",
         "range": [
          0,
          315.7894736842105
         ],
         "showticklabels": false
        },
        "yaxis3": {
         "anchor": "x3",
         "autorange": true,
         "domain": [
          0,
          1
         ],
         "matches": "y",
         "range": [
          0,
          315.7894736842105
         ],
         "showticklabels": false
        }
       }
      },
      "image/png": "[encoded data removed]"
     },
     "metadata": {},
     "output_type": "display_data"
    }
   ],
   "source": [
    "fig1 = px.histogram(df, x=\"sex\", color=\"survived\", barmode=\"group\",\n",
    "                    facet_col=\"pclass\", category_orders={\"survived\":[0,1]},\n",
    "                    title=\"Interactive: Survival by Gender and Class\")\n",
    "fig1.show()"
   ]
  },
  {
   "cell_type": "markdown",
   "id": "ac8cba0c-349c-47d0-ae04-b3113c0db6a8",
   "metadata": {},
   "source": [
    "# 7.2 Age vs Fare (Bubble = Family Size)"
   ]
  },
  {
   "cell_type": "code",
   "execution_count": 10,
   "id": "c3e96e5a-7137-453a-99df-ac41f98389d7",
   "metadata": {},
   "outputs": [
    {
     "data": {
      "application/vnd.plotly.v1+json": {
       "config": {
        "plotlyServerURL": "https://plot.ly"
       },
       "data": [
        {
         "customdata": [
          [
           "Third",
           "male"
          ],
          [
           "First",
           "female"
          ],
          [
           "Third",
           "female"
          ],
          [
           "First",
           "female"
          ],
          [
           "Third",
           "male"
          ],
          [
           "Third",
           "male"
          ],
          [
           "First",
           "male"
          ],
          [
           "Third",
           "male"
          ],
          [
           "Third",
           "female"
          ],
          [
           "Second",
           "female"
          ],
          [
           "Third",
           "female"
          ],
          [
           "First",
           "female"
          ],
          [
           "Third",
           "male"
          ],
          [
           "Third",
           "male"
          ],
          [
           "Third",
           "female"
          ],
          [
           "Second",
           "female"
          ],
          [
           "Third",
           "male"
          ],
          [
           "Second",
           "male"
          ],
          [
           "Third",
           "female"
          ],
          [
           "Third",
           "female"
          ],
          [
           "Second",
           "male"
          ],
          [
           "Second",
           "male"
          ],
          [
           "Third",
           "female"
          ],
          [
           "First",
           "male"
          ],
          [
           "Third",
           "female"
          ],
          [
           "Third",
           "female"
          ],
          [
           "Third",
           "male"
          ],
          [
           "First",
           "male"
          ],
          [
           "Third",
           "female"
          ],
          [
           "Third",
           "male"
          ],
          [
           "First",
           "male"
          ],
          [
           "First",
           "female"
          ],
          [
           "Third",
           "female"
          ],
          [
           "Second",
           "male"
          ],
          [
           "First",
           "male"
          ],
          [
           "First",
           "male"
          ],
          [
           "Third",
           "male"
          ],
          [
           "Third",
           "male"
          ],
          [
           "Third",
           "female"
          ],
          [
           "Third",
           "female"
          ],
          [
           "Third",
           "female"
          ],
          [
           "Second",
           "female"
          ],
          [
           "Third",
           "male"
          ],
          [
           "Second",
           "female"
          ],
          [
           "Third",
           "female"
          ],
          [
           "Third",
           "male"
          ],
          [
           "Third",
           "male"
          ],
          [
           "Third",
           "female"
          ],
          [
           "Third",
           "male"
          ],
          [
           "Third",
           "female"
          ],
          [
           "Third",
           "male"
          ],
          [
           "Third",
           "male"
          ],
          [
           "First",
           "female"
          ],
          [
           "Second",
           "female"
          ],
          [
           "First",
           "male"
          ],
          [
           "First",
           "male"
          ],
          [
           "Second",
           "female"
          ],
          [
           "Third",
           "male"
          ],
          [
           "Second",
           "female"
          ],
          [
           "Third",
           "male"
          ],
          [
           "Third",
           "male"
          ],
          [
           "First",
           "female"
          ],
          [
           "First",
           "male"
          ],
          [
           "Third",
           "male"
          ],
          [
           "First",
           "male"
          ],
          [
           "Third",
           "male"
          ],
          [
           "Second",
           "female"
          ],
          [
           "Third",
           "male"
          ],
          [
           "Third",
           "female"
          ],
          [
           "Third",
           "male"
          ],
          [
           "Second",
           "male"
          ],
          [
           "Third",
           "female"
          ],
          [
           "Second",
           "male"
          ],
          [
           "Third",
           "male"
          ],
          [
           "Third",
           "male"
          ],
          [
           "Third",
           "male"
          ],
          [
           "Third",
           "male"
          ],
          [
           "Third",
           "male"
          ],
          [
           "Second",
           "male"
          ],
          [
           "Third",
           "female"
          ],
          [
           "Third",
           "male"
          ],
          [
           "Third",
           "male"
          ],
          [
           "Third",
           "female"
          ],
          [
           "First",
           "male"
          ],
          [
           "Second",
           "female"
          ],
          [
           "Third",
           "female"
          ],
          [
           "Third",
           "male"
          ],
          [
           "Third",
           "male"
          ],
          [
           "First",
           "female"
          ],
          [
           "Third",
           "male"
          ],
          [
           "Third",
           "male"
          ],
          [
           "Third",
           "male"
          ],
          [
           "First",
           "male"
          ],
          [
           "Third",
           "male"
          ],
          [
           "Third",
           "male"
          ],
          [
           "Third",
           "male"
          ],
          [
           "First",
           "male"
          ],
          [
           "First",
           "male"
          ],
          [
           "Second",
           "female"
          ],
          [
           "Second",
           "male"
          ],
          [
           "Third",
           "female"
          ],
          [
           "Third",
           "male"
          ],
          [
           "First",
           "male"
          ],
          [
           "Third",
           "male"
          ],
          [
           "Third",
           "male"
          ],
          [
           "Third",
           "male"
          ],
          [
           "Third",
           "female"
          ],
          [
           "Third",
           "male"
          ],
          [
           "Third",
           "male"
          ],
          [
           "Third",
           "female"
          ],
          [
           "First",
           "male"
          ],
          [
           "Third",
           "female"
          ],
          [
           "Third",
           "male"
          ],
          [
           "Third",
           "female"
          ],
          [
           "Third",
           "female"
          ],
          [
           "Third",
           "male"
          ],
          [
           "Third",
           "male"
          ],
          [
           "Second",
           "male"
          ],
          [
           "First",
           "male"
          ],
          [
           "Third",
           "female"
          ],
          [
           "Second",
           "male"
          ],
          [
           "Third",
           "male"
          ],
          [
           "Second",
           "male"
          ],
          [
           "Second",
           "female"
          ],
          [
           "First",
           "male"
          ],
          [
           "Third",
           "male"
          ],
          [
           "Third",
           "male"
          ],
          [
           "Third",
           "male"
          ],
          [
           "Third",
           "female"
          ],
          [
           "Third",
           "male"
          ],
          [
           "Third",
           "male"
          ],
          [
           "Third",
           "male"
          ],
          [
           "Third",
           "female"
          ],
          [
           "Second",
           "female"
          ],
          [
           "Second",
           "male"
          ],
          [
           "Second",
           "male"
          ],
          [
           "First",
           "female"
          ],
          [
           "First",
           "male"
          ],
          [
           "Third",
           "male"
          ],
          [
           "First",
           "male"
          ],
          [
           "Third",
           "female"
          ],
          [
           "Third",
           "female"
          ],
          [
           "Third",
           "female"
          ],
          [
           "Third",
           "male"
          ],
          [
           "Second",
           "male"
          ],
          [
           "Second",
           "male"
          ],
          [
           "Third",
           "male"
          ],
          [
           "Third",
           "female"
          ],
          [
           "Second",
           "male"
          ],
          [
           "Second",
           "male"
          ],
          [
           "Second",
           "male"
          ],
          [
           "First",
           "female"
          ],
          [
           "Third",
           "male"
          ],
          [
           "Third",
           "male"
          ],
          [
           "Third",
           "male"
          ],
          [
           "First",
           "male"
          ],
          [
           "Third",
           "female"
          ],
          [
           "Third",
           "male"
          ],
          [
           "Third",
           "male"
          ],
          [
           "Third",
           "male"
          ],
          [
           "Third",
           "male"
          ],
          [
           "Second",
           "female"
          ],
          [
           "Third",
           "male"
          ],
          [
           "Third",
           "male"
          ],
          [
           "Third",
           "male"
          ],
          [
           "Third",
           "male"
          ],
          [
           "First",
           "female"
          ],
          [
           "Third",
           "female"
          ],
          [
           "First",
           "male"
          ],
          [
           "Third",
           "male"
          ],
          [
           "First",
           "male"
          ],
          [
           "Third",
           "male"
          ],
          [
           "Third",
           "female"
          ],
          [
           "Third",
           "male"
          ],
          [
           "First",
           "male"
          ],
          [
           "Third",
           "male"
          ],
          [
           "Third",
           "male"
          ],
          [
           "First",
           "female"
          ],
          [
           "Second",
           "male"
          ],
          [
           "Third",
           "male"
          ],
          [
           "Third",
           "female"
          ],
          [
           "Second",
           "male"
          ],
          [
           "Third",
           "male"
          ],
          [
           "Second",
           "male"
          ],
          [
           "Third",
           "female"
          ],
          [
           "First",
           "male"
          ],
          [
           "Third",
           "female"
          ],
          [
           "First",
           "male"
          ],
          [
           "Third",
           "male"
          ],
          [
           "Third",
           "male"
          ],
          [
           "Second",
           "female"
          ],
          [
           "Second",
           "male"
          ],
          [
           "Third",
           "female"
          ],
          [
           "Second",
           "male"
          ],
          [
           "First",
           "female"
          ],
          [
           "First",
           "female"
          ],
          [
           "Third",
           "male"
          ],
          [
           "Third",
           "male"
          ],
          [
           "Third",
           "female"
          ],
          [
           "Second",
           "female"
          ],
          [
           "Third",
           "male"
          ],
          [
           "Third",
           "male"
          ],
          [
           "Third",
           "male"
          ],
          [
           "Third",
           "male"
          ],
          [
           "Third",
           "male"
          ],
          [
           "Third",
           "female"
          ],
          [
           "Third",
           "male"
          ],
          [
           "Third",
           "male"
          ],
          [
           "Third",
           "female"
          ],
          [
           "First",
           "male"
          ],
          [
           "Third",
           "male"
          ],
          [
           "Second",
           "female"
          ],
          [
           "Third",
           "male"
          ],
          [
           "Second",
           "male"
          ],
          [
           "Third",
           "male"
          ],
          [
           "First",
           "female"
          ],
          [
           "Third",
           "female"
          ],
          [
           "Second",
           "male"
          ],
          [
           "First",
           "female"
          ],
          [
           "Second",
           "male"
          ],
          [
           "Third",
           "male"
          ],
          [
           "Second",
           "male"
          ],
          [
           "Third",
           "male"
          ],
          [
           "Third",
           "male"
          ],
          [
           "First",
           "male"
          ],
          [
           "Third",
           "male"
          ],
          [
           "Second",
           "male"
          ],
          [
           "Third",
           "male"
          ],
          [
           "Second",
           "male"
          ],
          [
           "Third",
           "female"
          ],
          [
           "First",
           "female"
          ],
          [
           "Third",
           "male"
          ],
          [
           "Second",
           "male"
          ],
          [
           "Third",
           "female"
          ],
          [
           "Second",
           "male"
          ],
          [
           "Third",
           "female"
          ],
          [
           "Second",
           "male"
          ],
          [
           "Second",
           "female"
          ],
          [
           "Second",
           "male"
          ],
          [
           "Second",
           "male"
          ],
          [
           "Third",
           "female"
          ],
          [
           "Third",
           "female"
          ],
          [
           "Second",
           "male"
          ],
          [
           "Third",
           "male"
          ],
          [
           "Third",
           "male"
          ],
          [
           "First",
           "male"
          ],
          [
           "Third",
           "female"
          ],
          [
           "Second",
           "female"
          ],
          [
           "First",
           "male"
          ],
          [
           "Second",
           "male"
          ],
          [
           "Third",
           "male"
          ],
          [
           "Third",
           "female"
          ],
          [
           "First",
           "male"
          ],
          [
           "Third",
           "male"
          ],
          [
           "Third",
           "female"
          ],
          [
           "Third",
           "female"
          ],
          [
           "First",
           "female"
          ],
          [
           "First",
           "female"
          ],
          [
           "First",
           "female"
          ],
          [
           "Second",
           "female"
          ],
          [
           "Third",
           "male"
          ],
          [
           "Third",
           "male"
          ],
          [
           "First",
           "male"
          ],
          [
           "First",
           "male"
          ],
          [
           "Third",
           "female"
          ],
          [
           "Second",
           "male"
          ],
          [
           "Third",
           "male"
          ],
          [
           "Third",
           "male"
          ],
          [
           "First",
           "female"
          ],
          [
           "First",
           "female"
          ],
          [
           "First",
           "male"
          ],
          [
           "Third",
           "male"
          ],
          [
           "Second",
           "female"
          ],
          [
           "First",
           "male"
          ],
          [
           "Third",
           "female"
          ],
          [
           "First",
           "female"
          ],
          [
           "Third",
           "female"
          ],
          [
           "Second",
           "male"
          ],
          [
           "Third",
           "male"
          ],
          [
           "Third",
           "female"
          ],
          [
           "Third",
           "male"
          ],
          [
           "Third",
           "male"
          ],
          [
           "Third",
           "male"
          ],
          [
           "Third",
           "male"
          ],
          [
           "First",
           "male"
          ],
          [
           "Third",
           "male"
          ],
          [
           "Third",
           "male"
          ],
          [
           "Third",
           "male"
          ],
          [
           "Second",
           "male"
          ],
          [
           "Third",
           "female"
          ],
          [
           "First",
           "female"
          ],
          [
           "First",
           "female"
          ],
          [
           "Second",
           "male"
          ],
          [
           "Third",
           "female"
          ],
          [
           "Third",
           "male"
          ],
          [
           "First",
           "male"
          ],
          [
           "Third",
           "male"
          ],
          [
           "First",
           "female"
          ],
          [
           "First",
           "male"
          ],
          [
           "First",
           "female"
          ],
          [
           "Third",
           "female"
          ],
          [
           "Third",
           "male"
          ],
          [
           "Third",
           "male"
          ],
          [
           "Second",
           "female"
          ],
          [
           "Third",
           "male"
          ],
          [
           "First",
           "male"
          ],
          [
           "First",
           "female"
          ],
          [
           "First",
           "female"
          ],
          [
           "Second",
           "male"
          ],
          [
           "First",
           "female"
          ],
          [
           "First",
           "female"
          ],
          [
           "First",
           "female"
          ],
          [
           "Second",
           "female"
          ],
          [
           "Third",
           "male"
          ],
          [
           "Second",
           "male"
          ],
          [
           "Third",
           "female"
          ],
          [
           "Second",
           "female"
          ],
          [
           "Second",
           "male"
          ],
          [
           "First",
           "female"
          ],
          [
           "First",
           "female"
          ],
          [
           "Third",
           "male"
          ],
          [
           "Third",
           "male"
          ],
          [
           "Second",
           "female"
          ],
          [
           "Second",
           "female"
          ],
          [
           "Third",
           "male"
          ],
          [
           "First",
           "female"
          ],
          [
           "Third",
           "male"
          ],
          [
           "Second",
           "female"
          ],
          [
           "Third",
           "female"
          ],
          [
           "First",
           "female"
          ],
          [
           "Third",
           "female"
          ],
          [
           "First",
           "male"
          ],
          [
           "First",
           "male"
          ],
          [
           "Third",
           "male"
          ],
          [
           "First",
           "female"
          ],
          [
           "Third",
           "male"
          ],
          [
           "First",
           "male"
          ],
          [
           "First",
           "female"
          ],
          [
           "Third",
           "male"
          ],
          [
           "First",
           "male"
          ],
          [
           "Second",
           "male"
          ],
          [
           "First",
           "female"
          ],
          [
           "Second",
           "male"
          ],
          [
           "Second",
           "male"
          ],
          [
           "Second",
           "male"
          ],
          [
           "Second",
           "female"
          ],
          [
           "Second",
           "female"
          ],
          [
           "Third",
           "female"
          ],
          [
           "Third",
           "male"
          ],
          [
           "Third",
           "male"
          ],
          [
           "Third",
           "male"
          ],
          [
           "First",
           "male"
          ],
          [
           "Third",
           "male"
          ],
          [
           "Third",
           "male"
          ],
          [
           "Third",
           "male"
          ],
          [
           "Third",
           "male"
          ],
          [
           "First",
           "female"
          ],
          [
           "Second",
           "female"
          ],
          [
           "Third",
           "female"
          ],
          [
           "Third",
           "female"
          ],
          [
           "Third",
           "male"
          ],
          [
           "Second",
           "male"
          ],
          [
           "Third",
           "female"
          ],
          [
           "Third",
           "male"
          ],
          [
           "Third",
           "male"
          ],
          [
           "Third",
           "male"
          ],
          [
           "First",
           "female"
          ],
          [
           "Third",
           "female"
          ],
          [
           "Third",
           "female"
          ],
          [
           "First",
           "female"
          ],
          [
           "First",
           "male"
          ],
          [
           "Third",
           "male"
          ],
          [
           "Third",
           "male"
          ],
          [
           "First",
           "male"
          ],
          [
           "Third",
           "female"
          ],
          [
           "First",
           "female"
          ],
          [
           "Third",
           "female"
          ],
          [
           "First",
           "male"
          ],
          [
           "Third",
           "male"
          ],
          [
           "Third",
           "male"
          ],
          [
           "First",
           "female"
          ],
          [
           "Third",
           "female"
          ],
          [
           "Third",
           "male"
          ],
          [
           "First",
           "female"
          ],
          [
           "Third",
           "male"
          ],
          [
           "Second",
           "male"
          ],
          [
           "Third",
           "male"
          ],
          [
           "Second",
           "female"
          ],
          [
           "Third",
           "male"
          ],
          [
           "Second",
           "female"
          ],
          [
           "First",
           "male"
          ],
          [
           "Third",
           "male"
          ],
          [
           "Third",
           "male"
          ],
          [
           "First",
           "female"
          ],
          [
           "Third",
           "female"
          ],
          [
           "Third",
           "male"
          ],
          [
           "Third",
           "female"
          ],
          [
           "Second",
           "male"
          ],
          [
           "Second",
           "male"
          ],
          [
           "Second",
           "female"
          ],
          [
           "Third",
           "male"
          ],
          [
           "Third",
           "male"
          ],
          [
           "Third",
           "female"
          ],
          [
           "Third",
           "male"
          ],
          [
           "Third",
           "female"
          ],
          [
           "Second",
           "male"
          ],
          [
           "Third",
           "male"
          ],
          [
           "Second",
           "male"
          ],
          [
           "Third",
           "male"
          ],
          [
           "Third",
           "female"
          ],
          [
           "Third",
           "male"
          ],
          [
           "Third",
           "male"
          ],
          [
           "First",
           "female"
          ],
          [
           "Second",
           "male"
          ],
          [
           "Third",
           "male"
          ],
          [
           "Third",
           "female"
          ],
          [
           "Second",
           "female"
          ],
          [
           "Second",
           "female"
          ],
          [
           "Second",
           "male"
          ],
          [
           "Third",
           "female"
          ],
          [
           "Third",
           "male"
          ],
          [
           "Third",
           "male"
          ],
          [
           "Third",
           "male"
          ],
          [
           "Third",
           "female"
          ],
          [
           "Third",
           "male"
          ],
          [
           "Third",
           "male"
          ],
          [
           "Second",
           "female"
          ],
          [
           "Second",
           "female"
          ],
          [
           "Third",
           "male"
          ],
          [
           "Third",
           "male"
          ],
          [
           "First",
           "male"
          ],
          [
           "Third",
           "female"
          ],
          [
           "Second",
           "female"
          ],
          [
           "Third",
           "male"
          ],
          [
           "First",
           "male"
          ],
          [
           "First",
           "female"
          ],
          [
           "Third",
           "female"
          ],
          [
           "Second",
           "female"
          ],
          [
           "First",
           "male"
          ],
          [
           "Second",
           "male"
          ],
          [
           "Second",
           "female"
          ],
          [
           "Third",
           "male"
          ],
          [
           "Third",
           "male"
          ],
          [
           "Second",
           "female"
          ],
          [
           "Third",
           "male"
          ],
          [
           "First",
           "male"
          ],
          [
           "Second",
           "female"
          ],
          [
           "First",
           "male"
          ],
          [
           "Third",
           "female"
          ],
          [
           "First",
           "male"
          ],
          [
           "Second",
           "male"
          ],
          [
           "Third",
           "male"
          ],
          [
           "First",
           "male"
          ],
          [
           "First",
           "male"
          ],
          [
           "Third",
           "male"
          ],
          [
           "Third",
           "male"
          ],
          [
           "First",
           "male"
          ],
          [
           "First",
           "female"
          ],
          [
           "Second",
           "female"
          ],
          [
           "Third",
           "male"
          ],
          [
           "First",
           "male"
          ],
          [
           "Third",
           "male"
          ],
          [
           "First",
           "male"
          ],
          [
           "Second",
           "male"
          ],
          [
           "Third",
           "male"
          ],
          [
           "Third",
           "male"
          ],
          [
           "Second",
           "male"
          ],
          [
           "First",
           "male"
          ],
          [
           "Third",
           "male"
          ],
          [
           "Third",
           "female"
          ],
          [
           "Third",
           "male"
          ],
          [
           "Third",
           "male"
          ],
          [
           "Second",
           "female"
          ],
          [
           "Second",
           "female"
          ],
          [
           "Third",
           "female"
          ],
          [
           "First",
           "male"
          ],
          [
           "Second",
           "male"
          ],
          [
           "Third",
           "male"
          ],
          [
           "Third",
           "male"
          ],
          [
           "Third",
           "female"
          ],
          [
           "Third",
           "male"
          ],
          [
           "Second",
           "male"
          ],
          [
           "Third",
           "male"
          ],
          [
           "Third",
           "female"
          ],
          [
           "First",
           "male"
          ],
          [
           "Third",
           "female"
          ],
          [
           "First",
           "female"
          ],
          [
           "First",
           "male"
          ],
          [
           "Third",
           "male"
          ],
          [
           "Third",
           "male"
          ],
          [
           "Third",
           "male"
          ],
          [
           "Third",
           "male"
          ],
          [
           "First",
           "male"
          ],
          [
           "First",
           "male"
          ],
          [
           "Third",
           "male"
          ],
          [
           "Third",
           "male"
          ],
          [
           "First",
           "female"
          ],
          [
           "Third",
           "male"
          ],
          [
           "First",
           "female"
          ],
          [
           "Third",
           "male"
          ],
          [
           "Third",
           "male"
          ],
          [
           "Third",
           "female"
          ],
          [
           "Third",
           "female"
          ],
          [
           "Third",
           "female"
          ],
          [
           "First",
           "female"
          ],
          [
           "First",
           "male"
          ],
          [
           "Second",
           "female"
          ],
          [
           "First",
           "male"
          ],
          [
           "Third",
           "male"
          ],
          [
           "Third",
           "male"
          ],
          [
           "Third",
           "male"
          ],
          [
           "Third",
           "male"
          ],
          [
           "First",
           "male"
          ],
          [
           "First",
           "female"
          ],
          [
           "Third",
           "male"
          ],
          [
           "First",
           "male"
          ],
          [
           "Second",
           "female"
          ],
          [
           "Third",
           "male"
          ],
          [
           "Second",
           "female"
          ],
          [
           "Third",
           "male"
          ],
          [
           "First",
           "female"
          ],
          [
           "Third",
           "male"
          ],
          [
           "Third",
           "male"
          ],
          [
           "First",
           "female"
          ],
          [
           "Third",
           "male"
          ],
          [
           "Third",
           "male"
          ],
          [
           "Second",
           "female"
          ],
          [
           "First",
           "male"
          ],
          [
           "Third",
           "male"
          ],
          [
           "Second",
           "male"
          ],
          [
           "Second",
           "female"
          ],
          [
           "Third",
           "male"
          ],
          [
           "Third",
           "male"
          ],
          [
           "Third",
           "female"
          ],
          [
           "Third",
           "female"
          ],
          [
           "Second",
           "female"
          ],
          [
           "First",
           "male"
          ],
          [
           "First",
           "female"
          ],
          [
           "Third",
           "male"
          ],
          [
           "First",
           "female"
          ],
          [
           "First",
           "female"
          ],
          [
           "Third",
           "female"
          ],
          [
           "Third",
           "female"
          ],
          [
           "Second",
           "male"
          ],
          [
           "First",
           "male"
          ],
          [
           "First",
           "male"
          ],
          [
           "Second",
           "female"
          ],
          [
           "Second",
           "male"
          ],
          [
           "Third",
           "male"
          ],
          [
           "Second",
           "male"
          ],
          [
           "First",
           "male"
          ],
          [
           "Second",
           "male"
          ],
          [
           "Third",
           "male"
          ],
          [
           "Third",
           "male"
          ],
          [
           "Third",
           "female"
          ],
          [
           "First",
           "male"
          ],
          [
           "First",
           "female"
          ],
          [
           "First",
           "male"
          ],
          [
           "First",
           "female"
          ],
          [
           "Third",
           "female"
          ],
          [
           "Third",
           "male"
          ],
          [
           "Third",
           "male"
          ],
          [
           "Second",
           "male"
          ],
          [
           "Third",
           "male"
          ],
          [
           "Third",
           "female"
          ],
          [
           "Third",
           "male"
          ],
          [
           "Third",
           "male"
          ],
          [
           "Third",
           "female"
          ],
          [
           "Third",
           "male"
          ],
          [
           "Third",
           "male"
          ],
          [
           "Second",
           "male"
          ],
          [
           "First",
           "female"
          ],
          [
           "First",
           "male"
          ],
          [
           "Third",
           "female"
          ],
          [
           "Third",
           "male"
          ],
          [
           "Third",
           "male"
          ],
          [
           "Second",
           "female"
          ],
          [
           "First",
           "female"
          ],
          [
           "Third",
           "female"
          ],
          [
           "Third",
           "male"
          ],
          [
           "Second",
           "female"
          ],
          [
           "First",
           "female"
          ],
          [
           "Second",
           "male"
          ],
          [
           "First",
           "male"
          ],
          [
           "Third",
           "male"
          ],
          [
           "First",
           "female"
          ],
          [
           "Second",
           "male"
          ],
          [
           "First",
           "male"
          ],
          [
           "Third",
           "male"
          ],
          [
           "Third",
           "male"
          ],
          [
           "Third",
           "male"
          ],
          [
           "First",
           "female"
          ],
          [
           "Third",
           "male"
          ],
          [
           "Third",
           "female"
          ],
          [
           "Second",
           "male"
          ],
          [
           "Third",
           "male"
          ],
          [
           "Second",
           "female"
          ],
          [
           "Third",
           "male"
          ],
          [
           "Third",
           "male"
          ],
          [
           "First",
           "male"
          ],
          [
           "Second",
           "female"
          ],
          [
           "Third",
           "male"
          ],
          [
           "First",
           "male"
          ],
          [
           "Third",
           "male"
          ],
          [
           "First",
           "male"
          ],
          [
           "Third",
           "male"
          ],
          [
           "Third",
           "male"
          ],
          [
           "First",
           "male"
          ],
          [
           "Second",
           "female"
          ],
          [
           "First",
           "female"
          ],
          [
           "Third",
           "female"
          ],
          [
           "Third",
           "male"
          ],
          [
           "Third",
           "female"
          ],
          [
           "Third",
           "male"
          ],
          [
           "Third",
           "male"
          ],
          [
           "Second",
           "female"
          ],
          [
           "Third",
           "male"
          ],
          [
           "Third",
           "female"
          ],
          [
           "Second",
           "female"
          ],
          [
           "Second",
           "male"
          ],
          [
           "Third",
           "male"
          ],
          [
           "First",
           "male"
          ],
          [
           "Third",
           "male"
          ],
          [
           "Third",
           "male"
          ],
          [
           "Third",
           "male"
          ],
          [
           "First",
           "male"
          ],
          [
           "Second",
           "male"
          ],
          [
           "First",
           "female"
          ],
          [
           "Third",
           "male"
          ],
          [
           "Third",
           "male"
          ],
          [
           "First",
           "male"
          ],
          [
           "Third",
           "male"
          ],
          [
           "First",
           "male"
          ],
          [
           "First",
           "male"
          ],
          [
           "Third",
           "female"
          ],
          [
           "Second",
           "female"
          ],
          [
           "Third",
           "male"
          ],
          [
           "Second",
           "male"
          ],
          [
           "Third",
           "female"
          ],
          [
           "Third",
           "male"
          ],
          [
           "Third",
           "male"
          ],
          [
           "First",
           "female"
          ],
          [
           "Third",
           "female"
          ],
          [
           "Third",
           "male"
          ],
          [
           "Third",
           "female"
          ],
          [
           "First",
           "male"
          ],
          [
           "Third",
           "male"
          ],
          [
           "First",
           "male"
          ],
          [
           "Third",
           "male"
          ],
          [
           "Third",
           "female"
          ],
          [
           "Third",
           "male"
          ],
          [
           "Second",
           "female"
          ],
          [
           "Third",
           "male"
          ],
          [
           "Third",
           "female"
          ],
          [
           "Third",
           "female"
          ],
          [
           "Second",
           "male"
          ],
          [
           "Third",
           "male"
          ],
          [
           "Third",
           "female"
          ],
          [
           "Second",
           "male"
          ],
          [
           "First",
           "male"
          ],
          [
           "First",
           "male"
          ],
          [
           "Third",
           "male"
          ],
          [
           "First",
           "male"
          ],
          [
           "Third",
           "male"
          ],
          [
           "Third",
           "male"
          ],
          [
           "Second",
           "male"
          ],
          [
           "Second",
           "male"
          ],
          [
           "Third",
           "male"
          ],
          [
           "Third",
           "male"
          ],
          [
           "First",
           "female"
          ],
          [
           "Second",
           "female"
          ],
          [
           "First",
           "male"
          ],
          [
           "Second",
           "male"
          ],
          [
           "Second",
           "male"
          ],
          [
           "Second",
           "male"
          ],
          [
           "Third",
           "male"
          ],
          [
           "Third",
           "male"
          ],
          [
           "Third",
           "female"
          ],
          [
           "Third",
           "female"
          ],
          [
           "First",
           "male"
          ],
          [
           "Third",
           "female"
          ],
          [
           "First",
           "male"
          ],
          [
           "Third",
           "male"
          ],
          [
           "Third",
           "male"
          ],
          [
           "Second",
           "male"
          ],
          [
           "Second",
           "male"
          ],
          [
           "Third",
           "male"
          ],
          [
           "Third",
           "male"
          ],
          [
           "Third",
           "male"
          ],
          [
           "First",
           "female"
          ],
          [
           "First",
           "male"
          ],
          [
           "Third",
           "female"
          ],
          [
           "Third",
           "male"
          ],
          [
           "Third",
           "male"
          ],
          [
           "First",
           "male"
          ],
          [
           "Second",
           "male"
          ],
          [
           "Third",
           "male"
          ],
          [
           "Third",
           "female"
          ],
          [
           "First",
           "male"
          ],
          [
           "Third",
           "male"
          ],
          [
           "First",
           "female"
          ],
          [
           "First",
           "male"
          ],
          [
           "Third",
           "female"
          ],
          [
           "Third",
           "male"
          ],
          [
           "Third",
           "male"
          ],
          [
           "Second",
           "male"
          ],
          [
           "Second",
           "female"
          ],
          [
           "First",
           "male"
          ],
          [
           "First",
           "female"
          ],
          [
           "Third",
           "male"
          ],
          [
           "First",
           "female"
          ],
          [
           "First",
           "male"
          ],
          [
           "First",
           "male"
          ],
          [
           "Third",
           "male"
          ],
          [
           "Second",
           "male"
          ],
          [
           "Third",
           "male"
          ],
          [
           "First",
           "female"
          ],
          [
           "Second",
           "female"
          ],
          [
           "Third",
           "male"
          ],
          [
           "Third",
           "male"
          ],
          [
           "Second",
           "female"
          ],
          [
           "Third",
           "male"
          ],
          [
           "Second",
           "male"
          ],
          [
           "Second",
           "male"
          ],
          [
           "First",
           "male"
          ],
          [
           "Third",
           "male"
          ],
          [
           "Second",
           "female"
          ],
          [
           "Third",
           "female"
          ],
          [
           "Second",
           "male"
          ],
          [
           "Third",
           "female"
          ],
          [
           "First",
           "female"
          ],
          [
           "Third",
           "male"
          ],
          [
           "Second",
           "male"
          ],
          [
           "Second",
           "male"
          ],
          [
           "Second",
           "male"
          ],
          [
           "Third",
           "male"
          ],
          [
           "Third",
           "female"
          ],
          [
           "First",
           "male"
          ],
          [
           "Third",
           "male"
          ],
          [
           "Third",
           "male"
          ],
          [
           "First",
           "male"
          ],
          [
           "First",
           "male"
          ],
          [
           "First",
           "female"
          ],
          [
           "Third",
           "male"
          ],
          [
           "Third",
           "male"
          ],
          [
           "First",
           "male"
          ],
          [
           "Third",
           "male"
          ],
          [
           "Second",
           "female"
          ],
          [
           "First",
           "male"
          ],
          [
           "Third",
           "male"
          ],
          [
           "Second",
           "female"
          ],
          [
           "Third",
           "male"
          ],
          [
           "Third",
           "male"
          ],
          [
           "Third",
           "male"
          ],
          [
           "Second",
           "female"
          ],
          [
           "Second",
           "male"
          ],
          [
           "Third",
           "male"
          ],
          [
           "Second",
           "male"
          ],
          [
           "Third",
           "male"
          ],
          [
           "First",
           "female"
          ],
          [
           "Third",
           "male"
          ],
          [
           "Third",
           "male"
          ],
          [
           "Third",
           "male"
          ],
          [
           "First",
           "female"
          ],
          [
           "Third",
           "male"
          ],
          [
           "First",
           "female"
          ],
          [
           "First",
           "male"
          ],
          [
           "Third",
           "female"
          ],
          [
           "Third",
           "male"
          ],
          [
           "Third",
           "male"
          ],
          [
           "Third",
           "male"
          ],
          [
           "Third",
           "male"
          ],
          [
           "Second",
           "female"
          ],
          [
           "Third",
           "male"
          ],
          [
           "Second",
           "female"
          ],
          [
           "Third",
           "male"
          ],
          [
           "Third",
           "male"
          ],
          [
           "Third",
           "female"
          ],
          [
           "Third",
           "male"
          ],
          [
           "First",
           "female"
          ],
          [
           "Third",
           "female"
          ],
          [
           "First",
           "female"
          ],
          [
           "First",
           "male"
          ],
          [
           "Third",
           "male"
          ],
          [
           "Third",
           "male"
          ],
          [
           "Third",
           "male"
          ],
          [
           "Third",
           "female"
          ],
          [
           "Third",
           "male"
          ],
          [
           "Third",
           "male"
          ],
          [
           "First",
           "male"
          ],
          [
           "Third",
           "male"
          ],
          [
           "Second",
           "male"
          ],
          [
           "Third",
           "female"
          ],
          [
           "First",
           "male"
          ],
          [
           "Third",
           "male"
          ],
          [
           "Second",
           "male"
          ],
          [
           "First",
           "female"
          ],
          [
           "Third",
           "female"
          ],
          [
           "Third",
           "male"
          ],
          [
           "Third",
           "female"
          ],
          [
           "Second",
           "male"
          ],
          [
           "Second",
           "female"
          ],
          [
           "First",
           "male"
          ],
          [
           "Third",
           "male"
          ],
          [
           "Third",
           "male"
          ],
          [
           "Third",
           "male"
          ],
          [
           "First",
           "male"
          ],
          [
           "Third",
           "female"
          ],
          [
           "Second",
           "male"
          ],
          [
           "First",
           "female"
          ],
          [
           "Third",
           "male"
          ],
          [
           "Third",
           "male"
          ],
          [
           "Second",
           "male"
          ],
          [
           "Third",
           "female"
          ],
          [
           "Third",
           "male"
          ],
          [
           "First",
           "male"
          ],
          [
           "Third",
           "female"
          ],
          [
           "Second",
           "male"
          ],
          [
           "Third",
           "male"
          ],
          [
           "Third",
           "male"
          ],
          [
           "First",
           "female"
          ],
          [
           "Third",
           "male"
          ],
          [
           "First",
           "male"
          ],
          [
           "Third",
           "female"
          ],
          [
           "Third",
           "male"
          ],
          [
           "Third",
           "male"
          ],
          [
           "Third",
           "male"
          ],
          [
           "Second",
           "male"
          ],
          [
           "Third",
           "male"
          ],
          [
           "First",
           "female"
          ],
          [
           "Third",
           "female"
          ],
          [
           "Second",
           "male"
          ],
          [
           "Third",
           "male"
          ],
          [
           "Third",
           "male"
          ],
          [
           "Third",
           "male"
          ],
          [
           "First",
           "female"
          ],
          [
           "Third",
           "male"
          ],
          [
           "Third",
           "male"
          ],
          [
           "Third",
           "male"
          ],
          [
           "First",
           "male"
          ],
          [
           "Third",
           "male"
          ],
          [
           "Second",
           "male"
          ],
          [
           "First",
           "female"
          ],
          [
           "Third",
           "male"
          ],
          [
           "Third",
           "male"
          ],
          [
           "Third",
           "male"
          ],
          [
           "Third",
           "male"
          ],
          [
           "Third",
           "male"
          ],
          [
           "Second",
           "male"
          ],
          [
           "First",
           "female"
          ],
          [
           "Third",
           "male"
          ],
          [
           "Third",
           "male"
          ],
          [
           "Third",
           "female"
          ],
          [
           "First",
           "female"
          ],
          [
           "Second",
           "female"
          ],
          [
           "Third",
           "female"
          ],
          [
           "First",
           "female"
          ],
          [
           "First",
           "male"
          ],
          [
           "Third",
           "female"
          ],
          [
           "Third",
           "male"
          ],
          [
           "Third",
           "male"
          ],
          [
           "Second",
           "male"
          ],
          [
           "First",
           "female"
          ],
          [
           "Third",
           "female"
          ],
          [
           "Second",
           "male"
          ],
          [
           "Second",
           "female"
          ],
          [
           "Second",
           "female"
          ],
          [
           "First",
           "male"
          ],
          [
           "Third",
           "male"
          ],
          [
           "Third",
           "male"
          ],
          [
           "Third",
           "male"
          ],
          [
           "First",
           "female"
          ],
          [
           "First",
           "male"
          ],
          [
           "Third",
           "male"
          ],
          [
           "Second",
           "female"
          ],
          [
           "Third",
           "female"
          ],
          [
           "Third",
           "male"
          ],
          [
           "Third",
           "male"
          ],
          [
           "Third",
           "male"
          ],
          [
           "First",
           "female"
          ],
          [
           "Second",
           "female"
          ],
          [
           "Third",
           "male"
          ],
          [
           "Third",
           "female"
          ],
          [
           "Second",
           "male"
          ],
          [
           "Third",
           "male"
          ],
          [
           "Third",
           "female"
          ],
          [
           "Second",
           "male"
          ],
          [
           "First",
           "female"
          ],
          [
           "Third",
           "female"
          ],
          [
           "First",
           "male"
          ],
          [
           "Third",
           "male"
          ]
         ],
         "hovertemplate": "age=%{x}<br>fare=%{y}<br>family_size=%{marker.size}<br>class=%{customdata[0]}<br>sex=%{customdata[1]}<br>survived=%{marker.color}<extra></extra>",
         "legendgroup": "",
         "marker": {
          "color": {
           "_inputArray": {
            "0": 0,
            "1": 1,
            "10": 1,
            "100": 0,
            "101": 0,
            "102": 0,
            "103": 0,
            "104": 0,
            "105": 0,
            "106": 1,
            "107": 1,
            "108": 0,
            "109": 1,
            "11": 1,
            "110": 0,
            "111": 0,
            "112": 0,
            "113": 0,
            "114": 0,
            "115": 0,
            "116": 0,
            "117": 0,
            "118": 0,
            "119": 0,
            "12": 0,
            "120": 0,
            "121": 0,
            "122": 0,
            "123": 1,
            "124": 0,
            "125": 1,
            "126": 0,
            "127": 1,
            "128": 1,
            "129": 0,
            "13": 0,
            "130": 0,
            "131": 0,
            "132": 0,
            "133": 1,
            "134": 0,
            "135": 0,
            "136": 1,
            "137": 0,
            "138": 0,
            "139": 0,
            "14": 0,
            "140": 0,
            "141": 1,
            "142": 1,
            "143": 0,
            "144": 0,
            "145": 0,
            "146": 1,
            "147": 0,
            "148": 0,
            "149": 0,
            "15": 1,
            "150": 0,
            "151": 1,
            "152": 0,
            "153": 0,
            "154": 0,
            "155": 0,
            "156": 1,
            "157": 0,
            "158": 0,
            "159": 0,
            "16": 0,
            "160": 0,
            "161": 1,
            "162": 0,
            "163": 0,
            "164": 0,
            "165": 1,
            "166": 1,
            "167": 0,
            "168": 0,
            "169": 0,
            "17": 1,
            "170": 0,
            "171": 0,
            "172": 1,
            "173": 0,
            "174": 0,
            "175": 0,
            "176": 0,
            "177": 0,
            "178": 0,
            "179": 0,
            "18": 0,
            "180": 0,
            "181": 0,
            "182": 0,
            "183": 1,
            "184": 1,
            "185": 0,
            "186": 1,
            "187": 1,
            "188": 0,
            "189": 0,
            "19": 1,
            "190": 1,
            "191": 0,
            "192": 1,
            "193": 1,
            "194": 1,
            "195": 1,
            "196": 0,
            "197": 0,
            "198": 1,
            "199": 0,
            "2": 1,
            "20": 0,
            "200": 0,
            "201": 0,
            "202": 0,
            "203": 0,
            "204": 1,
            "205": 0,
            "206": 0,
            "207": 1,
            "208": 1,
            "209": 1,
            "21": 1,
            "210": 0,
            "211": 1,
            "212": 0,
            "213": 0,
            "214": 0,
            "215": 1,
            "216": 1,
            "217": 0,
            "218": 1,
            "219": 0,
            "22": 1,
            "220": 1,
            "221": 0,
            "222": 0,
            "223": 0,
            "224": 1,
            "225": 0,
            "226": 1,
            "227": 0,
            "228": 0,
            "229": 0,
            "23": 1,
            "230": 1,
            "231": 0,
            "232": 0,
            "233": 1,
            "234": 0,
            "235": 0,
            "236": 0,
            "237": 1,
            "238": 0,
            "239": 0,
            "24": 0,
            "240": 0,
            "241": 1,
            "242": 0,
            "243": 0,
            "244": 0,
            "245": 0,
            "246": 0,
            "247": 1,
            "248": 1,
            "249": 0,
            "25": 1,
            "250": 0,
            "251": 0,
            "252": 0,
            "253": 0,
            "254": 0,
            "255": 1,
            "256": 1,
            "257": 1,
            "258": 1,
            "259": 1,
            "26": 0,
            "260": 0,
            "261": 1,
            "262": 0,
            "263": 0,
            "264": 0,
            "265": 0,
            "266": 0,
            "267": 1,
            "268": 1,
            "269": 1,
            "27": 0,
            "270": 0,
            "271": 1,
            "272": 1,
            "273": 0,
            "274": 1,
            "275": 1,
            "276": 0,
            "277": 0,
            "278": 0,
            "279": 1,
            "28": 1,
            "280": 0,
            "281": 0,
            "282": 0,
            "283": 1,
            "284": 0,
            "285": 0,
            "286": 1,
            "287": 0,
            "288": 1,
            "289": 1,
            "29": 0,
            "290": 1,
            "291": 1,
            "292": 0,
            "293": 0,
            "294": 0,
            "295": 0,
            "296": 0,
            "297": 0,
            "298": 1,
            "299": 1,
            "3": 1,
            "30": 0,
            "300": 1,
            "301": 1,
            "302": 0,
            "303": 1,
            "304": 0,
            "305": 1,
            "306": 1,
            "307": 1,
            "308": 0,
            "309": 1,
            "31": 1,
            "310": 1,
            "311": 1,
            "312": 0,
            "313": 0,
            "314": 0,
            "315": 1,
            "316": 1,
            "317": 0,
            "318": 1,
            "319": 1,
            "32": 1,
            "320": 0,
            "321": 0,
            "322": 1,
            "323": 1,
            "324": 0,
            "325": 1,
            "326": 0,
            "327": 1,
            "328": 1,
            "329": 1,
            "33": 0,
            "330": 1,
            "331": 0,
            "332": 0,
            "333": 0,
            "334": 1,
            "335": 0,
            "336": 0,
            "337": 1,
            "338": 1,
            "339": 0,
            "34": 0,
            "340": 1,
            "341": 1,
            "342": 0,
            "343": 0,
            "344": 0,
            "345": 1,
            "346": 1,
            "347": 1,
            "348": 1,
            "349": 0,
            "35": 0,
            "350": 0,
            "351": 0,
            "352": 0,
            "353": 0,
            "354": 0,
            "355": 0,
            "356": 1,
            "357": 0,
            "358": 1,
            "359": 1,
            "36": 1,
            "360": 0,
            "361": 0,
            "362": 0,
            "363": 0,
            "364": 0,
            "365": 0,
            "366": 1,
            "367": 1,
            "368": 1,
            "369": 1,
            "37": 0,
            "370": 1,
            "371": 0,
            "372": 0,
            "373": 0,
            "374": 0,
            "375": 1,
            "376": 1,
            "377": 0,
            "378": 0,
            "379": 0,
            "38": 0,
            "380": 1,
            "381": 1,
            "382": 0,
            "383": 1,
            "384": 0,
            "385": 0,
            "386": 0,
            "387": 1,
            "388": 0,
            "389": 1,
            "39": 1,
            "390": 1,
            "391": 1,
            "392": 0,
            "393": 1,
            "394": 1,
            "395": 0,
            "396": 0,
            "397": 0,
            "398": 0,
            "399": 1,
            "4": 0,
            "40": 0,
            "400": 1,
            "401": 0,
            "402": 0,
            "403": 0,
            "404": 0,
            "405": 0,
            "406": 0,
            "407": 1,
            "408": 0,
            "409": 0,
            "41": 0,
            "410": 0,
            "411": 0,
            "412": 1,
            "413": 0,
            "414": 1,
            "415": 0,
            "416": 1,
            "417": 1,
            "418": 0,
            "419": 0,
            "42": 0,
            "420": 0,
            "421": 0,
            "422": 0,
            "423": 0,
            "424": 0,
            "425": 0,
            "426": 1,
            "427": 1,
            "428": 0,
            "429": 1,
            "43": 1,
            "430": 1,
            "431": 1,
            "432": 1,
            "433": 0,
            "434": 0,
            "435": 1,
            "436": 0,
            "437": 1,
            "438": 0,
            "439": 0,
            "44": 1,
            "440": 1,
            "441": 0,
            "442": 0,
            "443": 1,
            "444": 1,
            "445": 1,
            "446": 1,
            "447": 1,
            "448": 1,
            "449": 1,
            "45": 0,
            "450": 0,
            "451": 0,
            "452": 0,
            "453": 1,
            "454": 0,
            "455": 1,
            "456": 0,
            "457": 1,
            "458": 1,
            "459": 0,
            "46": 0,
            "460": 1,
            "461": 0,
            "462": 0,
            "463": 0,
            "464": 0,
            "465": 0,
            "466": 0,
            "467": 0,
            "468": 0,
            "469": 1,
            "47": 1,
            "470": 0,
            "471": 0,
            "472": 1,
            "473": 1,
            "474": 0,
            "475": 0,
            "476": 0,
            "477": 0,
            "478": 0,
            "479": 1,
            "48": 0,
            "480": 0,
            "481": 0,
            "482": 0,
            "483": 1,
            "484": 1,
            "485": 0,
            "486": 1,
            "487": 0,
            "488": 0,
            "489": 1,
            "49": 0,
            "490": 0,
            "491": 0,
            "492": 0,
            "493": 0,
            "494": 0,
            "495": 0,
            "496": 1,
            "497": 0,
            "498": 0,
            "499": 0,
            "5": 0,
            "50": 0,
            "500": 0,
            "501": 0,
            "502": 0,
            "503": 0,
            "504": 1,
            "505": 0,
            "506": 1,
            "507": 1,
            "508": 0,
            "509": 1,
            "51": 0,
            "510": 1,
            "511": 0,
            "512": 1,
            "513": 1,
            "514": 0,
            "515": 0,
            "516": 1,
            "517": 0,
            "518": 1,
            "519": 0,
            "52": 1,
            "520": 1,
            "521": 0,
            "522": 0,
            "523": 1,
            "524": 0,
            "525": 0,
            "526": 1,
            "527": 0,
            "528": 0,
            "529": 0,
            "53": 1,
            "530": 1,
            "531": 0,
            "532": 0,
            "533": 1,
            "534": 0,
            "535": 1,
            "536": 0,
            "537": 1,
            "538": 0,
            "539": 1,
            "54": 0,
            "540": 1,
            "541": 0,
            "542": 0,
            "543": 1,
            "544": 0,
            "545": 0,
            "546": 1,
            "547": 1,
            "548": 0,
            "549": 1,
            "55": 1,
            "550": 1,
            "551": 0,
            "552": 0,
            "553": 1,
            "554": 1,
            "555": 0,
            "556": 1,
            "557": 0,
            "558": 1,
            "559": 1,
            "56": 1,
            "560": 0,
            "561": 0,
            "562": 0,
            "563": 0,
            "564": 0,
            "565": 0,
            "566": 0,
            "567": 0,
            "568": 0,
            "569": 1,
            "57": 0,
            "570": 1,
            "571": 1,
            "572": 1,
            "573": 1,
            "574": 0,
            "575": 0,
            "576": 1,
            "577": 1,
            "578": 0,
            "579": 1,
            "58": 1,
            "580": 1,
            "581": 1,
            "582": 0,
            "583": 0,
            "584": 0,
            "585": 1,
            "586": 0,
            "587": 1,
            "588": 0,
            "589": 0,
            "59": 0,
            "590": 0,
            "591": 1,
            "592": 0,
            "593": 0,
            "594": 0,
            "595": 0,
            "596": 1,
            "597": 0,
            "598": 0,
            "599": 1,
            "6": 0,
            "60": 0,
            "600": 1,
            "601": 0,
            "602": 0,
            "603": 0,
            "604": 1,
            "605": 0,
            "606": 0,
            "607": 1,
            "608": 1,
            "609": 1,
            "61": 1,
            "610": 0,
            "611": 0,
            "612": 1,
            "613": 0,
            "614": 0,
            "615": 1,
            "616": 0,
            "617": 0,
            "618": 1,
            "619": 0,
            "62": 0,
            "620": 0,
            "621": 1,
            "622": 1,
            "623": 0,
            "624": 0,
            "625": 0,
            "626": 0,
            "627": 1,
            "628": 0,
            "629": 0,
            "63": 0,
            "630": 1,
            "631": 0,
            "632": 1,
            "633": 0,
            "634": 0,
            "635": 1,
            "636": 0,
            "637": 0,
            "638": 0,
            "639": 0,
            "64": 0,
            "640": 0,
            "641": 1,
            "642": 0,
            "643": 1,
            "644": 1,
            "645": 1,
            "646": 0,
            "647": 1,
            "648": 0,
            "649": 1,
            "65": 1,
            "650": 0,
            "651": 1,
            "652": 0,
            "653": 1,
            "654": 0,
            "655": 0,
            "656": 0,
            "657": 0,
            "658": 0,
            "659": 0,
            "66": 1,
            "660": 1,
            "661": 0,
            "662": 0,
            "663": 0,
            "664": 1,
            "665": 0,
            "666": 0,
            "667": 0,
            "668": 0,
            "669": 1,
            "67": 0,
            "670": 1,
            "671": 0,
            "672": 0,
            "673": 1,
            "674": 0,
            "675": 0,
            "676": 0,
            "677": 1,
            "678": 0,
            "679": 1,
            "68": 1,
            "680": 0,
            "681": 1,
            "682": 0,
            "683": 0,
            "684": 0,
            "685": 0,
            "686": 0,
            "687": 0,
            "688": 0,
            "689": 1,
            "69": 0,
            "690": 1,
            "691": 1,
            "692": 1,
            "693": 0,
            "694": 0,
            "695": 0,
            "696": 0,
            "697": 1,
            "698": 0,
            "699": 0,
            "7": 0,
            "70": 0,
            "700": 1,
            "701": 1,
            "702": 0,
            "703": 0,
            "704": 0,
            "705": 0,
            "706": 1,
            "707": 1,
            "708": 1,
            "709": 1,
            "71": 0,
            "710": 1,
            "711": 0,
            "712": 1,
            "713": 0,
            "714": 0,
            "715": 0,
            "716": 1,
            "717": 1,
            "718": 0,
            "719": 0,
            "72": 0,
            "720": 1,
            "721": 0,
            "722": 0,
            "723": 0,
            "724": 1,
            "725": 0,
            "726": 1,
            "727": 1,
            "728": 0,
            "729": 0,
            "73": 0,
            "730": 1,
            "731": 0,
            "732": 0,
            "733": 0,
            "734": 0,
            "735": 0,
            "736": 0,
            "737": 1,
            "738": 0,
            "739": 0,
            "74": 1,
            "740": 1,
            "741": 0,
            "742": 1,
            "743": 0,
            "744": 1,
            "745": 0,
            "746": 0,
            "747": 1,
            "748": 0,
            "749": 0,
            "75": 0,
            "750": 1,
            "751": 1,
            "752": 0,
            "753": 0,
            "754": 1,
            "755": 1,
            "756": 0,
            "757": 0,
            "758": 0,
            "759": 1,
            "76": 0,
            "760": 0,
            "761": 0,
            "762": 1,
            "763": 1,
            "764": 0,
            "765": 1,
            "766": 0,
            "767": 0,
            "768": 0,
            "769": 0,
            "77": 0,
            "770": 0,
            "771": 0,
            "772": 0,
            "773": 0,
            "774": 1,
            "775": 0,
            "776": 0,
            "777": 1,
            "778": 0,
            "779": 1,
            "78": 1,
            "780": 1,
            "781": 1,
            "782": 0,
            "783": 0,
            "784": 0,
            "785": 0,
            "786": 1,
            "787": 0,
            "788": 1,
            "789": 0,
            "79": 1,
            "790": 0,
            "791": 0,
            "792": 0,
            "793": 0,
            "794": 0,
            "795": 0,
            "796": 1,
            "797": 1,
            "798": 0,
            "799": 0,
            "8": 1,
            "80": 0,
            "800": 0,
            "801": 1,
            "802": 1,
            "803": 1,
            "804": 1,
            "805": 0,
            "806": 0,
            "807": 0,
            "808": 0,
            "809": 1,
            "81": 1,
            "810": 0,
            "811": 0,
            "812": 0,
            "813": 0,
            "814": 0,
            "815": 0,
            "816": 0,
            "817": 0,
            "818": 0,
            "819": 0,
            "82": 1,
            "820": 1,
            "821": 1,
            "822": 0,
            "823": 1,
            "824": 0,
            "825": 0,
            "826": 0,
            "827": 1,
            "828": 1,
            "829": 1,
            "83": 0,
            "830": 1,
            "831": 1,
            "832": 0,
            "833": 0,
            "834": 0,
            "835": 1,
            "836": 0,
            "837": 0,
            "838": 1,
            "839": 1,
            "84": 1,
            "840": 0,
            "841": 0,
            "842": 1,
            "843": 0,
            "844": 0,
            "845": 0,
            "846": 0,
            "847": 0,
            "848": 0,
            "849": 1,
            "85": 1,
            "850": 0,
            "851": 0,
            "852": 0,
            "853": 1,
            "854": 0,
            "855": 1,
            "856": 1,
            "857": 1,
            "858": 1,
            "859": 0,
            "86": 0,
            "860": 0,
            "861": 0,
            "862": 1,
            "863": 0,
            "864": 0,
            "865": 1,
            "866": 1,
            "867": 0,
            "868": 0,
            "869": 1,
            "87": 0,
            "870": 0,
            "871": 1,
            "872": 0,
            "873": 0,
            "874": 1,
            "875": 1,
            "876": 0,
            "877": 0,
            "878": 0,
            "879": 1,
            "88": 1,
            "880": 1,
            "881": 0,
            "882": 0,
            "883": 0,
            "884": 0,
            "885": 0,
            "886": 0,
            "887": 1,
            "888": 0,
            "889": 1,
            "89": 0,
            "890": 0,
            "9": 1,
            "90": 0,
            "91": 0,
            "92": 0,
            "93": 0,
            "94": 0,
            "95": 0,
            "96": 0,
            "97": 1,
            "98": 1,
            "99": 0,
            "bdata": "AAEBAQAAAAABAQEBAAAAAQABAAEAAQEBAAEAAAEAAAEBAAAAAQAAAQAAAAEBAAABAAAAAAEBAAEBAAEAAAEAAAABAQABAAAAAAABAAAAAQEAAQEAAQEAAAEAAAAAAAAAAAEBAAAAAAAAAAEBAAEAAAAAAAAAAAAAAAAAAQABAAEBAAAAAAEAAAEAAAAAAQEAAAABAAAAAAEAAAAAAQAAAAABAAAAAQEAAAAAAAEAAAAAAAAAAAAAAQEAAQEAAAEAAQEBAQAAAQAAAAAAAQAAAQEBAAEAAAABAQABAAEAAAABAAEAAAABAAABAAAAAQAAAAEAAAAAAAEBAAAAAAAAAQEBAQEAAQAAAAAAAQEBAAEBAAEBAAAAAQAAAAEAAAEAAQEBAQAAAAAAAAEBAQEAAQABAQEAAQEBAAAAAQEAAQEAAAEBAAEAAQEBAQAAAAEAAAEBAAEBAAAAAQEBAQAAAAAAAAABAAEBAAAAAAAAAQEBAQEAAAAAAQEAAAABAQABAAAAAQABAQEAAQEAAAAAAQEAAAAAAAABAAAAAAEAAQABAQAAAAAAAAAAAQEAAQEBAQAAAQABAAABAAABAQEBAQEBAAAAAQABAAEBAAEAAAAAAAAAAAEAAAEBAAAAAAABAAAAAQEAAQAAAQAAAAAAAAEAAAAAAAAAAQABAQABAQABAQAAAQABAAEAAAEAAAEAAAABAAABAAEAAQABAQAAAQAAAQEAAQEAAAEBAAEAAQEAAAAAAAAAAAABAQEBAQAAAQEAAQEBAAAAAQABAAAAAQAAAAABAAABAQAAAAEAAAEBAQAAAQAAAQAAAQAAAQEAAAAAAQAAAQABAAABAAAAAAABAAEBAQABAAEAAQABAAAAAAAAAQAAAAEAAAAAAQEAAAEAAAABAAEAAQAAAAAAAAABAQEBAAAAAAEAAAEBAAAAAAEBAQEBAAEAAAABAQAAAQAAAAEAAQEAAAEAAAAAAAABAAABAAEAAQAAAQAAAQEAAAEBAAAAAQAAAQEAAQAAAAAAAAAAAQAAAQABAQEAAAAAAQABAAAAAAAAAAEBAAAAAQEBAQAAAAABAAAAAAAAAAAAAAEBAAEAAAABAQEBAQAAAAEAAAEBAAABAAAAAAAAAQAAAAEAAQEBAQAAAAEAAAEBAAABAAEAAAEBAAAAAQEAAAAAAAABAAEA",
            "dtype": "i1",
            "shape": "891"
           },
           "bdata": "AAEBAQAAAAABAQEBAAAAAQABAAEAAQEBAAEAAAEAAAEBAAAAAQAAAQAAAAEBAAABAAAAAAEBAAEBAAEAAAEAAAABAQABAAAAAAABAAAAAQEAAQEAAQEAAAEAAAAAAAAAAAEBAAAAAAAAAAEBAAEAAAAAAAAAAAAAAAAAAQABAAEBAAAAAAEAAAEAAAAAAQEAAAABAAAAAAEAAAAAAQAAAAABAAAAAQEAAAAAAAEAAAAAAAAAAAAAAQEAAQEAAAEAAQEBAQAAAQAAAAAAAQAAAQEBAAEAAAABAQABAAEAAAABAAEAAAABAAABAAAAAQAAAAEAAAAAAAEBAAAAAAAAAQEBAQEAAQAAAAAAAQEBAAEBAAEBAAAAAQAAAAEAAAEAAQEBAQAAAAAAAAEBAQEAAQABAQEAAQEBAAAAAQEAAQEAAAEBAAEAAQEBAQAAAAEAAAEBAAEBAAAAAQEBAQAAAAAAAAABAAEBAAAAAAAAAQEBAQEAAAAAAQEAAAABAQABAAAAAQABAQEAAQEAAAAAAQEAAAAAAAABAAAAAAEAAQABAQAAAAAAAAAAAQEAAQEBAQAAAQABAAABAAABAQEBAQEBAAAAAQABAAEBAAEAAAAAAAAAAAEAAAEBAAAAAAABAAAAAQEAAQAAAQAAAAAAAAEAAAAAAAAAAQABAQABAQABAQAAAQABAAEAAAEAAAEAAAABAAABAAEAAQABAQAAAQAAAQEAAQEAAAEBAAEAAQEAAAAAAAAAAAABAQEBAQAAAQEAAQEBAAAAAQABAAAAAQAAAAABAAABAQAAAAEAAAEBAQAAAQAAAQAAAQAAAQEAAAAAAQAAAQABAAABAAAAAAABAAEBAQABAAEAAQABAAAAAAAAAQAAAAEAAAAAAQEAAAEAAAABAAEAAQAAAAAAAAABAQEBAAAAAAEAAAEBAAAAAAEBAQEBAAEAAAABAQAAAQAAAAEAAQEAAAEAAAAAAAABAAABAAEAAQAAAQAAAQEAAAEBAAAAAQAAAQEAAQAAAAAAAAAAAQAAAQABAQEAAAAAAQABAAAAAAAAAAEBAAAAAQEBAQAAAAABAAAAAAAAAAAAAAEBAAEAAAABAQEBAQAAAAEAAAEBAAABAAAAAAAAAQAAAAEAAQEBAQAAAAEAAAEBAAABAAEAAAEBAAAAAQEAAAAAAAABAAEA",
           "dtype": "i1"
          },
          "coloraxis": "coloraxis",
          "size": {
           "_inputArray": {
            "0": 2,
            "1": 2,
            "10": 3,
            "100": 1,
            "101": 1,
            "102": 2,
            "103": 1,
            "104": 3,
            "105": 1,
            "106": 1,
            "107": 1,
            "108": 1,
            "109": 2,
            "11": 1,
            "110": 1,
            "111": 2,
            "112": 1,
            "113": 2,
            "114": 1,
            "115": 1,
            "116": 1,
            "117": 2,
            "118": 2,
            "119": 7,
            "12": 1,
            "120": 3,
            "121": 1,
            "122": 2,
            "123": 1,
            "124": 2,
            "125": 2,
            "126": 1,
            "127": 1,
            "128": 3,
            "129": 1,
            "13": 7,
            "130": 1,
            "131": 1,
            "132": 2,
            "133": 2,
            "134": 1,
            "135": 1,
            "136": 3,
            "137": 2,
            "138": 1,
            "139": 1,
            "14": 1,
            "140": 3,
            "141": 1,
            "142": 2,
            "143": 1,
            "144": 1,
            "145": 3,
            "146": 1,
            "147": 5,
            "148": 3,
            "149": 1,
            "15": 1,
            "150": 1,
            "151": 2,
            "152": 1,
            "153": 3,
            "154": 1,
            "155": 2,
            "156": 1,
            "157": 1,
            "158": 1,
            "159": 11,
            "16": 6,
            "160": 2,
            "161": 1,
            "162": 1,
            "163": 1,
            "164": 6,
            "165": 3,
            "166": 2,
            "167": 6,
            "168": 1,
            "169": 1,
            "17": 1,
            "170": 1,
            "171": 6,
            "172": 3,
            "173": 1,
            "174": 1,
            "175": 3,
            "176": 5,
            "177": 1,
            "178": 1,
            "179": 1,
            "18": 2,
            "180": 11,
            "181": 1,
            "182": 7,
            "183": 4,
            "184": 3,
            "185": 1,
            "186": 2,
            "187": 1,
            "188": 3,
            "189": 1,
            "19": 1,
            "190": 1,
            "191": 1,
            "192": 2,
            "193": 3,
            "194": 1,
            "195": 1,
            "196": 1,
            "197": 2,
            "198": 1,
            "199": 1,
            "2": 1,
            "20": 1,
            "200": 1,
            "201": 11,
            "202": 1,
            "203": 1,
            "204": 1,
            "205": 2,
            "206": 2,
            "207": 1,
            "208": 1,
            "209": 1,
            "21": 1,
            "210": 1,
            "211": 1,
            "212": 1,
            "213": 1,
            "214": 2,
            "215": 2,
            "216": 1,
            "217": 2,
            "218": 1,
            "219": 1,
            "22": 1,
            "220": 1,
            "221": 1,
            "222": 1,
            "223": 1,
            "224": 2,
            "225": 1,
            "226": 1,
            "227": 1,
            "228": 1,
            "229": 5,
            "23": 1,
            "230": 2,
            "231": 1,
            "232": 1,
            "233": 7,
            "234": 1,
            "235": 1,
            "236": 2,
            "237": 3,
            "238": 1,
            "239": 1,
            "24": 5,
            "240": 2,
            "241": 2,
            "242": 1,
            "243": 1,
            "244": 1,
            "245": 3,
            "246": 1,
            "247": 3,
            "248": 3,
            "249": 2,
            "25": 7,
            "250": 1,
            "251": 3,
            "252": 1,
            "253": 2,
            "254": 3,
            "255": 3,
            "256": 1,
            "257": 1,
            "258": 1,
            "259": 2,
            "26": 1,
            "260": 1,
            "261": 7,
            "262": 3,
            "263": 1,
            "264": 1,
            "265": 1,
            "266": 6,
            "267": 2,
            "268": 2,
            "269": 1,
            "27": 6,
            "270": 1,
            "271": 1,
            "272": 2,
            "273": 2,
            "274": 1,
            "275": 2,
            "276": 1,
            "277": 1,
            "278": 6,
            "279": 3,
            "28": 1,
            "280": 1,
            "281": 1,
            "282": 1,
            "283": 1,
            "284": 1,
            "285": 1,
            "286": 1,
            "287": 1,
            "288": 1,
            "289": 1,
            "29": 1,
            "290": 1,
            "291": 2,
            "292": 1,
            "293": 1,
            "294": 1,
            "295": 1,
            "296": 1,
            "297": 4,
            "298": 1,
            "299": 2,
            "3": 2,
            "30": 1,
            "300": 1,
            "301": 3,
            "302": 1,
            "303": 1,
            "304": 1,
            "305": 4,
            "306": 1,
            "307": 2,
            "308": 2,
            "309": 1,
            "31": 2,
            "310": 1,
            "311": 5,
            "312": 3,
            "313": 1,
            "314": 3,
            "315": 1,
            "316": 2,
            "317": 1,
            "318": 3,
            "319": 3,
            "32": 1,
            "320": 1,
            "321": 1,
            "322": 1,
            "323": 3,
            "324": 11,
            "325": 1,
            "326": 1,
            "327": 1,
            "328": 3,
            "329": 2,
            "33": 1,
            "330": 3,
            "331": 1,
            "332": 2,
            "333": 3,
            "334": 2,
            "335": 1,
            "336": 2,
            "337": 1,
            "338": 1,
            "339": 1,
            "34": 2,
            "340": 3,
            "341": 6,
            "342": 1,
            "343": 1,
            "344": 1,
            "345": 1,
            "346": 1,
            "347": 2,
            "348": 3,
            "349": 1,
            "35": 2,
            "350": 1,
            "351": 1,
            "352": 3,
            "353": 2,
            "354": 1,
            "355": 1,
            "356": 2,
            "357": 1,
            "358": 1,
            "359": 1,
            "36": 1,
            "360": 6,
            "361": 2,
            "362": 2,
            "363": 1,
            "364": 2,
            "365": 1,
            "366": 2,
            "367": 1,
            "368": 1,
            "369": 1,
            "37": 1,
            "370": 2,
            "371": 2,
            "372": 1,
            "373": 1,
            "374": 5,
            "375": 2,
            "376": 1,
            "377": 3,
            "378": 1,
            "379": 1,
            "38": 3,
            "380": 1,
            "381": 3,
            "382": 1,
            "383": 2,
            "384": 1,
            "385": 1,
            "386": 8,
            "387": 1,
            "388": 1,
            "389": 1,
            "39": 2,
            "390": 4,
            "391": 1,
            "392": 3,
            "393": 2,
            "394": 3,
            "395": 1,
            "396": 1,
            "397": 1,
            "398": 1,
            "399": 1,
            "4": 1,
            "40": 2,
            "400": 1,
            "401": 1,
            "402": 2,
            "403": 2,
            "404": 1,
            "405": 2,
            "406": 1,
            "407": 3,
            "408": 1,
            "409": 5,
            "41": 2,
            "410": 1,
            "411": 1,
            "412": 2,
            "413": 1,
            "414": 1,
            "415": 1,
            "416": 3,
            "417": 3,
            "418": 1,
            "419": 3,
            "42": 1,
            "420": 1,
            "421": 1,
            "422": 1,
            "423": 3,
            "424": 3,
            "425": 1,
            "426": 2,
            "427": 1,
            "428": 1,
            "429": 1,
            "43": 4,
            "430": 1,
            "431": 2,
            "432": 2,
            "433": 1,
            "434": 2,
            "435": 4,
            "436": 5,
            "437": 6,
            "438": 6,
            "439": 1,
            "44": 1,
            "440": 3,
            "441": 1,
            "442": 2,
            "443": 1,
            "444": 1,
            "445": 3,
            "446": 2,
            "447": 1,
            "448": 4,
            "449": 1,
            "45": 1,
            "450": 4,
            "451": 2,
            "452": 1,
            "453": 2,
            "454": 1,
            "455": 1,
            "456": 1,
            "457": 2,
            "458": 1,
            "459": 1,
            "46": 2,
            "460": 1,
            "461": 1,
            "462": 1,
            "463": 1,
            "464": 1,
            "465": 1,
            "466": 1,
            "467": 1,
            "468": 1,
            "469": 4,
            "47": 1,
            "470": 1,
            "471": 1,
            "472": 4,
            "473": 1,
            "474": 1,
            "475": 1,
            "476": 2,
            "477": 2,
            "478": 1,
            "479": 2,
            "48": 3,
            "480": 8,
            "481": 1,
            "482": 1,
            "483": 1,
            "484": 2,
            "485": 5,
            "486": 2,
            "487": 1,
            "488": 1,
            "489": 3,
            "49": 2,
            "490": 2,
            "491": 1,
            "492": 1,
            "493": 1,
            "494": 1,
            "495": 1,
            "496": 2,
            "497": 1,
            "498": 4,
            "499": 1,
            "5": 1,
            "50": 6,
            "500": 1,
            "501": 1,
            "502": 1,
            "503": 1,
            "504": 1,
            "505": 2,
            "506": 3,
            "507": 1,
            "508": 1,
            "509": 1,
            "51": 1,
            "510": 1,
            "511": 1,
            "512": 1,
            "513": 2,
            "514": 1,
            "515": 1,
            "516": 1,
            "517": 1,
            "518": 2,
            "519": 1,
            "52": 2,
            "520": 1,
            "521": 1,
            "522": 1,
            "523": 2,
            "524": 1,
            "525": 1,
            "526": 1,
            "527": 1,
            "528": 1,
            "529": 4,
            "53": 2,
            "530": 3,
            "531": 1,
            "532": 3,
            "533": 3,
            "534": 1,
            "535": 3,
            "536": 1,
            "537": 1,
            "538": 1,
            "539": 3,
            "54": 2,
            "540": 3,
            "541": 7,
            "542": 7,
            "543": 2,
            "544": 2,
            "545": 1,
            "546": 2,
            "547": 1,
            "548": 3,
            "549": 3,
            "55": 1,
            "550": 3,
            "551": 1,
            "552": 1,
            "553": 1,
            "554": 1,
            "555": 1,
            "556": 2,
            "557": 1,
            "558": 3,
            "559": 2,
            "56": 1,
            "560": 1,
            "561": 1,
            "562": 1,
            "563": 1,
            "564": 1,
            "565": 3,
            "566": 1,
            "567": 5,
            "568": 1,
            "569": 1,
            "57": 1,
            "570": 1,
            "571": 3,
            "572": 1,
            "573": 1,
            "574": 1,
            "575": 1,
            "576": 1,
            "577": 2,
            "578": 2,
            "579": 1,
            "58": 4,
            "580": 3,
            "581": 3,
            "582": 1,
            "583": 1,
            "584": 1,
            "585": 3,
            "586": 1,
            "587": 3,
            "588": 1,
            "589": 1,
            "59": 8,
            "590": 1,
            "591": 2,
            "592": 1,
            "593": 3,
            "594": 2,
            "595": 3,
            "596": 1,
            "597": 1,
            "598": 1,
            "599": 2,
            "6": 1,
            "60": 1,
            "600": 4,
            "601": 1,
            "602": 1,
            "603": 1,
            "604": 1,
            "605": 2,
            "606": 1,
            "607": 1,
            "608": 4,
            "609": 1,
            "61": 1,
            "610": 7,
            "611": 1,
            "612": 2,
            "613": 1,
            "614": 1,
            "615": 4,
            "616": 3,
            "617": 2,
            "618": 4,
            "619": 1,
            "62": 2,
            "620": 2,
            "621": 2,
            "622": 3,
            "623": 1,
            "624": 1,
            "625": 1,
            "626": 1,
            "627": 1,
            "628": 1,
            "629": 1,
            "63": 6,
            "630": 1,
            "631": 1,
            "632": 1,
            "633": 1,
            "634": 6,
            "635": 1,
            "636": 1,
            "637": 3,
            "638": 6,
            "639": 2,
            "64": 1,
            "640": 1,
            "641": 1,
            "642": 6,
            "643": 1,
            "644": 4,
            "645": 2,
            "646": 1,
            "647": 1,
            "648": 1,
            "649": 1,
            "65": 3,
            "650": 1,
            "651": 2,
            "652": 1,
            "653": 1,
            "654": 1,
            "655": 3,
            "656": 1,
            "657": 3,
            "658": 1,
            "659": 3,
            "66": 1,
            "660": 3,
            "661": 1,
            "662": 1,
            "663": 1,
            "664": 2,
            "665": 3,
            "666": 1,
            "667": 1,
            "668": 1,
            "669": 2,
            "67": 1,
            "670": 3,
            "671": 2,
            "672": 1,
            "673": 1,
            "674": 1,
            "675": 1,
            "676": 1,
            "677": 1,
            "678": 8,
            "679": 2,
            "68": 7,
            "680": 1,
            "681": 1,
            "682": 1,
            "683": 8,
            "684": 3,
            "685": 4,
            "686": 6,
            "687": 1,
            "688": 1,
            "689": 2,
            "69": 3,
            "690": 2,
            "691": 2,
            "692": 1,
            "693": 1,
            "694": 1,
            "695": 1,
            "696": 1,
            "697": 1,
            "698": 3,
            "699": 1,
            "7": 5,
            "70": 1,
            "700": 2,
            "701": 1,
            "702": 2,
            "703": 1,
            "704": 2,
            "705": 1,
            "706": 1,
            "707": 1,
            "708": 1,
            "709": 3,
            "71": 8,
            "710": 1,
            "711": 1,
            "712": 2,
            "713": 1,
            "714": 1,
            "715": 1,
            "716": 1,
            "717": 1,
            "718": 1,
            "719": 1,
            "72": 1,
            "720": 2,
            "721": 2,
            "722": 1,
            "723": 1,
            "724": 2,
            "725": 1,
            "726": 4,
            "727": 1,
            "728": 2,
            "729": 2,
            "73": 2,
            "730": 1,
            "731": 1,
            "732": 1,
            "733": 1,
            "734": 1,
            "735": 1,
            "736": 5,
            "737": 1,
            "738": 1,
            "739": 1,
            "74": 1,
            "740": 1,
            "741": 2,
            "742": 5,
            "743": 2,
            "744": 1,
            "745": 3,
            "746": 3,
            "747": 1,
            "748": 2,
            "749": 1,
            "75": 1,
            "750": 3,
            "751": 2,
            "752": 1,
            "753": 1,
            "754": 4,
            "755": 3,
            "756": 1,
            "757": 1,
            "758": 1,
            "759": 1,
            "76": 1,
            "760": 1,
            "761": 1,
            "762": 1,
            "763": 4,
            "764": 1,
            "765": 2,
            "766": 1,
            "767": 1,
            "768": 2,
            "769": 1,
            "77": 1,
            "770": 1,
            "771": 1,
            "772": 1,
            "773": 1,
            "774": 5,
            "775": 1,
            "776": 1,
            "777": 1,
            "778": 1,
            "779": 2,
            "78": 3,
            "780": 1,
            "781": 2,
            "782": 1,
            "783": 4,
            "784": 1,
            "785": 1,
            "786": 1,
            "787": 6,
            "788": 4,
            "789": 1,
            "79": 1,
            "790": 1,
            "791": 1,
            "792": 11,
            "793": 1,
            "794": 1,
            "795": 1,
            "796": 1,
            "797": 1,
            "798": 1,
            "799": 3,
            "8": 3,
            "80": 1,
            "800": 1,
            "801": 3,
            "802": 4,
            "803": 2,
            "804": 1,
            "805": 1,
            "806": 1,
            "807": 1,
            "808": 1,
            "809": 2,
            "81": 1,
            "810": 1,
            "811": 1,
            "812": 1,
            "813": 7,
            "814": 1,
            "815": 1,
            "816": 1,
            "817": 3,
            "818": 1,
            "819": 6,
            "82": 1,
            "820": 3,
            "821": 1,
            "822": 1,
            "823": 2,
            "824": 6,
            "825": 1,
            "826": 1,
            "827": 3,
            "828": 1,
            "829": 1,
            "83": 1,
            "830": 2,
            "831": 3,
            "832": 1,
            "833": 1,
            "834": 1,
            "835": 3,
            "836": 1,
            "837": 1,
            "838": 1,
            "839": 1,
            "84": 1,
            "840": 1,
            "841": 1,
            "842": 1,
            "843": 1,
            "844": 1,
            "845": 1,
            "846": 11,
            "847": 1,
            "848": 2,
            "849": 2,
            "85": 4,
            "850": 7,
            "851": 1,
            "852": 3,
            "853": 2,
            "854": 2,
            "855": 2,
            "856": 3,
            "857": 1,
            "858": 4,
            "859": 1,
            "86": 5,
            "860": 3,
            "861": 2,
            "862": 1,
            "863": 11,
            "864": 1,
            "865": 1,
            "866": 2,
            "867": 1,
            "868": 1,
            "869": 3,
            "87": 1,
            "870": 1,
            "871": 3,
            "872": 1,
            "873": 1,
            "874": 2,
            "875": 1,
            "876": 1,
            "877": 1,
            "878": 1,
            "879": 2,
            "88": 6,
            "880": 2,
            "881": 1,
            "882": 1,
            "883": 1,
            "884": 1,
            "885": 6,
            "886": 1,
            "887": 1,
            "888": 4,
            "889": 1,
            "89": 1,
            "890": 1,
            "9": 2,
            "90": 1,
            "91": 1,
            "92": 2,
            "93": 4,
            "94": 1,
            "95": 1,
            "96": 1,
            "97": 2,
            "98": 2,
            "99": 2,
            "bdata": "AgIBAgEBAQUDAgMBAQcBAQYBAgEBAQEBBQcBBgEBAQIBAQICAQEDAgICAQQBAQIBAwIGAQICAgEBAQQIAQECBgEDAQEHAwEIAQIBAQEBAwEBAQEBAQQFAQYBAQECBAEBAQICAgEBAgEDAQEBAQIBAgECAQEBAgIHAwECAQICAQEDAQEBAgIBAQMCAQEDAQIBAQMBBQMBAQIBAwECAQEBCwIBAQEGAwIGAQEBBgMBAQMFAQEBCwEHBAMBAgEDAQEBAgMBAQECAQEBCwEBAQICAQEBAQEBAQICAQIBAQEBAQECAQEBAQUCAQEHAQECAwEBAgIBAQEDAQMDAgEDAQIDAwEBAQIBBwMBAQEGAgIBAQECAgECAQEGAwEBAQEBAQEBAQEBAgEBAQEBBAECAQMBAQEEAQICAQEFAwEDAQIBAwMBAQEDCwEBAQMCAwECAwIBAgEBAQMGAQEBAQECAwEBAQMCAQECAQEBBgICAQIBAgEBAQICAQEFAgEDAQEBAwECAQEIAQEBBAEDAgMBAQEBAQEBAgIBAgEDAQUBAQIBAQEDAwEDAQEBAwMBAgEBAQECAgECBAUGBgEDAQIBAQMCAQQBBAIBAgEBAQIBAQEBAQEBAQEBAQQBAQQBAQECAgECCAEBAQIFAgEBAwIBAQEBAQIBBAEBAQEBAQIDAQEBAQEBAgEBAQECAQEBAQIBAQEBAQQDAQMDAQMBAQEDAwcHAgIBAgEDAwMBAQEBAQIBAwIBAQEBAQMBBQEBAQMBAQEBAQICAQMDAQEBAwEDAQEBAgEDAgMBAQECBAEBAQECAQEEAQcBAgEBBAMCBAECAgMBAQEBAQEBAQEBAQYBAQMGAgEBBgEEAgEBAQEBAgEBAQMBAwEDAwEBAQIDAQEBAgMCAQEBAQEBCAIBAQEIAwQGAQECAgIBAQEBAQEDAQIBAgECAQEBAQMBAQIBAQEBAQEBAgIBAQIBBAECAgEBAQEBAQUBAQEBAgUCAQMDAQIBAwIBAQQDAQEBAQEBAQQBAgEBAgEBAQEBBQEBAQECAQIBBAEBAQYEAQEBCwEBAQEBAQMBAwQCAQEBAQECAQEBBwEBAQMBBgMBAQIGAQEDAQECAwEBAQMBAQEBAQEBAQEBCwECAgcBAwICAgMBBAEDAgELAQECAQEDAQMBAQIBAQEBAgIBAQEBBgEBBAEB",
            "dtype": "i1",
            "shape": "891"
           },
           "bdata": "AgIBAgEBAQUDAgMBAQcBAQYBAgEBAQEBBQcBBgEBAQIBAQICAQEDAgICAQQBAQIBAwIGAQICAgEBAQQIAQECBgEDAQEHAwEIAQIBAQEBAwEBAQEBAQQFAQYBAQECBAEBAQICAgEBAgEDAQEBAQIBAgECAQEBAgIHAwECAQICAQEDAQEBAgIBAQMCAQEDAQIBAQMBBQMBAQIBAwECAQEBCwIBAQEGAwIGAQEBBgMBAQMFAQEBCwEHBAMBAgEDAQEBAgMBAQECAQEBCwEBAQICAQEBAQEBAQICAQIBAQEBAQECAQEBAQUCAQEHAQECAwEBAgIBAQEDAQMDAgEDAQIDAwEBAQIBBwMBAQEGAgIBAQECAgECAQEGAwEBAQEBAQEBAQEBAgEBAQEBBAECAQMBAQEEAQICAQEFAwEDAQIBAwMBAQEDCwEBAQMCAwECAwIBAgEBAQMGAQEBAQECAwEBAQMCAQECAQEBBgICAQIBAgEBAQICAQEFAgEDAQEBAwECAQEIAQEBBAEDAgMBAQEBAQEBAgIBAgEDAQUBAQIBAQEDAwEDAQEBAwMBAgEBAQECAgECBAUGBgEDAQIBAQMCAQQBBAIBAgEBAQIBAQEBAQEBAQEBAQQBAQQBAQECAgECCAEBAQIFAgEBAwIBAQEBAQIBBAEBAQEBAQIDAQEBAQEBAgEBAQECAQEBAQIBAQEBAQQDAQMDAQMBAQEDAwcHAgIBAgEDAwMBAQEBAQIBAwIBAQEBAQMBBQEBAQMBAQEBAQICAQMDAQEBAwEDAQEBAgEDAgMBAQECBAEBAQECAQEEAQcBAgEBBAMCBAECAgMBAQEBAQEBAQEBAQYBAQMGAgEBBgEEAgEBAQEBAgEBAQMBAwEDAwEBAQIDAQEBAgMCAQEBAQEBCAIBAQEIAwQGAQECAgIBAQEBAQEDAQIBAgECAQEBAQMBAQIBAQEBAQEBAgIBAQIBBAECAgEBAQEBAQUBAQEBAgUCAQMDAQIBAwIBAQQDAQEBAQEBAQQBAgEBAgEBAQEBBQEBAQECAQIBBAEBAQYEAQEBCwEBAQEBAQMBAwQCAQEBAQECAQEBBwEBAQMBBgMBAQIGAQEDAQECAwEBAQMBAQEBAQEBAQEBCwECAgcBAwICAgMBBAEDAgELAQECAQEDAQMBAQIBAQEBAgIBAQEBBgEBBAEB",
           "dtype": "i1"
          },
          "sizemode": "area",
          "sizeref": 0.0275,
          "symbol": "circle"
         },
         "mode": "markers",
         "name": "",
         "orientation": "v",
         "showlegend": false,
         "type": "scatter",
         "x": {
          "_inputArray": {
           "0": 22,
           "1": 38,
           "10": 4,
           "100": 28,
           "101": null,
           "102": 21,
           "103": 33,
           "104": 37,
           "105": 28,
           "106": 21,
           "107": null,
           "108": 38,
           "109": null,
           "11": 58,
           "110": 47,
           "111": 14.5,
           "112": 22,
           "113": 20,
           "114": 17,
           "115": 21,
           "116": 70.5,
           "117": 29,
           "118": 24,
           "119": 2,
           "12": 20,
           "120": 21,
           "121": null,
           "122": 32.5,
           "123": 32.5,
           "124": 54,
           "125": 12,
           "126": null,
           "127": 24,
           "128": null,
           "129": 45,
           "13": 39,
           "130": 33,
           "131": 20,
           "132": 47,
           "133": 29,
           "134": 25,
           "135": 23,
           "136": 19,
           "137": 37,
           "138": 16,
           "139": 24,
           "14": 14,
           "140": null,
           "141": 22,
           "142": 24,
           "143": 19,
           "144": 18,
           "145": 19,
           "146": 27,
           "147": 9,
           "148": 36.5,
           "149": 42,
           "15": 55,
           "150": 51,
           "151": 22,
           "152": 55.5,
           "153": 40.5,
           "154": null,
           "155": 51,
           "156": 16,
           "157": 30,
           "158": null,
           "159": null,
           "16": 2,
           "160": 44,
           "161": 40,
           "162": 26,
           "163": 17,
           "164": 1,
           "165": 9,
           "166": null,
           "167": 45,
           "168": null,
           "169": 28,
           "17": null,
           "170": 61,
           "171": 4,
           "172": 1,
           "173": 21,
           "174": 56,
           "175": 18,
           "176": null,
           "177": 50,
           "178": 30,
           "179": 36,
           "18": 31,
           "180": null,
           "181": null,
           "182": 9,
           "183": 1,
           "184": 4,
           "185": null,
           "186": null,
           "187": 45,
           "188": 40,
           "189": 36,
           "19": null,
           "190": 32,
           "191": 19,
           "192": 19,
           "193": 3,
           "194": 44,
           "195": 58,
           "196": null,
           "197": 42,
           "198": null,
           "199": 24,
           "2": 26,
           "20": 35,
           "200": 28,
           "201": null,
           "202": 34,
           "203": 45.5,
           "204": 18,
           "205": 2,
           "206": 32,
           "207": 26,
           "208": 16,
           "209": 40,
           "21": 34,
           "210": 24,
           "211": 35,
           "212": 22,
           "213": 30,
           "214": null,
           "215": 31,
           "216": 27,
           "217": 42,
           "218": 32,
           "219": 30,
           "22": 15,
           "220": 16,
           "221": 27,
           "222": 51,
           "223": null,
           "224": 38,
           "225": 22,
           "226": 19,
           "227": 20.5,
           "228": 18,
           "229": null,
           "23": 28,
           "230": 35,
           "231": 29,
           "232": 59,
           "233": 5,
           "234": 24,
           "235": null,
           "236": 44,
           "237": 8,
           "238": 19,
           "239": 33,
           "24": 8,
           "240": null,
           "241": null,
           "242": 29,
           "243": 22,
           "244": 30,
           "245": 44,
           "246": 25,
           "247": 24,
           "248": 37,
           "249": 54,
           "25": 38,
           "250": null,
           "251": 29,
           "252": 62,
           "253": 30,
           "254": 41,
           "255": 29,
           "256": null,
           "257": 30,
           "258": 35,
           "259": 50,
           "26": null,
           "260": null,
           "261": 3,
           "262": 52,
           "263": 40,
           "264": null,
           "265": 36,
           "266": 16,
           "267": 25,
           "268": 58,
           "269": 35,
           "27": 19,
           "270": null,
           "271": 25,
           "272": 41,
           "273": 37,
           "274": null,
           "275": 63,
           "276": 45,
           "277": null,
           "278": 7,
           "279": 35,
           "28": null,
           "280": 65,
           "281": 28,
           "282": 16,
           "283": 19,
           "284": null,
           "285": 33,
           "286": 30,
           "287": 22,
           "288": 42,
           "289": 22,
           "29": null,
           "290": 26,
           "291": 19,
           "292": 36,
           "293": 24,
           "294": 24,
           "295": null,
           "296": 23.5,
           "297": 2,
           "298": null,
           "299": 50,
           "3": 35,
           "30": 40,
           "300": null,
           "301": null,
           "302": 19,
           "303": null,
           "304": null,
           "305": 0.92,
           "306": null,
           "307": 17,
           "308": 30,
           "309": 30,
           "31": null,
           "310": 24,
           "311": 18,
           "312": 26,
           "313": 28,
           "314": 43,
           "315": 26,
           "316": 24,
           "317": 54,
           "318": 31,
           "319": 40,
           "32": null,
           "320": 22,
           "321": 27,
           "322": 30,
           "323": 22,
           "324": null,
           "325": 36,
           "326": 61,
           "327": 36,
           "328": 31,
           "329": 16,
           "33": 66,
           "330": null,
           "331": 45.5,
           "332": 38,
           "333": 16,
           "334": null,
           "335": null,
           "336": 29,
           "337": 41,
           "338": 45,
           "339": 45,
           "34": 28,
           "340": 2,
           "341": 24,
           "342": 28,
           "343": 25,
           "344": 36,
           "345": 24,
           "346": 40,
           "347": null,
           "348": 3,
           "349": 42,
           "35": 42,
           "350": 23,
           "351": null,
           "352": 15,
           "353": 25,
           "354": null,
           "355": 28,
           "356": 22,
           "357": 38,
           "358": null,
           "359": null,
           "36": null,
           "360": 40,
           "361": 29,
           "362": 45,
           "363": 35,
           "364": null,
           "365": 30,
           "366": 60,
           "367": null,
           "368": null,
           "369": 24,
           "37": 21,
           "370": 25,
           "371": 18,
           "372": 19,
           "373": 22,
           "374": 3,
           "375": null,
           "376": 22,
           "377": 27,
           "378": 20,
           "379": 19,
           "38": 18,
           "380": 42,
           "381": 1,
           "382": 32,
           "383": 35,
           "384": null,
           "385": 18,
           "386": 1,
           "387": 36,
           "388": null,
           "389": 17,
           "39": 14,
           "390": 36,
           "391": 21,
           "392": 28,
           "393": 23,
           "394": 24,
           "395": 22,
           "396": 31,
           "397": 46,
           "398": 23,
           "399": 28,
           "4": 35,
           "40": 40,
           "400": 39,
           "401": 26,
           "402": 21,
           "403": 28,
           "404": 20,
           "405": 34,
           "406": 51,
           "407": 3,
           "408": 21,
           "409": null,
           "41": 27,
           "410": null,
           "411": null,
           "412": 33,
           "413": null,
           "414": 44,
           "415": null,
           "416": 34,
           "417": 18,
           "418": 30,
           "419": 10,
           "42": null,
           "420": null,
           "421": 21,
           "422": 29,
           "423": 28,
           "424": 18,
           "425": null,
           "426": 28,
           "427": 19,
           "428": null,
           "429": 32,
           "43": 3,
           "430": 28,
           "431": null,
           "432": 42,
           "433": 17,
           "434": 50,
           "435": 14,
           "436": 21,
           "437": 24,
           "438": 64,
           "439": 31,
           "44": 19,
           "440": 45,
           "441": 20,
           "442": 25,
           "443": 28,
           "444": null,
           "445": 4,
           "446": 13,
           "447": 34,
           "448": 5,
           "449": 52,
           "45": null,
           "450": 36,
           "451": null,
           "452": 30,
           "453": 49,
           "454": null,
           "455": 29,
           "456": 65,
           "457": null,
           "458": 50,
           "459": null,
           "46": null,
           "460": 48,
           "461": 34,
           "462": 47,
           "463": 48,
           "464": null,
           "465": 38,
           "466": null,
           "467": 56,
           "468": null,
           "469": 0.75,
           "47": null,
           "470": null,
           "471": 38,
           "472": 33,
           "473": 23,
           "474": 22,
           "475": null,
           "476": 34,
           "477": 29,
           "478": 22,
           "479": 2,
           "48": null,
           "480": 9,
           "481": null,
           "482": 50,
           "483": 63,
           "484": 25,
           "485": null,
           "486": 35,
           "487": 58,
           "488": 30,
           "489": 9,
           "49": 18,
           "490": null,
           "491": 21,
           "492": 55,
           "493": 71,
           "494": 21,
           "495": null,
           "496": 54,
           "497": null,
           "498": 25,
           "499": 24,
           "5": null,
           "50": 7,
           "500": 17,
           "501": 21,
           "502": null,
           "503": 37,
           "504": 16,
           "505": 18,
           "506": 33,
           "507": null,
           "508": 28,
           "509": 26,
           "51": 21,
           "510": 29,
           "511": null,
           "512": 36,
           "513": 54,
           "514": 24,
           "515": 47,
           "516": 34,
           "517": null,
           "518": 36,
           "519": 32,
           "52": 49,
           "520": 30,
           "521": 22,
           "522": null,
           "523": 44,
           "524": null,
           "525": 40.5,
           "526": 50,
           "527": null,
           "528": 39,
           "529": 23,
           "53": 29,
           "530": 2,
           "531": null,
           "532": 17,
           "533": null,
           "534": 30,
           "535": 7,
           "536": 45,
           "537": 30,
           "538": null,
           "539": 22,
           "54": 65,
           "540": 36,
           "541": 9,
           "542": 11,
           "543": 32,
           "544": 50,
           "545": 64,
           "546": 19,
           "547": null,
           "548": 33,
           "549": 8,
           "55": null,
           "550": 17,
           "551": 27,
           "552": null,
           "553": 22,
           "554": 22,
           "555": 62,
           "556": 48,
           "557": null,
           "558": 39,
           "559": 36,
           "56": 21,
           "560": null,
           "561": 40,
           "562": 28,
           "563": null,
           "564": null,
           "565": 24,
           "566": 19,
           "567": 29,
           "568": null,
           "569": 32,
           "57": 28.5,
           "570": 62,
           "571": 53,
           "572": 36,
           "573": null,
           "574": 16,
           "575": 19,
           "576": 34,
           "577": 39,
           "578": null,
           "579": 32,
           "58": 5,
           "580": 25,
           "581": 39,
           "582": 54,
           "583": 36,
           "584": null,
           "585": 18,
           "586": 47,
           "587": 60,
           "588": 22,
           "589": null,
           "59": 11,
           "590": 35,
           "591": 52,
           "592": 47,
           "593": null,
           "594": 37,
           "595": 36,
           "596": null,
           "597": 49,
           "598": null,
           "599": 49,
           "6": 54,
           "60": 22,
           "600": 24,
           "601": null,
           "602": null,
           "603": 44,
           "604": 35,
           "605": 36,
           "606": 30,
           "607": 27,
           "608": 22,
           "609": 40,
           "61": 38,
           "610": 39,
           "611": null,
           "612": null,
           "613": null,
           "614": 35,
           "615": 24,
           "616": 34,
           "617": 26,
           "618": 4,
           "619": 26,
           "62": 45,
           "620": 27,
           "621": 42,
           "622": 20,
           "623": 21,
           "624": 21,
           "625": 61,
           "626": 57,
           "627": 21,
           "628": 26,
           "629": null,
           "63": 4,
           "630": 80,
           "631": 51,
           "632": 32,
           "633": null,
           "634": 9,
           "635": 28,
           "636": 32,
           "637": 31,
           "638": 41,
           "639": null,
           "64": null,
           "640": 20,
           "641": 24,
           "642": 2,
           "643": null,
           "644": 0.75,
           "645": 48,
           "646": 19,
           "647": 56,
           "648": null,
           "649": 23,
           "65": null,
           "650": null,
           "651": 18,
           "652": 21,
           "653": null,
           "654": 18,
           "655": 24,
           "656": null,
           "657": 32,
           "658": 23,
           "659": 58,
           "66": 29,
           "660": 50,
           "661": 40,
           "662": 47,
           "663": 36,
           "664": 20,
           "665": 32,
           "666": 25,
           "667": null,
           "668": 43,
           "669": null,
           "67": 19,
           "670": 40,
           "671": 31,
           "672": 70,
           "673": 31,
           "674": null,
           "675": 18,
           "676": 24.5,
           "677": 18,
           "678": 43,
           "679": 36,
           "68": 17,
           "680": null,
           "681": 27,
           "682": 20,
           "683": 14,
           "684": 60,
           "685": 25,
           "686": 14,
           "687": 19,
           "688": 18,
           "689": 15,
           "69": 26,
           "690": 31,
           "691": 4,
           "692": null,
           "693": 25,
           "694": 60,
           "695": 52,
           "696": 44,
           "697": null,
           "698": 49,
           "699": 42,
           "7": 2,
           "70": 32,
           "700": 18,
           "701": 35,
           "702": 18,
           "703": 25,
           "704": 26,
           "705": 39,
           "706": 45,
           "707": 42,
           "708": 22,
           "709": null,
           "71": 16,
           "710": 24,
           "711": null,
           "712": 48,
           "713": 29,
           "714": 52,
           "715": 19,
           "716": 38,
           "717": 27,
           "718": null,
           "719": 33,
           "72": 21,
           "720": 6,
           "721": 17,
           "722": 34,
           "723": 50,
           "724": 27,
           "725": 20,
           "726": 30,
           "727": null,
           "728": 25,
           "729": 25,
           "73": 26,
           "730": 29,
           "731": 11,
           "732": null,
           "733": 23,
           "734": 23,
           "735": 28.5,
           "736": 48,
           "737": 35,
           "738": null,
           "739": null,
           "74": 32,
           "740": null,
           "741": 36,
           "742": 21,
           "743": 24,
           "744": 31,
           "745": 70,
           "746": 16,
           "747": 30,
           "748": 19,
           "749": 31,
           "75": 25,
           "750": 4,
           "751": 6,
           "752": 33,
           "753": 23,
           "754": 48,
           "755": 0.67,
           "756": 28,
           "757": 18,
           "758": 34,
           "759": 33,
           "76": null,
           "760": null,
           "761": 41,
           "762": 20,
           "763": 36,
           "764": 16,
           "765": 51,
           "766": null,
           "767": 30.5,
           "768": null,
           "769": 32,
           "77": null,
           "770": 24,
           "771": 48,
           "772": 57,
           "773": null,
           "774": 54,
           "775": 18,
           "776": null,
           "777": 5,
           "778": null,
           "779": 43,
           "78": 0.83,
           "780": 13,
           "781": 17,
           "782": 29,
           "783": null,
           "784": 25,
           "785": 25,
           "786": 18,
           "787": 8,
           "788": 1,
           "789": 46,
           "79": 30,
           "790": null,
           "791": 16,
           "792": null,
           "793": null,
           "794": 25,
           "795": 39,
           "796": 49,
           "797": 31,
           "798": 30,
           "799": 30,
           "8": 27,
           "80": 22,
           "800": 34,
           "801": 31,
           "802": 11,
           "803": 0.42,
           "804": 27,
           "805": 31,
           "806": 39,
           "807": 18,
           "808": 39,
           "809": 33,
           "81": 29,
           "810": 26,
           "811": 39,
           "812": 35,
           "813": 6,
           "814": 30.5,
           "815": null,
           "816": 23,
           "817": 31,
           "818": 43,
           "819": 10,
           "82": null,
           "820": 52,
           "821": 27,
           "822": 38,
           "823": 27,
           "824": 2,
           "825": null,
           "826": null,
           "827": 1,
           "828": null,
           "829": 62,
           "83": 28,
           "830": 15,
           "831": 0.83,
           "832": null,
           "833": 23,
           "834": 18,
           "835": 39,
           "836": 21,
           "837": null,
           "838": 32,
           "839": null,
           "84": 17,
           "840": 20,
           "841": 16,
           "842": 30,
           "843": 34.5,
           "844": 17,
           "845": 42,
           "846": null,
           "847": 35,
           "848": 28,
           "849": null,
           "85": 33,
           "850": 4,
           "851": 74,
           "852": 9,
           "853": 16,
           "854": 44,
           "855": 18,
           "856": 45,
           "857": 51,
           "858": 24,
           "859": null,
           "86": 16,
           "860": 41,
           "861": 21,
           "862": 48,
           "863": null,
           "864": 24,
           "865": 42,
           "866": 27,
           "867": 31,
           "868": null,
           "869": 4,
           "87": null,
           "870": 26,
           "871": 47,
           "872": 33,
           "873": 47,
           "874": 28,
           "875": 15,
           "876": 20,
           "877": 19,
           "878": null,
           "879": 56,
           "88": 23,
           "880": 25,
           "881": 33,
           "882": 22,
           "883": 28,
           "884": 25,
           "885": 39,
           "886": 27,
           "887": 19,
           "888": null,
           "889": 26,
           "89": 24,
           "890": 32,
           "9": 14,
           "90": 29,
           "91": 20,
           "92": 46,
           "93": 26,
           "94": 59,
           "95": null,
           "96": 71,
           "97": 23,
           "98": 34,
           "99": 34,
           "bdata": "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",
           "dtype": "f8",
           "shape": "891"
          },
          "bdata": "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",
          "dtype": "f8"
         },
         "xaxis": "x",
         "y": {
          "_inputArray": {
           "0": 7.25,
           "1": 71.2833,
           "10": 16.7,
           "100": 7.8958,
           "101": 7.8958,
           "102": 77.2875,
           "103": 8.6542,
           "104": 7.925,
           "105": 7.8958,
           "106": 7.65,
           "107": 7.775,
           "108": 7.8958,
           "109": 24.15,
           "11": 26.55,
           "110": 52,
           "111": 14.4542,
           "112": 8.05,
           "113": 9.825,
           "114": 14.4583,
           "115": 7.925,
           "116": 7.75,
           "117": 21,
           "118": 247.5208,
           "119": 31.275,
           "12": 8.05,
           "120": 73.5,
           "121": 8.05,
           "122": 30.0708,
           "123": 13,
           "124": 77.2875,
           "125": 11.2417,
           "126": 7.75,
           "127": 7.1417,
           "128": 22.3583,
           "129": 6.975,
           "13": 31.275,
           "130": 7.8958,
           "131": 7.05,
           "132": 14.5,
           "133": 26,
           "134": 13,
           "135": 15.0458,
           "136": 26.2833,
           "137": 53.1,
           "138": 9.2167,
           "139": 79.2,
           "14": 7.8542,
           "140": 15.2458,
           "141": 7.75,
           "142": 15.85,
           "143": 6.75,
           "144": 11.5,
           "145": 36.75,
           "146": 7.7958,
           "147": 34.375,
           "148": 26,
           "149": 13,
           "15": 16,
           "150": 12.525,
           "151": 66.6,
           "152": 8.05,
           "153": 14.5,
           "154": 7.3125,
           "155": 61.3792,
           "156": 7.7333,
           "157": 8.05,
           "158": 8.6625,
           "159": 69.55,
           "16": 29.125,
           "160": 16.1,
           "161": 15.75,
           "162": 7.775,
           "163": 8.6625,
           "164": 39.6875,
           "165": 20.525,
           "166": 55,
           "167": 27.9,
           "168": 25.925,
           "169": 56.4958,
           "17": 13,
           "170": 33.5,
           "171": 29.125,
           "172": 11.1333,
           "173": 7.925,
           "174": 30.6958,
           "175": 7.8542,
           "176": 25.4667,
           "177": 28.7125,
           "178": 13,
           "179": 0,
           "18": 18,
           "180": 69.55,
           "181": 15.05,
           "182": 31.3875,
           "183": 39,
           "184": 22.025,
           "185": 50,
           "186": 15.5,
           "187": 26.55,
           "188": 15.5,
           "189": 7.8958,
           "19": 7.225,
           "190": 13,
           "191": 13,
           "192": 7.8542,
           "193": 26,
           "194": 27.7208,
           "195": 146.5208,
           "196": 7.75,
           "197": 8.4042,
           "198": 7.75,
           "199": 13,
           "2": 7.925,
           "20": 26,
           "200": 9.5,
           "201": 69.55,
           "202": 6.4958,
           "203": 7.225,
           "204": 8.05,
           "205": 10.4625,
           "206": 15.85,
           "207": 18.7875,
           "208": 7.75,
           "209": 31,
           "21": 13,
           "210": 7.05,
           "211": 21,
           "212": 7.25,
           "213": 13,
           "214": 7.75,
           "215": 113.275,
           "216": 7.925,
           "217": 27,
           "218": 76.2917,
           "219": 10.5,
           "22": 8.0292,
           "220": 8.05,
           "221": 13,
           "222": 8.05,
           "223": 7.8958,
           "224": 90,
           "225": 9.35,
           "226": 10.5,
           "227": 7.25,
           "228": 13,
           "229": 25.4667,
           "23": 35.5,
           "230": 83.475,
           "231": 7.775,
           "232": 13.5,
           "233": 31.3875,
           "234": 10.5,
           "235": 7.55,
           "236": 26,
           "237": 26.25,
           "238": 10.5,
           "239": 12.275,
           "24": 21.075,
           "240": 14.4542,
           "241": 15.5,
           "242": 10.5,
           "243": 7.125,
           "244": 7.225,
           "245": 90,
           "246": 7.775,
           "247": 14.5,
           "248": 52.5542,
           "249": 26,
           "25": 31.3875,
           "250": 7.25,
           "251": 10.4625,
           "252": 26.55,
           "253": 16.1,
           "254": 20.2125,
           "255": 15.2458,
           "256": 79.2,
           "257": 86.5,
           "258": 512.3292,
           "259": 26,
           "26": 7.225,
           "260": 7.75,
           "261": 31.3875,
           "262": 79.65,
           "263": 0,
           "264": 7.75,
           "265": 10.5,
           "266": 39.6875,
           "267": 7.775,
           "268": 153.4625,
           "269": 135.6333,
           "27": 263,
           "270": 31,
           "271": 0,
           "272": 19.5,
           "273": 29.7,
           "274": 7.75,
           "275": 77.9583,
           "276": 7.75,
           "277": 0,
           "278": 29.125,
           "279": 20.25,
           "28": 7.8792,
           "280": 7.75,
           "281": 7.8542,
           "282": 9.5,
           "283": 8.05,
           "284": 26,
           "285": 8.6625,
           "286": 9.5,
           "287": 7.8958,
           "288": 13,
           "289": 7.75,
           "29": 7.8958,
           "290": 78.85,
           "291": 91.0792,
           "292": 12.875,
           "293": 8.85,
           "294": 7.8958,
           "295": 27.7208,
           "296": 7.2292,
           "297": 151.55,
           "298": 30.5,
           "299": 247.5208,
           "3": 53.1,
           "30": 27.7208,
           "300": 7.75,
           "301": 23.25,
           "302": 0,
           "303": 12.35,
           "304": 8.05,
           "305": 151.55,
           "306": 110.8833,
           "307": 108.9,
           "308": 24,
           "309": 56.9292,
           "31": 146.5208,
           "310": 83.1583,
           "311": 262.375,
           "312": 26,
           "313": 7.8958,
           "314": 26.25,
           "315": 7.8542,
           "316": 26,
           "317": 14,
           "318": 164.8667,
           "319": 134.5,
           "32": 7.75,
           "320": 7.25,
           "321": 7.8958,
           "322": 12.35,
           "323": 29,
           "324": 69.55,
           "325": 135.6333,
           "326": 6.2375,
           "327": 13,
           "328": 20.525,
           "329": 57.9792,
           "33": 10.5,
           "330": 23.25,
           "331": 28.5,
           "332": 153.4625,
           "333": 18,
           "334": 133.65,
           "335": 7.8958,
           "336": 66.6,
           "337": 134.5,
           "338": 8.05,
           "339": 35.5,
           "34": 82.1708,
           "340": 26,
           "341": 263,
           "342": 13,
           "343": 13,
           "344": 13,
           "345": 13,
           "346": 13,
           "347": 16.1,
           "348": 15.9,
           "349": 8.6625,
           "35": 52,
           "350": 9.225,
           "351": 35,
           "352": 7.2292,
           "353": 17.8,
           "354": 7.225,
           "355": 9.5,
           "356": 55,
           "357": 13,
           "358": 7.8792,
           "359": 7.8792,
           "36": 7.2292,
           "360": 27.9,
           "361": 27.7208,
           "362": 14.4542,
           "363": 7.05,
           "364": 15.5,
           "365": 7.25,
           "366": 75.25,
           "367": 7.2292,
           "368": 7.75,
           "369": 69.3,
           "37": 8.05,
           "370": 55.4417,
           "371": 6.4958,
           "372": 8.05,
           "373": 135.6333,
           "374": 21.075,
           "375": 82.1708,
           "376": 7.25,
           "377": 211.5,
           "378": 4.0125,
           "379": 7.775,
           "38": 18,
           "380": 227.525,
           "381": 15.7417,
           "382": 7.925,
           "383": 52,
           "384": 7.8958,
           "385": 73.5,
           "386": 46.9,
           "387": 13,
           "388": 7.7292,
           "389": 12,
           "39": 11.2417,
           "390": 120,
           "391": 7.7958,
           "392": 7.925,
           "393": 113.275,
           "394": 16.7,
           "395": 7.7958,
           "396": 7.8542,
           "397": 26,
           "398": 10.5,
           "399": 12.65,
           "4": 8.05,
           "40": 9.475,
           "400": 7.925,
           "401": 8.05,
           "402": 9.825,
           "403": 15.85,
           "404": 8.6625,
           "405": 21,
           "406": 7.75,
           "407": 18.75,
           "408": 7.775,
           "409": 25.4667,
           "41": 21,
           "410": 7.8958,
           "411": 6.8583,
           "412": 90,
           "413": 0,
           "414": 7.925,
           "415": 8.05,
           "416": 32.5,
           "417": 13,
           "418": 13,
           "419": 24.15,
           "42": 7.8958,
           "420": 7.8958,
           "421": 7.7333,
           "422": 7.875,
           "423": 14.4,
           "424": 20.2125,
           "425": 7.25,
           "426": 26,
           "427": 26,
           "428": 7.75,
           "429": 8.05,
           "43": 41.5792,
           "430": 26.55,
           "431": 16.1,
           "432": 26,
           "433": 7.125,
           "434": 55.9,
           "435": 120,
           "436": 34.375,
           "437": 18.75,
           "438": 263,
           "439": 10.5,
           "44": 7.8792,
           "440": 26.25,
           "441": 9.5,
           "442": 7.775,
           "443": 13,
           "444": 8.1125,
           "445": 81.8583,
           "446": 19.5,
           "447": 26.55,
           "448": 19.2583,
           "449": 30.5,
           "45": 8.05,
           "450": 27.75,
           "451": 19.9667,
           "452": 27.75,
           "453": 89.1042,
           "454": 8.05,
           "455": 7.8958,
           "456": 26.55,
           "457": 51.8625,
           "458": 10.5,
           "459": 7.75,
           "46": 15.5,
           "460": 26.55,
           "461": 8.05,
           "462": 38.5,
           "463": 13,
           "464": 8.05,
           "465": 7.05,
           "466": 0,
           "467": 26.55,
           "468": 7.725,
           "469": 19.2583,
           "47": 7.75,
           "470": 7.25,
           "471": 8.6625,
           "472": 27.75,
           "473": 13.7917,
           "474": 9.8375,
           "475": 52,
           "476": 21,
           "477": 7.0458,
           "478": 7.5208,
           "479": 12.2875,
           "48": 21.6792,
           "480": 46.9,
           "481": 0,
           "482": 8.05,
           "483": 9.5875,
           "484": 91.0792,
           "485": 25.4667,
           "486": 90,
           "487": 29.7,
           "488": 8.05,
           "489": 15.9,
           "49": 17.8,
           "490": 19.9667,
           "491": 7.25,
           "492": 30.5,
           "493": 49.5042,
           "494": 8.05,
           "495": 14.4583,
           "496": 78.2667,
           "497": 15.1,
           "498": 151.55,
           "499": 7.7958,
           "5": 8.4583,
           "50": 39.6875,
           "500": 8.6625,
           "501": 7.75,
           "502": 7.6292,
           "503": 9.5875,
           "504": 86.5,
           "505": 108.9,
           "506": 26,
           "507": 26.55,
           "508": 22.525,
           "509": 56.4958,
           "51": 7.8,
           "510": 7.75,
           "511": 8.05,
           "512": 26.2875,
           "513": 59.4,
           "514": 7.4958,
           "515": 34.0208,
           "516": 10.5,
           "517": 24.15,
           "518": 26,
           "519": 7.8958,
           "52": 76.7292,
           "520": 93.5,
           "521": 7.8958,
           "522": 7.225,
           "523": 57.9792,
           "524": 7.2292,
           "525": 7.75,
           "526": 10.5,
           "527": 221.7792,
           "528": 7.925,
           "529": 11.5,
           "53": 26,
           "530": 26,
           "531": 7.2292,
           "532": 7.2292,
           "533": 22.3583,
           "534": 8.6625,
           "535": 26.25,
           "536": 26.55,
           "537": 106.425,
           "538": 14.5,
           "539": 49.5,
           "54": 61.9792,
           "540": 71,
           "541": 31.275,
           "542": 31.275,
           "543": 26,
           "544": 106.425,
           "545": 26,
           "546": 26,
           "547": 13.8625,
           "548": 20.525,
           "549": 36.75,
           "55": 35.5,
           "550": 110.8833,
           "551": 26,
           "552": 7.8292,
           "553": 7.225,
           "554": 7.775,
           "555": 26.55,
           "556": 39.6,
           "557": 227.525,
           "558": 79.65,
           "559": 17.4,
           "56": 10.5,
           "560": 7.75,
           "561": 7.8958,
           "562": 13.5,
           "563": 8.05,
           "564": 8.05,
           "565": 24.15,
           "566": 7.8958,
           "567": 21.075,
           "568": 7.2292,
           "569": 7.8542,
           "57": 7.2292,
           "570": 10.5,
           "571": 51.4792,
           "572": 26.3875,
           "573": 7.75,
           "574": 8.05,
           "575": 14.5,
           "576": 13,
           "577": 55.9,
           "578": 14.4583,
           "579": 7.925,
           "58": 27.75,
           "580": 30,
           "581": 110.8833,
           "582": 26,
           "583": 40.125,
           "584": 8.7125,
           "585": 79.65,
           "586": 15,
           "587": 79.2,
           "588": 8.05,
           "589": 8.05,
           "59": 46.9,
           "590": 7.125,
           "591": 78.2667,
           "592": 7.25,
           "593": 7.75,
           "594": 26,
           "595": 24.15,
           "596": 33,
           "597": 0,
           "598": 7.225,
           "599": 56.9292,
           "6": 51.8625,
           "60": 7.2292,
           "600": 27,
           "601": 7.8958,
           "602": 42.4,
           "603": 8.05,
           "604": 26.55,
           "605": 15.55,
           "606": 7.8958,
           "607": 30.5,
           "608": 41.5792,
           "609": 153.4625,
           "61": 80,
           "610": 31.275,
           "611": 7.05,
           "612": 15.5,
           "613": 7.75,
           "614": 8.05,
           "615": 65,
           "616": 14.4,
           "617": 16.1,
           "618": 39,
           "619": 10.5,
           "62": 83.475,
           "620": 14.4542,
           "621": 52.5542,
           "622": 15.7417,
           "623": 7.8542,
           "624": 16.1,
           "625": 32.3208,
           "626": 12.35,
           "627": 77.9583,
           "628": 7.8958,
           "629": 7.7333,
           "63": 27.9,
           "630": 30,
           "631": 7.0542,
           "632": 30.5,
           "633": 0,
           "634": 27.9,
           "635": 13,
           "636": 7.925,
           "637": 26.25,
           "638": 39.6875,
           "639": 16.1,
           "64": 27.7208,
           "640": 7.8542,
           "641": 69.3,
           "642": 27.9,
           "643": 56.4958,
           "644": 19.2583,
           "645": 76.7292,
           "646": 7.8958,
           "647": 35.5,
           "648": 7.55,
           "649": 7.55,
           "65": 15.2458,
           "650": 7.8958,
           "651": 23,
           "652": 8.4333,
           "653": 7.8292,
           "654": 6.75,
           "655": 73.5,
           "656": 7.8958,
           "657": 15.5,
           "658": 13,
           "659": 113.275,
           "66": 10.5,
           "660": 133.65,
           "661": 7.225,
           "662": 25.5875,
           "663": 7.4958,
           "664": 7.925,
           "665": 73.5,
           "666": 13,
           "667": 7.775,
           "668": 8.05,
           "669": 52,
           "67": 8.1583,
           "670": 39,
           "671": 52,
           "672": 10.5,
           "673": 13,
           "674": 0,
           "675": 7.775,
           "676": 8.05,
           "677": 9.8417,
           "678": 46.9,
           "679": 512.3292,
           "68": 7.925,
           "680": 8.1375,
           "681": 76.7292,
           "682": 9.225,
           "683": 46.9,
           "684": 39,
           "685": 41.5792,
           "686": 39.6875,
           "687": 10.1708,
           "688": 7.7958,
           "689": 211.3375,
           "69": 8.6625,
           "690": 57,
           "691": 13.4167,
           "692": 56.4958,
           "693": 7.225,
           "694": 26.55,
           "695": 13.5,
           "696": 8.05,
           "697": 7.7333,
           "698": 110.8833,
           "699": 7.65,
           "7": 21.075,
           "70": 10.5,
           "700": 227.525,
           "701": 26.2875,
           "702": 14.4542,
           "703": 7.7417,
           "704": 7.8542,
           "705": 26,
           "706": 13.5,
           "707": 26.2875,
           "708": 151.55,
           "709": 15.2458,
           "71": 46.9,
           "710": 49.5042,
           "711": 26.55,
           "712": 52,
           "713": 9.4833,
           "714": 13,
           "715": 7.65,
           "716": 227.525,
           "717": 10.5,
           "718": 15.5,
           "719": 7.775,
           "72": 73.5,
           "720": 33,
           "721": 7.0542,
           "722": 13,
           "723": 13,
           "724": 53.1,
           "725": 8.6625,
           "726": 21,
           "727": 7.7375,
           "728": 26,
           "729": 7.925,
           "73": 14.4542,
           "730": 211.3375,
           "731": 18.7875,
           "732": 0,
           "733": 13,
           "734": 13,
           "735": 16.1,
           "736": 34.375,
           "737": 512.3292,
           "738": 7.8958,
           "739": 7.8958,
           "74": 56.4958,
           "740": 30,
           "741": 78.85,
           "742": 262.375,
           "743": 16.1,
           "744": 7.925,
           "745": 71,
           "746": 20.25,
           "747": 13,
           "748": 53.1,
           "749": 7.75,
           "75": 7.65,
           "750": 23,
           "751": 12.475,
           "752": 9.5,
           "753": 7.8958,
           "754": 65,
           "755": 14.5,
           "756": 7.7958,
           "757": 11.5,
           "758": 8.05,
           "759": 86.5,
           "76": 7.8958,
           "760": 14.5,
           "761": 7.125,
           "762": 7.2292,
           "763": 120,
           "764": 7.775,
           "765": 77.9583,
           "766": 39.6,
           "767": 7.75,
           "768": 24.15,
           "769": 8.3625,
           "77": 8.05,
           "770": 9.5,
           "771": 7.8542,
           "772": 10.5,
           "773": 7.225,
           "774": 23,
           "775": 7.75,
           "776": 7.75,
           "777": 12.475,
           "778": 7.7375,
           "779": 211.3375,
           "78": 29,
           "780": 7.2292,
           "781": 57,
           "782": 30,
           "783": 23.45,
           "784": 7.05,
           "785": 7.25,
           "786": 7.4958,
           "787": 29.125,
           "788": 20.575,
           "789": 79.2,
           "79": 12.475,
           "790": 7.75,
           "791": 26,
           "792": 69.55,
           "793": 30.6958,
           "794": 7.8958,
           "795": 13,
           "796": 25.9292,
           "797": 8.6833,
           "798": 7.2292,
           "799": 24.15,
           "8": 11.1333,
           "80": 9,
           "800": 13,
           "801": 26.25,
           "802": 120,
           "803": 8.5167,
           "804": 6.975,
           "805": 7.775,
           "806": 0,
           "807": 7.775,
           "808": 13,
           "809": 53.1,
           "81": 9.5,
           "810": 7.8875,
           "811": 24.15,
           "812": 10.5,
           "813": 31.275,
           "814": 8.05,
           "815": 0,
           "816": 7.925,
           "817": 37.0042,
           "818": 6.45,
           "819": 27.9,
           "82": 7.7875,
           "820": 93.5,
           "821": 8.6625,
           "822": 0,
           "823": 12.475,
           "824": 39.6875,
           "825": 6.95,
           "826": 56.4958,
           "827": 37.0042,
           "828": 7.75,
           "829": 80,
           "83": 47.1,
           "830": 14.4542,
           "831": 18.75,
           "832": 7.2292,
           "833": 7.8542,
           "834": 8.3,
           "835": 83.1583,
           "836": 8.6625,
           "837": 8.05,
           "838": 56.4958,
           "839": 29.7,
           "84": 10.5,
           "840": 7.925,
           "841": 10.5,
           "842": 31,
           "843": 6.4375,
           "844": 8.6625,
           "845": 7.55,
           "846": 69.55,
           "847": 7.8958,
           "848": 33,
           "849": 89.1042,
           "85": 15.85,
           "850": 31.275,
           "851": 7.775,
           "852": 15.2458,
           "853": 39.4,
           "854": 26,
           "855": 9.35,
           "856": 164.8667,
           "857": 26.55,
           "858": 19.2583,
           "859": 7.2292,
           "86": 34.375,
           "860": 14.1083,
           "861": 11.5,
           "862": 25.9292,
           "863": 69.55,
           "864": 13,
           "865": 13,
           "866": 13.8583,
           "867": 50.4958,
           "868": 9.5,
           "869": 11.1333,
           "87": 8.05,
           "870": 7.8958,
           "871": 52.5542,
           "872": 5,
           "873": 9,
           "874": 24,
           "875": 7.225,
           "876": 9.8458,
           "877": 7.8958,
           "878": 7.8958,
           "879": 83.1583,
           "88": 263,
           "880": 26,
           "881": 7.8958,
           "882": 10.5167,
           "883": 10.5,
           "884": 7.05,
           "885": 29.125,
           "886": 13,
           "887": 30,
           "888": 23.45,
           "889": 30,
           "89": 8.05,
           "890": 7.75,
           "9": 30.0708,
           "90": 8.05,
           "91": 7.8542,
           "92": 61.175,
           "93": 20.575,
           "94": 7.25,
           "95": 8.05,
           "96": 34.6542,
           "97": 63.3583,
           "98": 23,
           "99": 26,
           "bdata": "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",
           "dtype": "f8",
           "shape": "891"
          },
          "bdata": "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",
          "dtype": "f8"
         },
         "yaxis": "y"
        }
       ],
       "layout": {
        "autosize": true,
        "coloraxis": {
         "colorbar": {
          "title": {
           "text": "survived"
          }
         },
         "colorscale": [
          [
           0,
           "#0d0887"
          ],
          [
           0.1111111111111111,
           "#46039f"
          ],
          [
           0.2222222222222222,
           "#7201a8"
          ],
          [
           0.3333333333333333,
           "#9c179e"
          ],
          [
           0.4444444444444444,
           "#bd3786"
          ],
          [
           0.5555555555555556,
           "#d8576b"
          ],
          [
           0.6666666666666666,
           "#ed7953"
          ],
          [
           0.7777777777777778,
           "#fb9f3a"
          ],
          [
           0.8888888888888888,
           "#fdca26"
          ],
          [
           1,
           "#f0f921"
          ]
         ]
        },
        "legend": {
         "itemsizing": "constant",
         "tracegroupgap": 0
        },
        "template": {
         "data": {
          "bar": [
           {
            "error_x": {
             "color": "#2a3f5f"
            },
            "error_y": {
             "color": "#2a3f5f"
            },
            "marker": {
             "line": {
              "color": "#E5ECF6",
              "width": 0.5
             },
             "pattern": {
              "fillmode": "overlay",
              "size": 10,
              "solidity": 0.2
             }
            },
            "type": "bar"
           }
          ],
          "barpolar": [
           {
            "marker": {
             "line": {
              "color": "#E5ECF6",
              "width": 0.5
             },
             "pattern": {
              "fillmode": "overlay",
              "size": 10,
              "solidity": 0.2
             }
            },
            "type": "barpolar"
           }
          ],
          "carpet": [
           {
            "aaxis": {
             "endlinecolor": "#2a3f5f",
             "gridcolor": "white",
             "linecolor": "white",
             "minorgridcolor": "white",
             "startlinecolor": "#2a3f5f"
            },
            "baxis": {
             "endlinecolor": "#2a3f5f",
             "gridcolor": "white",
             "linecolor": "white",
             "minorgridcolor": "white",
             "startlinecolor": "#2a3f5f"
            },
            "type": "carpet"
           }
          ],
          "choropleth": [
           {
            "colorbar": {
             "outlinewidth": 0,
             "ticks": ""
            },
            "type": "choropleth"
           }
          ],
          "contour": [
           {
            "colorbar": {
             "outlinewidth": 0,
             "ticks": ""
            },
            "colorscale": [
             [
              0,
              "#0d0887"
             ],
             [
              0.1111111111111111,
              "#46039f"
             ],
             [
              0.2222222222222222,
              "#7201a8"
             ],
             [
              0.3333333333333333,
              "#9c179e"
             ],
             [
              0.4444444444444444,
              "#bd3786"
             ],
             [
              0.5555555555555556,
              "#d8576b"
             ],
             [
              0.6666666666666666,
              "#ed7953"
             ],
             [
              0.7777777777777778,
              "#fb9f3a"
             ],
             [
              0.8888888888888888,
              "#fdca26"
             ],
             [
              1,
              "#f0f921"
             ]
            ],
            "type": "contour"
           }
          ],
          "contourcarpet": [
           {
            "colorbar": {
             "outlinewidth": 0,
             "ticks": ""
            },
            "type": "contourcarpet"
           }
          ],
          "heatmap": [
           {
            "colorbar": {
             "outlinewidth": 0,
             "ticks": ""
            },
            "colorscale": [
             [
              0,
              "#0d0887"
             ],
             [
              0.1111111111111111,
              "#46039f"
             ],
             [
              0.2222222222222222,
              "#7201a8"
             ],
             [
              0.3333333333333333,
              "#9c179e"
             ],
             [
              0.4444444444444444,
              "#bd3786"
             ],
             [
              0.5555555555555556,
              "#d8576b"
             ],
             [
              0.6666666666666666,
              "#ed7953"
             ],
             [
              0.7777777777777778,
              "#fb9f3a"
             ],
             [
              0.8888888888888888,
              "#fdca26"
             ],
             [
              1,
              "#f0f921"
             ]
            ],
            "type": "heatmap"
           }
          ],
          "histogram": [
           {
            "marker": {
             "pattern": {
              "fillmode": "overlay",
              "size": 10,
              "solidity": 0.2
             }
            },
            "type": "histogram"
           }
          ],
          "histogram2d": [
           {
            "colorbar": {
             "outlinewidth": 0,
             "ticks": ""
            },
            "colorscale": [
             [
              0,
              "#0d0887"
             ],
             [
              0.1111111111111111,
              "#46039f"
             ],
             [
              0.2222222222222222,
              "#7201a8"
             ],
             [
              0.3333333333333333,
              "#9c179e"
             ],
             [
              0.4444444444444444,
              "#bd3786"
             ],
             [
              0.5555555555555556,
              "#d8576b"
             ],
             [
              0.6666666666666666,
              "#ed7953"
             ],
             [
              0.7777777777777778,
              "#fb9f3a"
             ],
             [
              0.8888888888888888,
              "#fdca26"
             ],
             [
              1,
              "#f0f921"
             ]
            ],
            "type": "histogram2d"
           }
          ],
          "histogram2dcontour": [
           {
            "colorbar": {
             "outlinewidth": 0,
             "ticks": ""
            },
            "colorscale": [
             [
              0,
              "#0d0887"
             ],
             [
              0.1111111111111111,
              "#46039f"
             ],
             [
              0.2222222222222222,
              "#7201a8"
             ],
             [
              0.3333333333333333,
              "#9c179e"
             ],
             [
              0.4444444444444444,
              "#bd3786"
             ],
             [
              0.5555555555555556,
              "#d8576b"
             ],
             [
              0.6666666666666666,
              "#ed7953"
             ],
             [
              0.7777777777777778,
              "#fb9f3a"
             ],
             [
              0.8888888888888888,
              "#fdca26"
             ],
             [
              1,
              "#f0f921"
             ]
            ],
            "type": "histogram2dcontour"
           }
          ],
          "mesh3d": [
           {
            "colorbar": {
             "outlinewidth": 0,
             "ticks": ""
            },
            "type": "mesh3d"
           }
          ],
          "parcoords": [
           {
            "line": {
             "colorbar": {
              "outlinewidth": 0,
              "ticks": ""
             }
            },
            "type": "parcoords"
           }
          ],
          "pie": [
           {
            "automargin": true,
            "type": "pie"
           }
          ],
          "scatter": [
           {
            "fillpattern": {
             "fillmode": "overlay",
             "size": 10,
             "solidity": 0.2
            },
            "type": "scatter"
           }
          ],
          "scatter3d": [
           {
            "line": {
             "colorbar": {
              "outlinewidth": 0,
              "ticks": ""
             }
            },
            "marker": {
             "colorbar": {
              "outlinewidth": 0,
              "ticks": ""
             }
            },
            "type": "scatter3d"
           }
          ],
          "scattercarpet": [
           {
            "marker": {
             "colorbar": {
              "outlinewidth": 0,
              "ticks": ""
             }
            },
            "type": "scattercarpet"
           }
          ],
          "scattergeo": [
           {
            "marker": {
             "colorbar": {
              "outlinewidth": 0,
              "ticks": ""
             }
            },
            "type": "scattergeo"
           }
          ],
          "scattergl": [
           {
            "marker": {
             "colorbar": {
              "outlinewidth": 0,
              "ticks": ""
             }
            },
            "type": "scattergl"
           }
          ],
          "scattermap": [
           {
            "marker": {
             "colorbar": {
              "outlinewidth": 0,
              "ticks": ""
             }
            },
            "type": "scattermap"
           }
          ],
          "scattermapbox": [
           {
            "marker": {
             "colorbar": {
              "outlinewidth": 0,
              "ticks": ""
             }
            },
            "type": "scattermapbox"
           }
          ],
          "scatterpolar": [
           {
            "marker": {
             "colorbar": {
              "outlinewidth": 0,
              "ticks": ""
             }
            },
            "type": "scatterpolar"
           }
          ],
          "scatterpolargl": [
           {
            "marker": {
             "colorbar": {
              "outlinewidth": 0,
              "ticks": ""
             }
            },
            "type": "scatterpolargl"
           }
          ],
          "scatterternary": [
           {
            "marker": {
             "colorbar": {
              "outlinewidth": 0,
              "ticks": ""
             }
            },
            "type": "scatterternary"
           }
          ],
          "surface": [
           {
            "colorbar": {
             "outlinewidth": 0,
             "ticks": ""
            },
            "colorscale": [
             [
              0,
              "#0d0887"
             ],
             [
              0.1111111111111111,
              "#46039f"
             ],
             [
              0.2222222222222222,
              "#7201a8"
             ],
             [
              0.3333333333333333,
              "#9c179e"
             ],
             [
              0.4444444444444444,
              "#bd3786"
             ],
             [
              0.5555555555555556,
              "#d8576b"
             ],
             [
              0.6666666666666666,
              "#ed7953"
             ],
             [
              0.7777777777777778,
              "#fb9f3a"
             ],
             [
              0.8888888888888888,
              "#fdca26"
             ],
             [
              1,
              "#f0f921"
             ]
            ],
            "type": "surface"
           }
          ],
          "table": [
           {
            "cells": {
             "fill": {
              "color": "#EBF0F8"
             },
             "line": {
              "color": "white"
             }
            },
            "header": {
             "fill": {
              "color": "#C8D4E3"
             },
             "line": {
              "color": "white"
             }
            },
            "type": "table"
           }
          ]
         },
         "layout": {
          "annotationdefaults": {
           "arrowcolor": "#2a3f5f",
           "arrowhead": 0,
           "arrowwidth": 1
          },
          "autotypenumbers": "strict",
          "coloraxis": {
           "colorbar": {
            "outlinewidth": 0,
            "ticks": ""
           }
          },
          "colorscale": {
           "diverging": [
            [
             0,
             "#8e0152"
            ],
            [
             0.1,
             "#c51b7d"
            ],
            [
             0.2,
             "#de77ae"
            ],
            [
             0.3,
             "#f1b6da"
            ],
            [
             0.4,
             "#fde0ef"
            ],
            [
             0.5,
             "#f7f7f7"
            ],
            [
             0.6,
             "#e6f5d0"
            ],
            [
             0.7,
             "#b8e186"
            ],
            [
             0.8,
             "#7fbc41"
            ],
            [
             0.9,
             "#4d9221"
            ],
            [
             1,
             "#276419"
            ]
           ],
           "sequential": [
            [
             0,
             "#0d0887"
            ],
            [
             0.1111111111111111,
             "#46039f"
            ],
            [
             0.2222222222222222,
             "#7201a8"
            ],
            [
             0.3333333333333333,
             "#9c179e"
            ],
            [
             0.4444444444444444,
             "#bd3786"
            ],
            [
             0.5555555555555556,
             "#d8576b"
            ],
            [
             0.6666666666666666,
             "#ed7953"
            ],
            [
             0.7777777777777778,
             "#fb9f3a"
            ],
            [
             0.8888888888888888,
             "#fdca26"
            ],
            [
             1,
             "#f0f921"
            ]
           ],
           "sequentialminus": [
            [
             0,
             "#0d0887"
            ],
            [
             0.1111111111111111,
             "#46039f"
            ],
            [
             0.2222222222222222,
             "#7201a8"
            ],
            [
             0.3333333333333333,
             "#9c179e"
            ],
            [
             0.4444444444444444,
             "#bd3786"
            ],
            [
             0.5555555555555556,
             "#d8576b"
            ],
            [
             0.6666666666666666,
             "#ed7953"
            ],
            [
             0.7777777777777778,
             "#fb9f3a"
            ],
            [
             0.8888888888888888,
             "#fdca26"
            ],
            [
             1,
             "#f0f921"
            ]
           ]
          },
          "colorway": [
           "#636efa",
           "#EF553B",
           "#00cc96",
           "#ab63fa",
           "#FFA15A",
           "#19d3f3",
           "#FF6692",
           "#B6E880",
           "#FF97FF",
           "#FECB52"
          ],
          "font": {
           "color": "#2a3f5f"
          },
          "geo": {
           "bgcolor": "white",
           "lakecolor": "white",
           "landcolor": "#E5ECF6",
           "showlakes": true,
           "showland": true,
           "subunitcolor": "white"
          },
          "hoverlabel": {
           "align": "left"
          },
          "hovermode": "closest",
          "mapbox": {
           "style": "light"
          },
          "paper_bgcolor": "white",
          "plot_bgcolor": "#E5ECF6",
          "polar": {
           "angularaxis": {
            "gridcolor": "white",
            "linecolor": "white",
            "ticks": ""
           },
           "bgcolor": "#E5ECF6",
           "radialaxis": {
            "gridcolor": "white",
            "linecolor": "white",
            "ticks": ""
           }
          },
          "scene": {
           "xaxis": {
            "backgroundcolor": "#E5ECF6",
            "gridcolor": "white",
            "gridwidth": 2,
            "linecolor": "white",
            "showbackground": true,
            "ticks": "",
            "zerolinecolor": "white"
           },
           "yaxis": {
            "backgroundcolor": "#E5ECF6",
            "gridcolor": "white",
            "gridwidth": 2,
            "linecolor": "white",
            "showbackground": true,
            "ticks": "",
            "zerolinecolor": "white"
           },
           "zaxis": {
            "backgroundcolor": "#E5ECF6",
            "gridcolor": "white",
            "gridwidth": 2,
            "linecolor": "white",
            "showbackground": true,
            "ticks": "",
            "zerolinecolor": "white"
           }
          },
          "shapedefaults": {
           "line": {
            "color": "#2a3f5f"
           }
          },
          "ternary": {
           "aaxis": {
            "gridcolor": "white",
            "linecolor": "white",
            "ticks": ""
           },
           "baxis": {
            "gridcolor": "white",
            "linecolor": "white",
            "ticks": ""
           },
           "bgcolor": "#E5ECF6",
           "caxis": {
            "gridcolor": "white",
            "linecolor": "white",
            "ticks": ""
           }
          },
          "title": {
           "x": 0.05
          },
          "xaxis": {
           "automargin": true,
           "gridcolor": "white",
           "linecolor": "white",
           "ticks": "",
           "title": {
            "standoff": 15
           },
           "zerolinecolor": "white",
           "zerolinewidth": 2
          },
          "yaxis": {
           "automargin": true,
           "gridcolor": "white",
           "linecolor": "white",
           "ticks": "",
           "title": {
            "standoff": 15
           },
           "zerolinecolor": "white",
           "zerolinewidth": 2
          }
         }
        },
        "title": {
         "text": "Interactive: Age vs Fare (Bubble Size = Family Size)"
        },
        "xaxis": {
         "anchor": "y",
         "autorange": true,
         "domain": [
          0,
          1
         ],
         "range": [
          -4.790860358468774,
          84.94794565827543
         ],
         "title": {
          "text": "age"
         },
         "type": "linear"
        },
        "yaxis": {
         "anchor": "x",
         "autorange": true,
         "domain": [
          0,
          1
         ],
         "range": [
          -68.50081352232856,
          567.9942220838794
         ],
         "title": {
          "text": "fare"
         },
         "type": "linear"
        }
       }
      },
      "image/png": "[encoded data removed]"
     },
     "metadata": {},
     "output_type": "display_data"
    }
   ],
   "source": [
    "fig2 = px.scatter(df, x=\"age\", y=\"fare\", color=\"survived\",\n",
    "                  size=\"family_size\", hover_data=[\"class\",\"sex\"],\n",
    "                  title=\"Interactive: Age vs Fare (Bubble Size = Family Size)\")\n",
    "fig2.show()"
   ]
  },
  {
   "cell_type": "markdown",
   "id": "a04aa0c7-dc59-4ced-b1d8-2079566162e2",
   "metadata": {},
   "source": [
    "# 7.3 Survival by Embarkation Port"
   ]
  },
  {
   "cell_type": "code",
   "execution_count": 7,
   "id": "966a5725-09d6-4adb-92a1-87b9a03c09fb",
   "metadata": {},
   "outputs": [
    {
     "data": {
      "application/vnd.plotly.v1+json": {
       "config": {
        "plotlyServerURL": "https://plot.ly"
       },
       "data": [
        {
         "domain": {
          "x": [
           0,
           1
          ],
          "y": [
           0,
           1
          ]
         },
         "hole": 0.4,
         "hovertemplate": "embarked=%{label}<br>survived=%{value}<extra></extra>",
         "labels": [
          "S",
          "C",
          "S",
          "S",
          "S",
          "Q",
          "S",
          "S",
          "S",
          "C",
          "S",
          "S",
          "S",
          "S",
          "S",
          "S",
          "Q",
          "S",
          "S",
          "C",
          "S",
          "S",
          "Q",
          "S",
          "S",
          "S",
          "C",
          "S",
          "Q",
          "S",
          "C",
          "C",
          "Q",
          "S",
          "C",
          "S",
          "C",
          "S",
          "S",
          "C",
          "S",
          "S",
          "C",
          "C",
          "Q",
          "S",
          "Q",
          "Q",
          "C",
          "S",
          "S",
          "S",
          "C",
          "S",
          "C",
          "S",
          "S",
          "C",
          "S",
          "S",
          "C",
          null,
          "S",
          "S",
          "C",
          "C",
          "S",
          "S",
          "S",
          "S",
          "S",
          "S",
          "S",
          "C",
          "S",
          "S",
          "S",
          "S",
          "S",
          "S",
          "S",
          "S",
          "Q",
          "S",
          "S",
          "S",
          "S",
          "S",
          "S",
          "S",
          "S",
          "S",
          "S",
          "S",
          "S",
          "S",
          "C",
          "C",
          "S",
          "S",
          "S",
          "S",
          "S",
          "S",
          "S",
          "S",
          "S",
          "S",
          "S",
          "Q",
          "S",
          "C",
          "S",
          "S",
          "C",
          "S",
          "Q",
          "S",
          "C",
          "S",
          "S",
          "S",
          "C",
          "S",
          "S",
          "C",
          "Q",
          "S",
          "C",
          "S",
          "C",
          "S",
          "S",
          "S",
          "S",
          "C",
          "S",
          "S",
          "S",
          "C",
          "C",
          "S",
          "S",
          "Q",
          "S",
          "S",
          "S",
          "S",
          "S",
          "S",
          "S",
          "S",
          "S",
          "S",
          "S",
          "C",
          "Q",
          "S",
          "S",
          "S",
          "S",
          "S",
          "S",
          "S",
          "S",
          "S",
          "S",
          "S",
          "S",
          "S",
          "S",
          "Q",
          "S",
          "S",
          "C",
          "S",
          "S",
          "C",
          "S",
          "S",
          "S",
          "C",
          "S",
          "S",
          "S",
          "S",
          "Q",
          "S",
          "Q",
          "S",
          "S",
          "S",
          "S",
          "S",
          "C",
          "C",
          "Q",
          "S",
          "Q",
          "S",
          "S",
          "S",
          "S",
          "C",
          "S",
          "S",
          "S",
          "C",
          "Q",
          "C",
          "S",
          "S",
          "S",
          "S",
          "Q",
          "C",
          "S",
          "S",
          "C",
          "S",
          "S",
          "S",
          "S",
          "S",
          "S",
          "S",
          "S",
          "S",
          "S",
          "S",
          "S",
          "S",
          "S",
          "S",
          "S",
          "S",
          "S",
          "S",
          "S",
          "S",
          "C",
          "Q",
          "S",
          "S",
          "C",
          "Q",
          "S",
          "S",
          "S",
          "S",
          "S",
          "S",
          "S",
          "S",
          "S",
          "C",
          "C",
          "S",
          "C",
          "S",
          "Q",
          "S",
          "S",
          "S",
          "Q",
          "S",
          "S",
          "S",
          "S",
          "S",
          "S",
          "S",
          "S",
          "C",
          "Q",
          "S",
          "S",
          "S",
          "Q",
          "S",
          "Q",
          "S",
          "S",
          "S",
          "S",
          "C",
          "S",
          "S",
          "S",
          "Q",
          "S",
          "C",
          "C",
          "S",
          "S",
          "C",
          "C",
          "S",
          "S",
          "C",
          "Q",
          "Q",
          "S",
          "Q",
          "S",
          "S",
          "C",
          "C",
          "C",
          "C",
          "C",
          "C",
          "S",
          "S",
          "S",
          "S",
          "S",
          "S",
          "S",
          "C",
          "S",
          "S",
          "Q",
          "S",
          "S",
          "C",
          "S",
          "S",
          "S",
          "C",
          "Q",
          "S",
          "S",
          "S",
          "S",
          "S",
          "S",
          "C",
          "S",
          "S",
          "S",
          "S",
          "S",
          "S",
          "S",
          "S",
          "S",
          "S",
          "S",
          "S",
          "S",
          "S",
          "C",
          "S",
          "C",
          "S",
          "S",
          "S",
          "Q",
          "Q",
          "S",
          "C",
          "C",
          "S",
          "Q",
          "S",
          "C",
          "C",
          "Q",
          "C",
          "C",
          "S",
          "S",
          "C",
          "S",
          "C",
          "S",
          "C",
          "C",
          "S",
          "C",
          "C",
          "S",
          "S",
          "S",
          "S",
          "S",
          "S",
          "Q",
          "C",
          "S",
          "S",
          "S",
          "C",
          "S",
          "S",
          "S",
          "S",
          "S",
          "S",
          "S",
          "S",
          "S",
          "S",
          "S",
          "S",
          "S",
          "S",
          "S",
          "S",
          "S",
          "Q",
          "Q",
          "S",
          "S",
          "S",
          "S",
          "S",
          "S",
          "S",
          "C",
          "Q",
          "S",
          "S",
          "S",
          "S",
          "S",
          "S",
          "Q",
          "S",
          "S",
          "S",
          "S",
          "S",
          "S",
          "S",
          "S",
          "S",
          "S",
          "S",
          "S",
          "S",
          "S",
          "S",
          "S",
          "S",
          "S",
          "S",
          "C",
          "S",
          "S",
          "S",
          "C",
          "C",
          "S",
          "C",
          "S",
          "S",
          "S",
          "Q",
          "S",
          "S",
          "S",
          "S",
          "S",
          "S",
          "S",
          "S",
          "Q",
          "C",
          "S",
          "S",
          "S",
          "C",
          "S",
          "S",
          "S",
          "S",
          "S",
          "S",
          "S",
          "S",
          "S",
          "S",
          "C",
          "S",
          "S",
          "C",
          "S",
          "S",
          "S",
          "S",
          "S",
          "C",
          "S",
          "C",
          "C",
          "S",
          "S",
          "S",
          "S",
          "Q",
          "Q",
          "S",
          "S",
          "C",
          "S",
          "S",
          "S",
          "S",
          "Q",
          "S",
          "S",
          "C",
          "S",
          "S",
          "S",
          "Q",
          "S",
          "S",
          "S",
          "S",
          "C",
          "C",
          "C",
          "Q",
          "S",
          "S",
          "S",
          "S",
          "S",
          "C",
          "C",
          "C",
          "S",
          "S",
          "S",
          "C",
          "S",
          "C",
          "S",
          "S",
          "S",
          "S",
          "C",
          "S",
          "S",
          "C",
          "S",
          "S",
          "C",
          "S",
          "Q",
          "C",
          "S",
          "S",
          "C",
          "C",
          "S",
          "S",
          "Q",
          "S",
          "S",
          "S",
          "S",
          "S",
          "S",
          "S",
          "C",
          "S",
          "S",
          "S",
          "S",
          "Q",
          "S",
          "S",
          "S",
          "S",
          "C",
          "S",
          "S",
          "C",
          "S",
          "C",
          "C",
          "S",
          "S",
          "C",
          "S",
          "S",
          "S",
          "C",
          "S",
          "Q",
          "S",
          "S",
          "S",
          "S",
          "C",
          "C",
          "S",
          "S",
          "S",
          "S",
          "C",
          "S",
          "S",
          "S",
          "C",
          "S",
          "S",
          "S",
          "Q",
          "Q",
          "S",
          "S",
          "S",
          "S",
          "S",
          "S",
          "C",
          "S",
          "C",
          "S",
          "S",
          "S",
          "Q",
          "S",
          "S",
          "Q",
          "S",
          "S",
          "C",
          "S",
          "S",
          "S",
          "S",
          "S",
          "S",
          "S",
          "S",
          "C",
          "S",
          "S",
          "C",
          "C",
          "S",
          "C",
          "S",
          "S",
          "S",
          "S",
          "S",
          "Q",
          "Q",
          "S",
          "S",
          "Q",
          "S",
          "C",
          "S",
          "C",
          "S",
          "S",
          "S",
          "S",
          "S",
          "S",
          "S",
          "S",
          "S",
          "S",
          "S",
          "S",
          "S",
          "S",
          "S",
          "S",
          "S",
          "C",
          "Q",
          "C",
          "S",
          "S",
          "S",
          "C",
          "S",
          "S",
          "S",
          "S",
          "S",
          "C",
          "S",
          "C",
          "S",
          "S",
          "S",
          "Q",
          "C",
          "S",
          "C",
          "S",
          "C",
          "Q",
          "S",
          "S",
          "S",
          "S",
          "S",
          "C",
          "C",
          "S",
          "S",
          "S",
          "S",
          "S",
          "C",
          "S",
          "Q",
          "S",
          "S",
          "S",
          "S",
          "S",
          "S",
          "S",
          "S",
          "Q",
          "S",
          "S",
          "S",
          "C",
          "S",
          "S",
          "S",
          "S",
          "S",
          "C",
          "S",
          "S",
          "S",
          "S",
          "C",
          "S",
          "S",
          "S",
          "S",
          "S",
          "S",
          "Q",
          "S",
          "S",
          "S",
          "S",
          "S",
          "S",
          "S",
          "S",
          "S",
          "S",
          "S",
          "S",
          "C",
          "S",
          "S",
          "S",
          "C",
          "Q",
          "Q",
          "S",
          "S",
          "S",
          "S",
          "C",
          "S",
          "S",
          "Q",
          "S",
          "Q",
          "S",
          "C",
          "S",
          "S",
          "S",
          "S",
          "S",
          "S",
          "Q",
          "S",
          "C",
          "Q",
          "S",
          "S",
          "C",
          "S",
          "S",
          "S",
          "S",
          "C",
          "S",
          "S",
          "S",
          "S",
          "C",
          "S",
          "S",
          "S",
          "S",
          "S",
          "S",
          "S",
          "S",
          "S",
          "S",
          "S",
          "S",
          "S",
          "C",
          "S",
          "S",
          "S",
          "S",
          "S",
          "S",
          "S",
          "Q",
          "S",
          "C",
          "Q",
          null,
          "C",
          "S",
          "C",
          "S",
          "S",
          "C",
          "S",
          "S",
          "S",
          "C",
          "S",
          "S",
          "C",
          "C",
          "S",
          "S",
          "S",
          "C",
          "S",
          "C",
          "S",
          "S",
          "C",
          "S",
          "S",
          "S",
          "S",
          "S",
          "C",
          "C",
          "S",
          "S",
          "S",
          "S",
          "S",
          "S",
          "C",
          "S",
          "S",
          "S",
          "S",
          "S",
          "S",
          "S",
          "C",
          "C",
          "S",
          "S",
          "S",
          "C",
          "S",
          "S",
          "S",
          "S",
          "S",
          "Q",
          "S",
          "S",
          "S",
          "C",
          "Q"
         ],
         "legendgroup": "",
         "name": "",
         "showlegend": true,
         "type": "pie",
         "values": {
          "_inputArray": {
           "0": 0,
           "1": 1,
           "10": 1,
           "100": 0,
           "101": 0,
           "102": 0,
           "103": 0,
           "104": 0,
           "105": 0,
           "106": 1,
           "107": 1,
           "108": 0,
           "109": 1,
           "11": 1,
           "110": 0,
           "111": 0,
           "112": 0,
           "113": 0,
           "114": 0,
           "115": 0,
           "116": 0,
           "117": 0,
           "118": 0,
           "119": 0,
           "12": 0,
           "120": 0,
           "121": 0,
           "122": 0,
           "123": 1,
           "124": 0,
           "125": 1,
           "126": 0,
           "127": 1,
           "128": 1,
           "129": 0,
           "13": 0,
           "130": 0,
           "131": 0,
           "132": 0,
           "133": 1,
           "134": 0,
           "135": 0,
           "136": 1,
           "137": 0,
           "138": 0,
           "139": 0,
           "14": 0,
           "140": 0,
           "141": 1,
           "142": 1,
           "143": 0,
           "144": 0,
           "145": 0,
           "146": 1,
           "147": 0,
           "148": 0,
           "149": 0,
           "15": 1,
           "150": 0,
           "151": 1,
           "152": 0,
           "153": 0,
           "154": 0,
           "155": 0,
           "156": 1,
           "157": 0,
           "158": 0,
           "159": 0,
           "16": 0,
           "160": 0,
           "161": 1,
           "162": 0,
           "163": 0,
           "164": 0,
           "165": 1,
           "166": 1,
           "167": 0,
           "168": 0,
           "169": 0,
           "17": 1,
           "170": 0,
           "171": 0,
           "172": 1,
           "173": 0,
           "174": 0,
           "175": 0,
           "176": 0,
           "177": 0,
           "178": 0,
           "179": 0,
           "18": 0,
           "180": 0,
           "181": 0,
           "182": 0,
           "183": 1,
           "184": 1,
           "185": 0,
           "186": 1,
           "187": 1,
           "188": 0,
           "189": 0,
           "19": 1,
           "190": 1,
           "191": 0,
           "192": 1,
           "193": 1,
           "194": 1,
           "195": 1,
           "196": 0,
           "197": 0,
           "198": 1,
           "199": 0,
           "2": 1,
           "20": 0,
           "200": 0,
           "201": 0,
           "202": 0,
           "203": 0,
           "204": 1,
           "205": 0,
           "206": 0,
           "207": 1,
           "208": 1,
           "209": 1,
           "21": 1,
           "210": 0,
           "211": 1,
           "212": 0,
           "213": 0,
           "214": 0,
           "215": 1,
           "216": 1,
           "217": 0,
           "218": 1,
           "219": 0,
           "22": 1,
           "220": 1,
           "221": 0,
           "222": 0,
           "223": 0,
           "224": 1,
           "225": 0,
           "226": 1,
           "227": 0,
           "228": 0,
           "229": 0,
           "23": 1,
           "230": 1,
           "231": 0,
           "232": 0,
           "233": 1,
           "234": 0,
           "235": 0,
           "236": 0,
           "237": 1,
           "238": 0,
           "239": 0,
           "24": 0,
           "240": 0,
           "241": 1,
           "242": 0,
           "243": 0,
           "244": 0,
           "245": 0,
           "246": 0,
           "247": 1,
           "248": 1,
           "249": 0,
           "25": 1,
           "250": 0,
           "251": 0,
           "252": 0,
           "253": 0,
           "254": 0,
           "255": 1,
           "256": 1,
           "257": 1,
           "258": 1,
           "259": 1,
           "26": 0,
           "260": 0,
           "261": 1,
           "262": 0,
           "263": 0,
           "264": 0,
           "265": 0,
           "266": 0,
           "267": 1,
           "268": 1,
           "269": 1,
           "27": 0,
           "270": 0,
           "271": 1,
           "272": 1,
           "273": 0,
           "274": 1,
           "275": 1,
           "276": 0,
           "277": 0,
           "278": 0,
           "279": 1,
           "28": 1,
           "280": 0,
           "281": 0,
           "282": 0,
           "283": 1,
           "284": 0,
           "285": 0,
           "286": 1,
           "287": 0,
           "288": 1,
           "289": 1,
           "29": 0,
           "290": 1,
           "291": 1,
           "292": 0,
           "293": 0,
           "294": 0,
           "295": 0,
           "296": 0,
           "297": 0,
           "298": 1,
           "299": 1,
           "3": 1,
           "30": 0,
           "300": 1,
           "301": 1,
           "302": 0,
           "303": 1,
           "304": 0,
           "305": 1,
           "306": 1,
           "307": 1,
           "308": 0,
           "309": 1,
           "31": 1,
           "310": 1,
           "311": 1,
           "312": 0,
           "313": 0,
           "314": 0,
           "315": 1,
           "316": 1,
           "317": 0,
           "318": 1,
           "319": 1,
           "32": 1,
           "320": 0,
           "321": 0,
           "322": 1,
           "323": 1,
           "324": 0,
           "325": 1,
           "326": 0,
           "327": 1,
           "328": 1,
           "329": 1,
           "33": 0,
           "330": 1,
           "331": 0,
           "332": 0,
           "333": 0,
           "334": 1,
           "335": 0,
           "336": 0,
           "337": 1,
           "338": 1,
           "339": 0,
           "34": 0,
           "340": 1,
           "341": 1,
           "342": 0,
           "343": 0,
           "344": 0,
           "345": 1,
           "346": 1,
           "347": 1,
           "348": 1,
           "349": 0,
           "35": 0,
           "350": 0,
           "351": 0,
           "352": 0,
           "353": 0,
           "354": 0,
           "355": 0,
           "356": 1,
           "357": 0,
           "358": 1,
           "359": 1,
           "36": 1,
           "360": 0,
           "361": 0,
           "362": 0,
           "363": 0,
           "364": 0,
           "365": 0,
           "366": 1,
           "367": 1,
           "368": 1,
           "369": 1,
           "37": 0,
           "370": 1,
           "371": 0,
           "372": 0,
           "373": 0,
           "374": 0,
           "375": 1,
           "376": 1,
           "377": 0,
           "378": 0,
           "379": 0,
           "38": 0,
           "380": 1,
           "381": 1,
           "382": 0,
           "383": 1,
           "384": 0,
           "385": 0,
           "386": 0,
           "387": 1,
           "388": 0,
           "389": 1,
           "39": 1,
           "390": 1,
           "391": 1,
           "392": 0,
           "393": 1,
           "394": 1,
           "395": 0,
           "396": 0,
           "397": 0,
           "398": 0,
           "399": 1,
           "4": 0,
           "40": 0,
           "400": 1,
           "401": 0,
           "402": 0,
           "403": 0,
           "404": 0,
           "405": 0,
           "406": 0,
           "407": 1,
           "408": 0,
           "409": 0,
           "41": 0,
           "410": 0,
           "411": 0,
           "412": 1,
           "413": 0,
           "414": 1,
           "415": 0,
           "416": 1,
           "417": 1,
           "418": 0,
           "419": 0,
           "42": 0,
           "420": 0,
           "421": 0,
           "422": 0,
           "423": 0,
           "424": 0,
           "425": 0,
           "426": 1,
           "427": 1,
           "428": 0,
           "429": 1,
           "43": 1,
           "430": 1,
           "431": 1,
           "432": 1,
           "433": 0,
           "434": 0,
           "435": 1,
           "436": 0,
           "437": 1,
           "438": 0,
           "439": 0,
           "44": 1,
           "440": 1,
           "441": 0,
           "442": 0,
           "443": 1,
           "444": 1,
           "445": 1,
           "446": 1,
           "447": 1,
           "448": 1,
           "449": 1,
           "45": 0,
           "450": 0,
           "451": 0,
           "452": 0,
           "453": 1,
           "454": 0,
           "455": 1,
           "456": 0,
           "457": 1,
           "458": 1,
           "459": 0,
           "46": 0,
           "460": 1,
           "461": 0,
           "462": 0,
           "463": 0,
           "464": 0,
           "465": 0,
           "466": 0,
           "467": 0,
           "468": 0,
           "469": 1,
           "47": 1,
           "470": 0,
           "471": 0,
           "472": 1,
           "473": 1,
           "474": 0,
           "475": 0,
           "476": 0,
           "477": 0,
           "478": 0,
           "479": 1,
           "48": 0,
           "480": 0,
           "481": 0,
           "482": 0,
           "483": 1,
           "484": 1,
           "485": 0,
           "486": 1,
           "487": 0,
           "488": 0,
           "489": 1,
           "49": 0,
           "490": 0,
           "491": 0,
           "492": 0,
           "493": 0,
           "494": 0,
           "495": 0,
           "496": 1,
           "497": 0,
           "498": 0,
           "499": 0,
           "5": 0,
           "50": 0,
           "500": 0,
           "501": 0,
           "502": 0,
           "503": 0,
           "504": 1,
           "505": 0,
           "506": 1,
           "507": 1,
           "508": 0,
           "509": 1,
           "51": 0,
           "510": 1,
           "511": 0,
           "512": 1,
           "513": 1,
           "514": 0,
           "515": 0,
           "516": 1,
           "517": 0,
           "518": 1,
           "519": 0,
           "52": 1,
           "520": 1,
           "521": 0,
           "522": 0,
           "523": 1,
           "524": 0,
           "525": 0,
           "526": 1,
           "527": 0,
           "528": 0,
           "529": 0,
           "53": 1,
           "530": 1,
           "531": 0,
           "532": 0,
           "533": 1,
           "534": 0,
           "535": 1,
           "536": 0,
           "537": 1,
           "538": 0,
           "539": 1,
           "54": 0,
           "540": 1,
           "541": 0,
           "542": 0,
           "543": 1,
           "544": 0,
           "545": 0,
           "546": 1,
           "547": 1,
           "548": 0,
           "549": 1,
           "55": 1,
           "550": 1,
           "551": 0,
           "552": 0,
           "553": 1,
           "554": 1,
           "555": 0,
           "556": 1,
           "557": 0,
           "558": 1,
           "559": 1,
           "56": 1,
           "560": 0,
           "561": 0,
           "562": 0,
           "563": 0,
           "564": 0,
           "565": 0,
           "566": 0,
           "567": 0,
           "568": 0,
           "569": 1,
           "57": 0,
           "570": 1,
           "571": 1,
           "572": 1,
           "573": 1,
           "574": 0,
           "575": 0,
           "576": 1,
           "577": 1,
           "578": 0,
           "579": 1,
           "58": 1,
           "580": 1,
           "581": 1,
           "582": 0,
           "583": 0,
           "584": 0,
           "585": 1,
           "586": 0,
           "587": 1,
           "588": 0,
           "589": 0,
           "59": 0,
           "590": 0,
           "591": 1,
           "592": 0,
           "593": 0,
           "594": 0,
           "595": 0,
           "596": 1,
           "597": 0,
           "598": 0,
           "599": 1,
           "6": 0,
           "60": 0,
           "600": 1,
           "601": 0,
           "602": 0,
           "603": 0,
           "604": 1,
           "605": 0,
           "606": 0,
           "607": 1,
           "608": 1,
           "609": 1,
           "61": 1,
           "610": 0,
           "611": 0,
           "612": 1,
           "613": 0,
           "614": 0,
           "615": 1,
           "616": 0,
           "617": 0,
           "618": 1,
           "619": 0,
           "62": 0,
           "620": 0,
           "621": 1,
           "622": 1,
           "623": 0,
           "624": 0,
           "625": 0,
           "626": 0,
           "627": 1,
           "628": 0,
           "629": 0,
           "63": 0,
           "630": 1,
           "631": 0,
           "632": 1,
           "633": 0,
           "634": 0,
           "635": 1,
           "636": 0,
           "637": 0,
           "638": 0,
           "639": 0,
           "64": 0,
           "640": 0,
           "641": 1,
           "642": 0,
           "643": 1,
           "644": 1,
           "645": 1,
           "646": 0,
           "647": 1,
           "648": 0,
           "649": 1,
           "65": 1,
           "650": 0,
           "651": 1,
           "652": 0,
           "653": 1,
           "654": 0,
           "655": 0,
           "656": 0,
           "657": 0,
           "658": 0,
           "659": 0,
           "66": 1,
           "660": 1,
           "661": 0,
           "662": 0,
           "663": 0,
           "664": 1,
           "665": 0,
           "666": 0,
           "667": 0,
           "668": 0,
           "669": 1,
           "67": 0,
           "670": 1,
           "671": 0,
           "672": 0,
           "673": 1,
           "674": 0,
           "675": 0,
           "676": 0,
           "677": 1,
           "678": 0,
           "679": 1,
           "68": 1,
           "680": 0,
           "681": 1,
           "682": 0,
           "683": 0,
           "684": 0,
           "685": 0,
           "686": 0,
           "687": 0,
           "688": 0,
           "689": 1,
           "69": 0,
           "690": 1,
           "691": 1,
           "692": 1,
           "693": 0,
           "694": 0,
           "695": 0,
           "696": 0,
           "697": 1,
           "698": 0,
           "699": 0,
           "7": 0,
           "70": 0,
           "700": 1,
           "701": 1,
           "702": 0,
           "703": 0,
           "704": 0,
           "705": 0,
           "706": 1,
           "707": 1,
           "708": 1,
           "709": 1,
           "71": 0,
           "710": 1,
           "711": 0,
           "712": 1,
           "713": 0,
           "714": 0,
           "715": 0,
           "716": 1,
           "717": 1,
           "718": 0,
           "719": 0,
           "72": 0,
           "720": 1,
           "721": 0,
           "722": 0,
           "723": 0,
           "724": 1,
           "725": 0,
           "726": 1,
           "727": 1,
           "728": 0,
           "729": 0,
           "73": 0,
           "730": 1,
           "731": 0,
           "732": 0,
           "733": 0,
           "734": 0,
           "735": 0,
           "736": 0,
           "737": 1,
           "738": 0,
           "739": 0,
           "74": 1,
           "740": 1,
           "741": 0,
           "742": 1,
           "743": 0,
           "744": 1,
           "745": 0,
           "746": 0,
           "747": 1,
           "748": 0,
           "749": 0,
           "75": 0,
           "750": 1,
           "751": 1,
           "752": 0,
           "753": 0,
           "754": 1,
           "755": 1,
           "756": 0,
           "757": 0,
           "758": 0,
           "759": 1,
           "76": 0,
           "760": 0,
           "761": 0,
           "762": 1,
           "763": 1,
           "764": 0,
           "765": 1,
           "766": 0,
           "767": 0,
           "768": 0,
           "769": 0,
           "77": 0,
           "770": 0,
           "771": 0,
           "772": 0,
           "773": 0,
           "774": 1,
           "775": 0,
           "776": 0,
           "777": 1,
           "778": 0,
           "779": 1,
           "78": 1,
           "780": 1,
           "781": 1,
           "782": 0,
           "783": 0,
           "784": 0,
           "785": 0,
           "786": 1,
           "787": 0,
           "788": 1,
           "789": 0,
           "79": 1,
           "790": 0,
           "791": 0,
           "792": 0,
           "793": 0,
           "794": 0,
           "795": 0,
           "796": 1,
           "797": 1,
           "798": 0,
           "799": 0,
           "8": 1,
           "80": 0,
           "800": 0,
           "801": 1,
           "802": 1,
           "803": 1,
           "804": 1,
           "805": 0,
           "806": 0,
           "807": 0,
           "808": 0,
           "809": 1,
           "81": 1,
           "810": 0,
           "811": 0,
           "812": 0,
           "813": 0,
           "814": 0,
           "815": 0,
           "816": 0,
           "817": 0,
           "818": 0,
           "819": 0,
           "82": 1,
           "820": 1,
           "821": 1,
           "822": 0,
           "823": 1,
           "824": 0,
           "825": 0,
           "826": 0,
           "827": 1,
           "828": 1,
           "829": 1,
           "83": 0,
           "830": 1,
           "831": 1,
           "832": 0,
           "833": 0,
           "834": 0,
           "835": 1,
           "836": 0,
           "837": 0,
           "838": 1,
           "839": 1,
           "84": 1,
           "840": 0,
           "841": 0,
           "842": 1,
           "843": 0,
           "844": 0,
           "845": 0,
           "846": 0,
           "847": 0,
           "848": 0,
           "849": 1,
           "85": 1,
           "850": 0,
           "851": 0,
           "852": 0,
           "853": 1,
           "854": 0,
           "855": 1,
           "856": 1,
           "857": 1,
           "858": 1,
           "859": 0,
           "86": 0,
           "860": 0,
           "861": 0,
           "862": 1,
           "863": 0,
           "864": 0,
           "865": 1,
           "866": 1,
           "867": 0,
           "868": 0,
           "869": 1,
           "87": 0,
           "870": 0,
           "871": 1,
           "872": 0,
           "873": 0,
           "874": 1,
           "875": 1,
           "876": 0,
           "877": 0,
           "878": 0,
           "879": 1,
           "88": 1,
           "880": 1,
           "881": 0,
           "882": 0,
           "883": 0,
           "884": 0,
           "885": 0,
           "886": 0,
           "887": 1,
           "888": 0,
           "889": 1,
           "89": 0,
           "890": 0,
           "9": 1,
           "90": 0,
           "91": 0,
           "92": 0,
           "93": 0,
           "94": 0,
           "95": 0,
           "96": 0,
           "97": 1,
           "98": 1,
           "99": 0,
           "bdata": "AAEBAQAAAAABAQEBAAAAAQABAAEAAQEBAAEAAAEAAAEBAAAAAQAAAQAAAAEBAAABAAAAAAEBAAEBAAEAAAEAAAABAQABAAAAAAABAAAAAQEAAQEAAQEAAAEAAAAAAAAAAAEBAAAAAAAAAAEBAAEAAAAAAAAAAAAAAAAAAQABAAEBAAAAAAEAAAEAAAAAAQEAAAABAAAAAAEAAAAAAQAAAAABAAAAAQEAAAAAAAEAAAAAAAAAAAAAAQEAAQEAAAEAAQEBAQAAAQAAAAAAAQAAAQEBAAEAAAABAQABAAEAAAABAAEAAAABAAABAAAAAQAAAAEAAAAAAAEBAAAAAAAAAQEBAQEAAQAAAAAAAQEBAAEBAAEBAAAAAQAAAAEAAAEAAQEBAQAAAAAAAAEBAQEAAQABAQEAAQEBAAAAAQEAAQEAAAEBAAEAAQEBAQAAAAEAAAEBAAEBAAAAAQEBAQAAAAAAAAABAAEBAAAAAAAAAQEBAQEAAAAAAQEAAAABAQABAAAAAQABAQEAAQEAAAAAAQEAAAAAAAABAAAAAAEAAQABAQAAAAAAAAAAAQEAAQEBAQAAAQABAAABAAABAQEBAQEBAAAAAQABAAEBAAEAAAAAAAAAAAEAAAEBAAAAAAABAAAAAQEAAQAAAQAAAAAAAAEAAAAAAAAAAQABAQABAQABAQAAAQABAAEAAAEAAAEAAAABAAABAAEAAQABAQAAAQAAAQEAAQEAAAEBAAEAAQEAAAAAAAAAAAABAQEBAQAAAQEAAQEBAAAAAQABAAAAAQAAAAABAAABAQAAAAEAAAEBAQAAAQAAAQAAAQAAAQEAAAAAAQAAAQABAAABAAAAAAABAAEBAQABAAEAAQABAAAAAAAAAQAAAAEAAAAAAQEAAAEAAAABAAEAAQAAAAAAAAABAQEBAAAAAAEAAAEBAAAAAAEBAQEBAAEAAAABAQAAAQAAAAEAAQEAAAEAAAAAAAABAAABAAEAAQAAAQAAAQEAAAEBAAAAAQAAAQEAAQAAAAAAAAAAAQAAAQABAQEAAAAAAQABAAAAAAAAAAEBAAAAAQEBAQAAAAABAAAAAAAAAAAAAAEBAAEAAAABAQEBAQAAAAEAAAEBAAABAAAAAAAAAQAAAAEAAQEBAQAAAAEAAAEBAAABAAEAAAEBAAAAAQEAAAAAAAABAAEA",
           "dtype": "i1",
           "shape": "891"
          },
          "bdata": "AAEBAQAAAAABAQEBAAAAAQABAAEAAQEBAAEAAAEAAAEBAAAAAQAAAQAAAAEBAAABAAAAAAEBAAEBAAEAAAEAAAABAQABAAAAAAABAAAAAQEAAQEAAQEAAAEAAAAAAAAAAAEBAAAAAAAAAAEBAAEAAAAAAAAAAAAAAAAAAQABAAEBAAAAAAEAAAEAAAAAAQEAAAABAAAAAAEAAAAAAQAAAAABAAAAAQEAAAAAAAEAAAAAAAAAAAAAAQEAAQEAAAEAAQEBAQAAAQAAAAAAAQAAAQEBAAEAAAABAQABAAEAAAABAAEAAAABAAABAAAAAQAAAAEAAAAAAAEBAAAAAAAAAQEBAQEAAQAAAAAAAQEBAAEBAAEBAAAAAQAAAAEAAAEAAQEBAQAAAAAAAAEBAQEAAQABAQEAAQEBAAAAAQEAAQEAAAEBAAEAAQEBAQAAAAEAAAEBAAEBAAAAAQEBAQAAAAAAAAABAAEBAAAAAAAAAQEBAQEAAAAAAQEAAAABAQABAAAAAQABAQEAAQEAAAAAAQEAAAAAAAABAAAAAAEAAQABAQAAAAAAAAAAAQEAAQEBAQAAAQABAAABAAABAQEBAQEBAAAAAQABAAEBAAEAAAAAAAAAAAEAAAEBAAAAAAABAAAAAQEAAQAAAQAAAAAAAAEAAAAAAAAAAQABAQABAQABAQAAAQABAAEAAAEAAAEAAAABAAABAAEAAQABAQAAAQAAAQEAAQEAAAEBAAEAAQEAAAAAAAAAAAABAQEBAQAAAQEAAQEBAAAAAQABAAAAAQAAAAABAAABAQAAAAEAAAEBAQAAAQAAAQAAAQAAAQEAAAAAAQAAAQABAAABAAAAAAABAAEBAQABAAEAAQABAAAAAAAAAQAAAAEAAAAAAQEAAAEAAAABAAEAAQAAAAAAAAABAQEBAAAAAAEAAAEBAAAAAAEBAQEBAAEAAAABAQAAAQAAAAEAAQEAAAEAAAAAAAABAAABAAEAAQAAAQAAAQEAAAEBAAAAAQAAAQEAAQAAAAAAAAAAAQAAAQABAQEAAAAAAQABAAAAAAAAAAEBAAAAAQEBAQAAAAABAAAAAAAAAAAAAAEBAAEAAAABAQEBAQAAAAEAAAEBAAABAAAAAAAAAQAAAAEAAQEBAQAAAAEAAAEBAAABAAEAAAEBAAAAAQEAAAAAAAABAAEA",
          "dtype": "i1"
         }
        }
       ],
       "layout": {
        "autosize": true,
        "legend": {
         "tracegroupgap": 0
        },
        "template": {
         "data": {
          "bar": [
           {
            "error_x": {
             "color": "#2a3f5f"
            },
            "error_y": {
             "color": "#2a3f5f"
            },
            "marker": {
             "line": {
              "color": "#E5ECF6",
              "width": 0.5
             },
             "pattern": {
              "fillmode": "overlay",
              "size": 10,
              "solidity": 0.2
             }
            },
            "type": "bar"
           }
          ],
          "barpolar": [
           {
            "marker": {
             "line": {
              "color": "#E5ECF6",
              "width": 0.5
             },
             "pattern": {
              "fillmode": "overlay",
              "size": 10,
              "solidity": 0.2
             }
            },
            "type": "barpolar"
           }
          ],
          "carpet": [
           {
            "aaxis": {
             "endlinecolor": "#2a3f5f",
             "gridcolor": "white",
             "linecolor": "white",
             "minorgridcolor": "white",
             "startlinecolor": "#2a3f5f"
            },
            "baxis": {
             "endlinecolor": "#2a3f5f",
             "gridcolor": "white",
             "linecolor": "white",
             "minorgridcolor": "white",
             "startlinecolor": "#2a3f5f"
            },
            "type": "carpet"
           }
          ],
          "choropleth": [
           {
            "colorbar": {
             "outlinewidth": 0,
             "ticks": ""
            },
            "type": "choropleth"
           }
          ],
          "contour": [
           {
            "colorbar": {
             "outlinewidth": 0,
             "ticks": ""
            },
            "colorscale": [
             [
              0,
              "#0d0887"
             ],
             [
              0.1111111111111111,
              "#46039f"
             ],
             [
              0.2222222222222222,
              "#7201a8"
             ],
             [
              0.3333333333333333,
              "#9c179e"
             ],
             [
              0.4444444444444444,
              "#bd3786"
             ],
             [
              0.5555555555555556,
              "#d8576b"
             ],
             [
              0.6666666666666666,
              "#ed7953"
             ],
             [
              0.7777777777777778,
              "#fb9f3a"
             ],
             [
              0.8888888888888888,
              "#fdca26"
             ],
             [
              1,
              "#f0f921"
             ]
            ],
            "type": "contour"
           }
          ],
          "contourcarpet": [
           {
            "colorbar": {
             "outlinewidth": 0,
             "ticks": ""
            },
            "type": "contourcarpet"
           }
          ],
          "heatmap": [
           {
            "colorbar": {
             "outlinewidth": 0,
             "ticks": ""
            },
            "colorscale": [
             [
              0,
              "#0d0887"
             ],
             [
              0.1111111111111111,
              "#46039f"
             ],
             [
              0.2222222222222222,
              "#7201a8"
             ],
             [
              0.3333333333333333,
              "#9c179e"
             ],
             [
              0.4444444444444444,
              "#bd3786"
             ],
             [
              0.5555555555555556,
              "#d8576b"
             ],
             [
              0.6666666666666666,
              "#ed7953"
             ],
             [
              0.7777777777777778,
              "#fb9f3a"
             ],
             [
              0.8888888888888888,
              "#fdca26"
             ],
             [
              1,
              "#f0f921"
             ]
            ],
            "type": "heatmap"
           }
          ],
          "histogram": [
           {
            "marker": {
             "pattern": {
              "fillmode": "overlay",
              "size": 10,
              "solidity": 0.2
             }
            },
            "type": "histogram"
           }
          ],
          "histogram2d": [
           {
            "colorbar": {
             "outlinewidth": 0,
             "ticks": ""
            },
            "colorscale": [
             [
              0,
              "#0d0887"
             ],
             [
              0.1111111111111111,
              "#46039f"
             ],
             [
              0.2222222222222222,
              "#7201a8"
             ],
             [
              0.3333333333333333,
              "#9c179e"
             ],
             [
              0.4444444444444444,
              "#bd3786"
             ],
             [
              0.5555555555555556,
              "#d8576b"
             ],
             [
              0.6666666666666666,
              "#ed7953"
             ],
             [
              0.7777777777777778,
              "#fb9f3a"
             ],
             [
              0.8888888888888888,
              "#fdca26"
             ],
             [
              1,
              "#f0f921"
             ]
            ],
            "type": "histogram2d"
           }
          ],
          "histogram2dcontour": [
           {
            "colorbar": {
             "outlinewidth": 0,
             "ticks": ""
            },
            "colorscale": [
             [
              0,
              "#0d0887"
             ],
             [
              0.1111111111111111,
              "#46039f"
             ],
             [
              0.2222222222222222,
              "#7201a8"
             ],
             [
              0.3333333333333333,
              "#9c179e"
             ],
             [
              0.4444444444444444,
              "#bd3786"
             ],
             [
              0.5555555555555556,
              "#d8576b"
             ],
             [
              0.6666666666666666,
              "#ed7953"
             ],
             [
              0.7777777777777778,
              "#fb9f3a"
             ],
             [
              0.8888888888888888,
              "#fdca26"
             ],
             [
              1,
              "#f0f921"
             ]
            ],
            "type": "histogram2dcontour"
           }
          ],
          "mesh3d": [
           {
            "colorbar": {
             "outlinewidth": 0,
             "ticks": ""
            },
            "type": "mesh3d"
           }
          ],
          "parcoords": [
           {
            "line": {
             "colorbar": {
              "outlinewidth": 0,
              "ticks": ""
             }
            },
            "type": "parcoords"
           }
          ],
          "pie": [
           {
            "automargin": true,
            "type": "pie"
           }
          ],
          "scatter": [
           {
            "fillpattern": {
             "fillmode": "overlay",
             "size": 10,
             "solidity": 0.2
            },
            "type": "scatter"
           }
          ],
          "scatter3d": [
           {
            "line": {
             "colorbar": {
              "outlinewidth": 0,
              "ticks": ""
             }
            },
            "marker": {
             "colorbar": {
              "outlinewidth": 0,
              "ticks": ""
             }
            },
            "type": "scatter3d"
           }
          ],
          "scattercarpet": [
           {
            "marker": {
             "colorbar": {
              "outlinewidth": 0,
              "ticks": ""
             }
            },
            "type": "scattercarpet"
           }
          ],
          "scattergeo": [
           {
            "marker": {
             "colorbar": {
              "outlinewidth": 0,
              "ticks": ""
             }
            },
            "type": "scattergeo"
           }
          ],
          "scattergl": [
           {
            "marker": {
             "colorbar": {
              "outlinewidth": 0,
              "ticks": ""
             }
            },
            "type": "scattergl"
           }
          ],
          "scattermap": [
           {
            "marker": {
             "colorbar": {
              "outlinewidth": 0,
              "ticks": ""
             }
            },
            "type": "scattermap"
           }
          ],
          "scattermapbox": [
           {
            "marker": {
             "colorbar": {
              "outlinewidth": 0,
              "ticks": ""
             }
            },
            "type": "scattermapbox"
           }
          ],
          "scatterpolar": [
           {
            "marker": {
             "colorbar": {
              "outlinewidth": 0,
              "ticks": ""
             }
            },
            "type": "scatterpolar"
           }
          ],
          "scatterpolargl": [
           {
            "marker": {
             "colorbar": {
              "outlinewidth": 0,
              "ticks": ""
             }
            },
            "type": "scatterpolargl"
           }
          ],
          "scatterternary": [
           {
            "marker": {
             "colorbar": {
              "outlinewidth": 0,
              "ticks": ""
             }
            },
            "type": "scatterternary"
           }
          ],
          "surface": [
           {
            "colorbar": {
             "outlinewidth": 0,
             "ticks": ""
            },
            "colorscale": [
             [
              0,
              "#0d0887"
             ],
             [
              0.1111111111111111,
              "#46039f"
             ],
             [
              0.2222222222222222,
              "#7201a8"
             ],
             [
              0.3333333333333333,
              "#9c179e"
             ],
             [
              0.4444444444444444,
              "#bd3786"
             ],
             [
              0.5555555555555556,
              "#d8576b"
             ],
             [
              0.6666666666666666,
              "#ed7953"
             ],
             [
              0.7777777777777778,
              "#fb9f3a"
             ],
             [
              0.8888888888888888,
              "#fdca26"
             ],
             [
              1,
              "#f0f921"
             ]
            ],
            "type": "surface"
           }
          ],
          "table": [
           {
            "cells": {
             "fill": {
              "color": "#EBF0F8"
             },
             "line": {
              "color": "white"
             }
            },
            "header": {
             "fill": {
              "color": "#C8D4E3"
             },
             "line": {
              "color": "white"
             }
            },
            "type": "table"
           }
          ]
         },
         "layout": {
          "annotationdefaults": {
           "arrowcolor": "#2a3f5f",
           "arrowhead": 0,
           "arrowwidth": 1
          },
          "autotypenumbers": "strict",
          "coloraxis": {
           "colorbar": {
            "outlinewidth": 0,
            "ticks": ""
           }
          },
          "colorscale": {
           "diverging": [
            [
             0,
             "#8e0152"
            ],
            [
             0.1,
             "#c51b7d"
            ],
            [
             0.2,
             "#de77ae"
            ],
            [
             0.3,
             "#f1b6da"
            ],
            [
             0.4,
             "#fde0ef"
            ],
            [
             0.5,
             "#f7f7f7"
            ],
            [
             0.6,
             "#e6f5d0"
            ],
            [
             0.7,
             "#b8e186"
            ],
            [
             0.8,
             "#7fbc41"
            ],
            [
             0.9,
             "#4d9221"
            ],
            [
             1,
             "#276419"
            ]
           ],
           "sequential": [
            [
             0,
             "#0d0887"
            ],
            [
             0.1111111111111111,
             "#46039f"
            ],
            [
             0.2222222222222222,
             "#7201a8"
            ],
            [
             0.3333333333333333,
             "#9c179e"
            ],
            [
             0.4444444444444444,
             "#bd3786"
            ],
            [
             0.5555555555555556,
             "#d8576b"
            ],
            [
             0.6666666666666666,
             "#ed7953"
            ],
            [
             0.7777777777777778,
             "#fb9f3a"
            ],
            [
             0.8888888888888888,
             "#fdca26"
            ],
            [
             1,
             "#f0f921"
            ]
           ],
           "sequentialminus": [
            [
             0,
             "#0d0887"
            ],
            [
             0.1111111111111111,
             "#46039f"
            ],
            [
             0.2222222222222222,
             "#7201a8"
            ],
            [
             0.3333333333333333,
             "#9c179e"
            ],
            [
             0.4444444444444444,
             "#bd3786"
            ],
            [
             0.5555555555555556,
             "#d8576b"
            ],
            [
             0.6666666666666666,
             "#ed7953"
            ],
            [
             0.7777777777777778,
             "#fb9f3a"
            ],
            [
             0.8888888888888888,
             "#fdca26"
            ],
            [
             1,
             "#f0f921"
            ]
           ]
          },
          "colorway": [
           "#636efa",
           "#EF553B",
           "#00cc96",
           "#ab63fa",
           "#FFA15A",
           "#19d3f3",
           "#FF6692",
           "#B6E880",
           "#FF97FF",
           "#FECB52"
          ],
          "font": {
           "color": "#2a3f5f"
          },
          "geo": {
           "bgcolor": "white",
           "lakecolor": "white",
           "landcolor": "#E5ECF6",
           "showlakes": true,
           "showland": true,
           "subunitcolor": "white"
          },
          "hoverlabel": {
           "align": "left"
          },
          "hovermode": "closest",
          "mapbox": {
           "style": "light"
          },
          "paper_bgcolor": "white",
          "plot_bgcolor": "#E5ECF6",
          "polar": {
           "angularaxis": {
            "gridcolor": "white",
            "linecolor": "white",
            "ticks": ""
           },
           "bgcolor": "#E5ECF6",
           "radialaxis": {
            "gridcolor": "white",
            "linecolor": "white",
            "ticks": ""
           }
          },
          "scene": {
           "xaxis": {
            "backgroundcolor": "#E5ECF6",
            "gridcolor": "white",
            "gridwidth": 2,
            "linecolor": "white",
            "showbackground": true,
            "ticks": "",
            "zerolinecolor": "white"
           },
           "yaxis": {
            "backgroundcolor": "#E5ECF6",
            "gridcolor": "white",
            "gridwidth": 2,
            "linecolor": "white",
            "showbackground": true,
            "ticks": "",
            "zerolinecolor": "white"
           },
           "zaxis": {
            "backgroundcolor": "#E5ECF6",
            "gridcolor": "white",
            "gridwidth": 2,
            "linecolor": "white",
            "showbackground": true,
            "ticks": "",
            "zerolinecolor": "white"
           }
          },
          "shapedefaults": {
           "line": {
            "color": "#2a3f5f"
           }
          },
          "ternary": {
           "aaxis": {
            "gridcolor": "white",
            "linecolor": "white",
            "ticks": ""
           },
           "baxis": {
            "gridcolor": "white",
            "linecolor": "white",
            "ticks": ""
           },
           "bgcolor": "#E5ECF6",
           "caxis": {
            "gridcolor": "white",
            "linecolor": "white",
            "ticks": ""
           }
          },
          "title": {
           "x": 0.05
          },
          "xaxis": {
           "automargin": true,
           "gridcolor": "white",
           "linecolor": "white",
           "ticks": "",
           "title": {
            "standoff": 15
           },
           "zerolinecolor": "white",
           "zerolinewidth": 2
          },
          "yaxis": {
           "automargin": true,
           "gridcolor": "white",
           "linecolor": "white",
           "ticks": "",
           "title": {
            "standoff": 15
           },
           "zerolinecolor": "white",
           "zerolinewidth": 2
          }
         }
        },
        "title": {
         "text": "Survival by Embarkation Port"
        }
       }
      },
      "image/png": "[encoded data removed]"
     },
     "metadata": {},
     "output_type": "display_data"
    }
   ],
   "source": [
    "fig3 = px.pie(df, names=\"embarked\", values=\"survived\", hole=0.4,\n",
    "              title=\"Survival by Embarkation Port\")\n",
    "fig3.show()"
   ]
  },
  {
   "cell_type": "markdown",
   "id": "444534ab-4f5e-4280-aca4-87c28ee73588",
   "metadata": {},
   "source": [
    "# 8. Key Insights\n",
    "\n",
    "Gender effect: Women survived at much higher rates than men.\n",
    "\n",
    "Class effect: First-class passengers had a survival advantage.\n",
    "\n",
    "Family size: Small families survived best; solos and large families had lower survival.\n",
    "\n",
    "Age: Children had better odds than older passengers.\n",
    "\n",
    "Embarkation port: Passengers from Cherbourg (C) had slightly higher survival."
   ]
  },
  {
   "cell_type": "code",
   "execution_count": 11,
   "id": "de79cdff-1d36-4d45-a2d0-cefa8a374506",
   "metadata": {},
   "outputs": [
    {
     "data": {
      "text/html": [
       "\n",
       "        <iframe\n",
       "            width=\"100%\"\n",
       "            height=\"650\"\n",
       "            src=\"http://127.0.0.1:8050/\"\n",
       "            frameborder=\"0\"\n",
       "            allowfullscreen\n",
       "            \n",
       "        ></iframe>\n",
       "        "
      ],
      "text/plain": [
       "<IPython.lib.display.IFrame at 0x24b06bfe3f0>"
      ]
     },
     "metadata": {},
     "output_type": "display_data"
    }
   ],
   "source": [
    "import pandas as pd\n",
    "import plotly.express as px\n",
    "import dash\n",
    "from dash import dcc, html\n",
    "\n",
    "# Load Titanic dataset\n",
    "import seaborn as sns\n",
    "df = sns.load_dataset(\"titanic\")\n",
    "\n",
    "# Feature Engineering\n",
    "df['family_size'] = df['sibsp'] + df['parch'] + 1\n",
    "df['family_group'] = pd.cut(df['family_size'], bins=[0,1,4,20], labels=['Solo','Small Family (2-4)','Large Family (5+)'])\n",
    "\n",
    "# Initialize Dash app\n",
    "app = dash.Dash(__name__)\n",
    "app.title = \"Titanic EDA Dashboard\"\n",
    "\n",
    "# Layout\n",
    "app.layout = html.Div([\n",
    "    html.H1(\"🚢 Titanic Exploratory Data Analysis Dashboard\", style={'textAlign': 'center'}),\n",
    "\n",
    "    dcc.Tabs([\n",
    "\n",
    "        # Tab 1 - Survival Overview\n",
    "        dcc.Tab(label='Survival Overview', children=[\n",
    "            html.H2(\"Overall Survival Rate\"),\n",
    "            dcc.Graph(\n",
    "                figure=px.pie(df, names=\"survived\", hole=0.4,\n",
    "                              color=\"survived\",\n",
    "                              color_discrete_map={0:\"lightcoral\", 1:\"lightskyblue\"},\n",
    "                              title=\"Overall Survival Proportion\")\n",
    "            ),\n",
    "            html.H2(\"Survival by Gender\"),\n",
    "            dcc.Graph(\n",
    "                figure=px.histogram(df, x=\"sex\", color=\"survived\", barmode=\"group\",\n",
    "                                    title=\"Survival by Gender\")\n",
    "            ),\n",
    "            html.H2(\"Survival by Passenger Class\"),\n",
    "            dcc.Graph(\n",
    "                figure=px.histogram(df, x=\"pclass\", color=\"survived\", barmode=\"group\",\n",
    "                                    title=\"Survival by Class\")\n",
    "            ),\n",
    "        ]),\n",
    "\n",
    "        # Tab 2 - Family & Age\n",
    "        dcc.Tab(label='Family & Age', children=[\n",
    "            html.H2(\"Survival by Family Group\"),\n",
    "            dcc.Graph(\n",
    "                figure=px.bar(df, x=\"family_group\", y=\"survived\", color=\"family_group\",\n",
    "                              title=\"Survival Probability by Family Group\", barmode=\"group\")\n",
    "            ),\n",
    "            html.H2(\"Age Distribution: Survived vs Died\"),\n",
    "            dcc.Graph(\n",
    "                figure=px.histogram(df, x=\"age\", color=\"survived\", nbins=30,\n",
    "                                    barmode=\"overlay\", opacity=0.6,\n",
    "                                    title=\"Age Distribution by Survival\")\n",
    "            ),\n",
    "        ]),\n",
    "\n",
    "        # Tab 3 - Fares & Embarkation\n",
    "        dcc.Tab(label='Fare & Embarkation', children=[\n",
    "            html.H2(\"Age vs Fare (Bubble = Family Size)\"),\n",
    "            dcc.Graph(\n",
    "                figure=px.scatter(df, x=\"age\", y=\"fare\", color=\"survived\",\n",
    "                                  size=\"family_size\", hover_data=[\"pclass\",\"sex\"],\n",
    "                                  title=\"Age vs Fare with Family Size\")\n",
    "            ),\n",
    "            html.H2(\"Survival by Embarkation Port\"),\n",
    "            dcc.Graph(\n",
    "                figure=px.pie(df, names=\"embarked\", values=\"survived\", hole=0.3,\n",
    "                              title=\"Survival by Embarkation Port\")\n",
    "            ),\n",
    "        ]),\n",
    "    ])\n",
    "])\n",
    "\n",
    "# Run server\n",
    "if __name__ == '__main__':\n",
    "    app.run(debug=True)\n"
   ]
  },
  {
   "cell_type": "code",
   "execution_count": null,
   "id": "1d3e79d7-0558-4d50-bdb8-7cfe7c77e7be",
   "metadata": {},
   "outputs": [],
   "source": []
  }
 ],
 "metadata": {
  "kernelspec": {
   "display_name": "Python 3 (ipykernel)",
   "language": "python",
   "name": "python3"
  },
  "language_info": {
   "codemirror_mode": {
    "name": "ipython",
    "version": 3
   },
   "file_extension": ".py",
   "mimetype": "text/x-python",
   "name": "python",
   "nbconvert_exporter": "python",
   "pygments_lexer": "ipython3",
   "version": "3.12.5"
  }
 },
 "nbformat": 4,
 "nbformat_minor": 5
}
